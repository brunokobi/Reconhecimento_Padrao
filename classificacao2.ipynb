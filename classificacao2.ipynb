{
  "nbformat": 4,
  "nbformat_minor": 0,
  "metadata": {
    "colab": {
      "provenance": [],
      "collapsed_sections": [],
      "authorship_tag": "ABX9TyMjA01CS3TPUlQVZulbVcJQ",
      "include_colab_link": true
    },
    "kernelspec": {
      "name": "python3",
      "display_name": "Python 3"
    },
    "language_info": {
      "name": "python"
    }
  },
  "cells": [
    {
      "cell_type": "markdown",
      "metadata": {
        "id": "view-in-github",
        "colab_type": "text"
      },
      "source": [
        "<a href=\"https://colab.research.google.com/github/brunokobi/Reconhecimento_Padrao/blob/main/classificacao2.ipynb\" target=\"_parent\"><img src=\"https://colab.research.google.com/assets/colab-badge.svg\" alt=\"Open In Colab\"/></a>"
      ]
    },
    {
      "cell_type": "code",
      "execution_count": 28,
      "metadata": {
        "colab": {
          "base_uri": "https://localhost:8080/",
          "height": 561
        },
        "id": "7cuUmpaedN1L",
        "outputId": "b1ed0559-921e-4ea2-b9de-31b801242e27"
      },
      "outputs": [
        {
          "output_type": "display_data",
          "data": {
            "text/plain": [
              "<Figure size 432x288 with 1 Axes>"
            ],
            "image/png": "[encoded data removed]"
          },
          "metadata": {
            "needs_background": "light"
          }
        },
        {
          "output_type": "stream",
          "name": "stderr",
          "text": [
            "WARNING:matplotlib.legend:No handles with labels found to put in legend.\n"
          ]
        },
        {
          "output_type": "display_data",
          "data": {
            "text/plain": [
              "<Figure size 432x288 with 1 Axes>"
            ],
            "image/png": "[encoded data removed]"
          },
          "metadata": {
            "needs_background": "light"
          }
        }
      ],
      "source": [
        "# 1-Carregue uma base de dados de classificação (binária ou multiclasse, mas não multirrótulo) que NÃO esteja nos toy datasets do scikit-learn;\n",
        "# 2-Treine um modelo da classe LogisticRegression do scikit-learn com toda a base;\n",
        "# 3-Calcule o MSE (erro quadrático médio) para todos os exemplos da usada como treino no modelo treinado\n",
        "# 4-Plote 3 gráficos (2D) o MSE em função do atributo intercept_ da classe LogisticRegression. Mantenha os valores do atributo coef_ fixos e varie o\n",
        "# valor de intercept_ entre intercept_ - delta e intercept_ + delta.\n",
        "# 4.1-Diferentemente da tarefa de regressão, o gráfico do erro da classificação, muito provavelmente, não terá a aparência \"bem comportada\" que o gráfico\n",
        "# do erro da regressão teve. Por isso, você precisará encontrar 3 deltas (um para cada gráfico). Cada delta provavelmente apresentará uma impressão\n",
        "#diferente do comportamento da função de erro.\n",
        "# 4.2-O atributo intercept_ da classe LogisticRegression é um array que guarda o valor de interceptação de cada classe do problema da base de dados.\n",
        "#  Portanto, será necessário fazer 3 gráficos para cada valor do intercept_. Exemplo: problema com 3 classes, 9 gráficos.\n",
        "\n",
        "import matplotlib.pyplot as plt\n",
        "import numpy as np\n",
        "\n",
        "from sklearn.svm import l1_min_c\n",
        "from sklearn.datasets import load_iris\n",
        "from sklearn.metrics import mean_squared_error\n",
        "\n",
        "iris = load_iris()\n",
        "X, y = iris.data, iris.target\n",
        "\n",
        "\n",
        "X2 = X[:,1:2]\n",
        "\n",
        "\n",
        "from sklearn.linear_model import LogisticRegression\n",
        "from sklearn.metrics import accuracy_score\n",
        "\n",
        "cs = l1_min_c(X, y, loss=\"log\") * np.logspace(0, 7, 16)\n",
        "\n",
        "modelo = LogisticRegression(\n",
        "    penalty=\"l1\",\n",
        "    solver=\"liblinear\",\n",
        "    tol=1e-6,\n",
        "    max_iter=int(1e6),\n",
        "    warm_start=True,\n",
        "    intercept_scaling=10000.0,\n",
        ")\n",
        "modelo.fit(X,y)\n",
        "ypred = modelo.predict(X)\n",
        "acuracia = accuracy_score(y, ypred)\n",
        "mse = mean_squared_error(y, ypred)\n",
        "\n",
        "\n",
        "plt.plot(X2, ypred, 'ro', label=f\"acurácia: {acuracia}\", alpha=0.5)\n",
        "plt.legend()\n",
        "plt.show()\n",
        "\n",
        "coefs_ = []\n",
        "mse_ = []\n",
        "for c in cs:\n",
        "    modelo.set_params(C=c)\n",
        "    modelo.fit(X2,y)\n",
        "    mse_.append(mean_squared_error(y, ypred))\n",
        "    coefs_.append(modelo.coef_.ravel().copy())\n",
        "coefs_ = np.array(coefs_)\n",
        "\n",
        "\n",
        "plt.plot(np.log10(cs), coefs_, marker=\"o\",)\n",
        "ymin, ymax = plt.ylim()\n",
        "plt.xlabel(\"log(C)\")\n",
        "plt.ylabel(\"Coefficients\")\n",
        "plt.title(\"Logistic Regression Iris\")\n",
        "plt.axis(\"tight\")\n",
        "plt.legend()\n",
        "plt.show()"
      ]
    },
    {
      "cell_type": "code",
      "source": [
        "# Code source: Gaël Varoquaux\n",
        "# Modified for documentation by Jaques Grobler\n",
        "# License: BSD 3 clause\n",
        "\n",
        "import matplotlib.pyplot as plt\n",
        "from sklearn.linear_model import LogisticRegression\n",
        "from sklearn import datasets\n",
        "from sklearn.inspection import DecisionBoundaryDisplay\n",
        "\n",
        "# import some data to play with\n",
        "iris = datasets.load_iris()\n",
        "X = iris.data[:, :2]  # we only take the first two features.\n",
        "Y = iris.target\n",
        "\n",
        "# Create an instance of Logistic Regression Classifier and fit the data.\n",
        "logreg = LogisticRegression(C=1e5)\n",
        "logreg.fit(X, Y)\n",
        "\n",
        "_, ax = plt.subplots(figsize=(4, 3))\n",
        "DecisionBoundaryDisplay.from_estimator(\n",
        "    logreg,\n",
        "    X,\n",
        "    cmap=plt.cm.Paired,\n",
        "    ax=ax,\n",
        "    response_method=\"predict\",\n",
        "    plot_method=\"pcolormesh\",\n",
        "    shading=\"auto\",\n",
        "    xlabel=\"Sepal length\",\n",
        "    ylabel=\"Sepal width\",\n",
        "    eps=0.5,\n",
        ")\n",
        "\n",
        "# Plot also the training points\n",
        "plt.scatter(X[:, 0], X[:, 1], c=Y, edgecolors=\"k\", cmap=plt.cm.Paired)\n",
        "\n",
        "\n",
        "plt.xticks(())\n",
        "plt.yticks(())\n",
        "\n",
        "plt.show()"
      ],
      "metadata": {
        "colab": {
          "base_uri": "https://localhost:8080/",
          "height": 409
        },
        "id": "Ta8tNDaqLPq5",
        "outputId": "ff6b1b00-a0bb-4050-83ef-7b6f44d6c273"
      },
      "execution_count": 29,
      "outputs": [
        {
          "output_type": "error",
          "ename": "ImportError",
          "evalue": "ignored",
          "traceback": [
            "\u001b[0;31m---------------------------------------------------------------------------\u001b[0m",
            "\u001b[0;31mImportError\u001b[0m                               Traceback (most recent call last)",
            "\u001b[0;32m<ipython-input-29-cd0582e1c5d1>\u001b[0m in \u001b[0;36m<module>\u001b[0;34m\u001b[0m\n\u001b[1;32m      6\u001b[0m \u001b[0;32mfrom\u001b[0m \u001b[0msklearn\u001b[0m\u001b[0;34m.\u001b[0m\u001b[0mlinear_model\u001b[0m \u001b[0;32mimport\u001b[0m \u001b[0mLogisticRegression\u001b[0m\u001b[0;34m\u001b[0m\u001b[0;34m\u001b[0m\u001b[0m\n\u001b[1;32m      7\u001b[0m \u001b[0;32mfrom\u001b[0m \u001b[0msklearn\u001b[0m \u001b[0;32mimport\u001b[0m \u001b[0mdatasets\u001b[0m\u001b[0;34m\u001b[0m\u001b[0;34m\u001b[0m\u001b[0m\n\u001b[0;32m----> 8\u001b[0;31m \u001b[0;32mfrom\u001b[0m \u001b[0msklearn\u001b[0m\u001b[0;34m.\u001b[0m\u001b[0minspection\u001b[0m \u001b[0;32mimport\u001b[0m \u001b[0mDecisionBoundaryDisplay\u001b[0m\u001b[0;34m\u001b[0m\u001b[0;34m\u001b[0m\u001b[0m\n\u001b[0m\u001b[1;32m      9\u001b[0m \u001b[0;34m\u001b[0m\u001b[0m\n\u001b[1;32m     10\u001b[0m \u001b[0;31m# import some data to play with\u001b[0m\u001b[0;34m\u001b[0m\u001b[0;34m\u001b[0m\u001b[0;34m\u001b[0m\u001b[0m\n",
            "\u001b[0;31mImportError\u001b[0m: cannot import name 'DecisionBoundaryDisplay' from 'sklearn.inspection' (/usr/local/lib/python3.7/dist-packages/sklearn/inspection/__init__.py)",
            "",
            "\u001b[0;31m---------------------------------------------------------------------------\u001b[0;32m\nNOTE: If your import is failing due to a missing package, you can\nmanually install dependencies using either !pip or !apt.\n\nTo view examples of installing some common dependencies, click the\n\"Open Examples\" button below.\n\u001b[0;31m---------------------------------------------------------------------------\u001b[0m\n"
          ],
          "errorDetails": {
            "actions": [
              {
                "action": "open_url",
                "actionText": "Open Examples",
                "url": "/notebooks/snippets/importing_libraries.ipynb"
              }
            ]
          }
        }
      ]
    }
  ]
}