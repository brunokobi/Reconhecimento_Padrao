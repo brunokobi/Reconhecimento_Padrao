{
  "nbformat": 4,
  "nbformat_minor": 0,
  "metadata": {
    "colab": {
      "provenance": [],
      "collapsed_sections": [],
      "authorship_tag": "ABX9TyNVY5HsMj1cNo6YuFgYaMWz",
      "include_colab_link": true
    },
    "kernelspec": {
      "name": "python3",
      "display_name": "Python 3"
    },
    "language_info": {
      "name": "python"
    }
  },
  "cells": [
    {
      "cell_type": "markdown",
      "metadata": {
        "id": "view-in-github",
        "colab_type": "text"
      },
      "source": [
        "<a href=\"https://colab.research.google.com/github/brunokobi/Reconhecimento_Padrao/blob/main/regressao.ipynb\" target=\"_parent\"><img src=\"https://colab.research.google.com/assets/colab-badge.svg\" alt=\"Open In Colab\"/></a>"
      ]
    },
    {
      "cell_type": "code",
      "source": [
        "import numpy as np\n",
        "import matplotlib.pylab as plt\n",
        "from sklearn.metrics import mean_squared_error\n",
        "from sklearn.datasets import load_boston\n",
        "\n",
        "boston = load_boston()\n",
        "boston.keys()\n",
        "\n",
        "X, y = boston.data, boston.target\n",
        "X12 = X[:, 12:13]\n",
        "\n",
        "\n",
        "\n"
      ],
      "metadata": {
        "colab": {
          "base_uri": "https://localhost:8080/"
        },
        "id": "4Y_bXVvz5o3w",
        "outputId": "95068e03-1533-42b5-8650-9ce993b695a4"
      },
      "execution_count": 18,
      "outputs": [
        {
          "output_type": "stream",
          "name": "stderr",
          "text": [
            "/usr/local/lib/python3.7/dist-packages/sklearn/utils/deprecation.py:87: FutureWarning: Function load_boston is deprecated; `load_boston` is deprecated in 1.0 and will be removed in 1.2.\n",
            "\n",
            "    The Boston housing prices dataset has an ethical problem. You can refer to\n",
            "    the documentation of this function for further details.\n",
            "\n",
            "    The scikit-learn maintainers therefore strongly discourage the use of this\n",
            "    dataset unless the purpose of the code is to study and educate about\n",
            "    ethical issues in data science and machine learning.\n",
            "\n",
            "    In this special case, you can fetch the dataset from the original\n",
            "    source::\n",
            "\n",
            "        import pandas as pd\n",
            "        import numpy as np\n",
            "\n",
            "\n",
            "        data_url = \"http://lib.stat.cmu.edu/datasets/boston\"\n",
            "        raw_df = pd.read_csv(data_url, sep=\"\\s+\", skiprows=22, header=None)\n",
            "        data = np.hstack([raw_df.values[::2, :], raw_df.values[1::2, :2]])\n",
            "        target = raw_df.values[1::2, 2]\n",
            "\n",
            "    Alternative datasets include the California housing dataset (i.e.\n",
            "    :func:`~sklearn.datasets.fetch_california_housing`) and the Ames housing\n",
            "    dataset. You can load the datasets as follows::\n",
            "\n",
            "        from sklearn.datasets import fetch_california_housing\n",
            "        housing = fetch_california_housing()\n",
            "\n",
            "    for the California housing dataset and::\n",
            "\n",
            "        from sklearn.datasets import fetch_openml\n",
            "        housing = fetch_openml(name=\"house_prices\", as_frame=True)\n",
            "\n",
            "    for the Ames housing dataset.\n",
            "    \n",
            "  warnings.warn(msg, category=FutureWarning)\n"
          ]
        }
      ]
    },
    {
      "cell_type": "code",
      "source": [
        "class regressao_linear():\n",
        "    def __init__(self):\n",
        "        self.w = np.zeros((2,1))\n",
        "        \n",
        "    @staticmethod\n",
        "    def addBias(X):\n",
        "        bias = np.ones((X.shape[0],1))\n",
        "        X_b = np.concatenate((bias,X),axis=1)\n",
        "        return X_b\n",
        "\n",
        "    def fit(self,X,y):\n",
        "        X_b = self.addBias(X)\n",
        "        for _ in range(500):\n",
        "            ypred = self.predict(X)\n",
        "            erro = ypred - y.reshape(-1,1)\n",
        "            ajuste = X_b.T.dot(erro)/sum(X_b).reshape(-1, 1)\n",
        "            self.w = self.w - 0.1*ajuste\n",
        "\n",
        "    def predict(self, X):\n",
        "        X_b = self.addBias(X)\n",
        "        y = X_b.dot(self.w)\n",
        "        return y\n",
        "\n",
        "modelo = regressao_linear()\n",
        "modelo.fit(X12, y)\n",
        "ypred = modelo.predict(X12)"
      ],
      "metadata": {
        "id": "zFynnuAn8uDe"
      },
      "execution_count": 19,
      "outputs": []
    },
    {
      "cell_type": "code",
      "source": [
        "w0 = np.linspace(33, 36, 30)\n",
        "w1 = np.linspace(-1, -0.8, 30)\n",
        "\n",
        "def z_function(W0, W1):\n",
        "    modelo = regressao_linear()\n",
        "    Erro = np.empty(W0.shape)\n",
        "    for j in range(Erro.shape[0]):\n",
        "        for k in range(Erro.shape[1]):\n",
        "            modelo.w[0] = W0[j][k]\n",
        "            modelo.w[1] = W1[j][k]\n",
        "            ypred = modelo.predict(X12)\n",
        "            mse = mean_squared_error(y, ypred)\n",
        "            Erro[j][k] = mse\n",
        "    return Erro\n",
        "W0, W1 = np.meshgrid(w0, w1)\n",
        "Erro = z_function(W0, W1)\n",
        "plt.ylabel(\"Erro\")\n",
        "plt.xlabel(\"W0\")\n",
        "i=8\n",
        "plt.plot(W0[i,:],Erro[i,:])\n",
        "plt.show()\n"
      ],
      "metadata": {
        "colab": {
          "base_uri": "https://localhost:8080/",
          "height": 279
        },
        "id": "IrNNsykO81It",
        "outputId": "814b0873-7ac3-4f46-b770-42dfdf60d624"
      },
      "execution_count": 20,
      "outputs": [
        {
          "output_type": "display_data",
          "data": {
            "text/plain": [
              "<Figure size 432x288 with 1 Axes>"
            ],
            "image/png": "[encoded data removed]"
          },
          "metadata": {
            "needs_background": "light"
          }
        }
      ]
    }
  ]
}