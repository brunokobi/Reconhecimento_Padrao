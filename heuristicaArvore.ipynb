{
  "nbformat": 4,
  "nbformat_minor": 0,
  "metadata": {
    "colab": {
      "provenance": [],
      "toc_visible": true,
      "authorship_tag": "ABX9TyOGPIBiPB/4arQVb8EAJD+o",
      "include_colab_link": true
    },
    "kernelspec": {
      "name": "python3",
      "display_name": "Python 3"
    },
    "language_info": {
      "name": "python"
    }
  },
  "cells": [
    {
      "cell_type": "markdown",
      "metadata": {
        "id": "view-in-github",
        "colab_type": "text"
      },
      "source": [
        "<a href=\"https://colab.research.google.com/github/brunokobi/Reconhecimento_Padrao/blob/main/heuristicaArvore.ipynb\" target=\"_parent\"><img src=\"https://colab.research.google.com/assets/colab-badge.svg\" alt=\"Open In Colab\"/></a>"
      ]
    },
    {
      "cell_type": "code",
      "source": [
        "from sklearn.datasets import load_iris\n",
        "iris = load_iris()\n",
        "X, y = iris.data[:,2:], iris.target"
      ],
      "metadata": {
        "id": "3Idtr0K3jg3v"
      },
      "execution_count": 86,
      "outputs": []
    },
    {
      "cell_type": "code",
      "source": [
        "from sklearn.metrics import accuracy_score\n",
        "import numpy as np\n",
        "from collections import Counter\n",
        "\n",
        "def maisFrequente(y):\n",
        "    return Counter(y.flat).most_common(1)[0][0]\n",
        "\n",
        "class ZeroR():\n",
        "    def fit(self, X, y):\n",
        "        self.resposta = maisFrequente(y)\n",
        "    def predict(self, X):\n",
        "        y = np.empty((X.shape[0]))\n",
        "        y[:] = self.resposta\n",
        "        return y\n",
        "\n",
        "modelo = ZeroR()\n",
        "modelo.fit(X,y)\n",
        "ypred = modelo.predict(X)\n",
        "accuracy_score(y, ypred), (ypred == y)"
      ],
      "metadata": {
        "colab": {
          "base_uri": "https://localhost:8080/"
        },
        "id": "SI1ZZjjMjkci",
        "outputId": "087de6be-35b6-45a5-ef1c-35128dd57ec0"
      },
      "execution_count": 87,
      "outputs": [
        {
          "output_type": "execute_result",
          "data": {
            "text/plain": [
              "(0.3333333333333333,\n",
              " array([ True,  True,  True,  True,  True,  True,  True,  True,  True,\n",
              "         True,  True,  True,  True,  True,  True,  True,  True,  True,\n",
              "         True,  True,  True,  True,  True,  True,  True,  True,  True,\n",
              "         True,  True,  True,  True,  True,  True,  True,  True,  True,\n",
              "         True,  True,  True,  True,  True,  True,  True,  True,  True,\n",
              "         True,  True,  True,  True,  True, False, False, False, False,\n",
              "        False, False, False, False, False, False, False, False, False,\n",
              "        False, False, False, False, False, False, False, False, False,\n",
              "        False, False, False, False, False, False, False, False, False,\n",
              "        False, False, False, False, False, False, False, False, False,\n",
              "        False, False, False, False, False, False, False, False, False,\n",
              "        False, False, False, False, False, False, False, False, False,\n",
              "        False, False, False, False, False, False, False, False, False,\n",
              "        False, False, False, False, False, False, False, False, False,\n",
              "        False, False, False, False, False, False, False, False, False,\n",
              "        False, False, False, False, False, False, False, False, False,\n",
              "        False, False, False, False, False, False]))"
            ]
          },
          "metadata": {},
          "execution_count": 87
        }
      ]
    },
    {
      "cell_type": "code",
      "source": [
        "from sklearn.metrics import accuracy_score\n",
        "import numpy as np\n",
        "from collections import Counter\n",
        "from sklearn.base import BaseEstimator, ClassifierMixin\n",
        "\n",
        "def maisFrequente(y):\n",
        "    return Counter(y.flat).most_common(1)[0][0]\n",
        "\n",
        "class Arvore(BaseEstimator, ClassifierMixin):\n",
        "    def __init__(self):\n",
        "        self.caracteristica = 0\n",
        "    def fit(self, X, y):\n",
        "        self.valor = np.mean(X[:,self.caracteristica])\n",
        "        maiores = X[:,self.caracteristica] > self.valor\n",
        "        if sum(maiores)>0 and sum(~maiores)>0:\n",
        "            self.maiores = Arvore()\n",
        "            self.maiores.fit(X[maiores,:],y[maiores])\n",
        "            self.menores = Arvore()\n",
        "            self.menores.fit(X[~maiores,:],y[~maiores])\n",
        "        else:\n",
        "            self.resposta = maisFrequente(y)\n",
        "    def predict(self, X):\n",
        "        y = np.empty((X.shape[0]))\n",
        "        if hasattr(self, 'resposta'):\n",
        "            y[:] = self.resposta\n",
        "        else:\n",
        "            maiores = X[:,self.caracteristica] > self.valor\n",
        "            y[maiores] = self.maiores.predict(X[maiores,:])\n",
        "            y[~maiores] = self.menores.predict(X[~maiores,:])\n",
        "        return y\n",
        "\n",
        "modelo = Arvore()\n",
        "modelo.fit(X,y)\n",
        "ypred = modelo.predict(X)\n",
        "accuracy_score(y, ypred), (ypred == y)"
      ],
      "metadata": {
        "colab": {
          "base_uri": "https://localhost:8080/"
        },
        "id": "EURoY1BTjm4v",
        "outputId": "11cd1280-16c6-4df4-9c8e-04210dc8ceaf"
      },
      "execution_count": 88,
      "outputs": [
        {
          "output_type": "execute_result",
          "data": {
            "text/plain": [
              "(0.9533333333333334,\n",
              " array([ True,  True,  True,  True,  True,  True,  True,  True,  True,\n",
              "         True,  True,  True,  True,  True,  True,  True,  True,  True,\n",
              "         True,  True,  True,  True,  True,  True,  True,  True,  True,\n",
              "         True,  True,  True,  True,  True,  True,  True,  True,  True,\n",
              "         True,  True,  True,  True,  True,  True,  True,  True,  True,\n",
              "         True,  True,  True,  True,  True,  True,  True, False,  True,\n",
              "         True,  True,  True,  True,  True,  True,  True,  True,  True,\n",
              "         True,  True,  True,  True,  True,  True,  True,  True,  True,\n",
              "        False,  True,  True,  True,  True, False,  True,  True,  True,\n",
              "         True,  True, False,  True,  True,  True,  True,  True,  True,\n",
              "         True,  True,  True,  True,  True,  True,  True,  True,  True,\n",
              "         True,  True,  True,  True,  True,  True,  True, False,  True,\n",
              "         True,  True,  True,  True,  True,  True,  True,  True,  True,\n",
              "         True,  True,  True,  True,  True,  True,  True,  True,  True,\n",
              "        False,  True,  True,  True,  True,  True,  True,  True,  True,\n",
              "         True,  True,  True, False,  True,  True,  True,  True,  True,\n",
              "         True,  True,  True,  True,  True,  True]))"
            ]
          },
          "metadata": {},
          "execution_count": 88
        }
      ]
    },
    {
      "cell_type": "code",
      "source": [
        "import matplotlib.pyplot as plt\n",
        "\n",
        "def plotDecisao(modelo, X, y):\n",
        "    modelo.fit(X, y)\n",
        "    x0s = np.linspace(np.min(X[:,0])-0.2, np.max(X[:,0])+0.2, 100)\n",
        "    x1s = np.linspace(np.min(X[:,1])-0.2, np.max(X[:,1])+0.2, 100)\n",
        "    x0, x1 = np.meshgrid(x0s, x1s)\n",
        "    Xdec = np.c_[x0.ravel(), x1.ravel()]\n",
        "    ypred = modelo.predict(Xdec)\n",
        "    plt.contourf(x0, x1, ypred.reshape(x0.shape), alpha=0.25)\n",
        "    for k in set(y):\n",
        "        plt.plot(X[:,0][y==k], X[:,1][y==k], 'o', label=f\"{iris.target_names[k]} [{k}]\")\n",
        "    plt.xlabel(f\"X[0]: {iris.feature_names[0]}\")\n",
        "    plt.ylabel(f\"X[1]: {iris.feature_names[1]}\")\n",
        "    plt.show()\n",
        "\n",
        "plotDecisao(Arvore(), X, y)"
      ],
      "metadata": {
        "colab": {
          "base_uri": "https://localhost:8080/",
          "height": 279
        },
        "id": "-fn3ev-ojrGm",
        "outputId": "e208fc4d-6345-48e3-942b-9f3a74aaa36f"
      },
      "execution_count": 89,
      "outputs": [
        {
          "output_type": "display_data",
          "data": {
            "text/plain": [
              "<Figure size 432x288 with 1 Axes>"
            ],
            "image/png": "[encoded data removed]"
          },
          "metadata": {
            "needs_background": "light"
          }
        }
      ]
    },
    {
      "cell_type": "code",
      "source": [
        "from sklearn.tree import DecisionTreeClassifier\n",
        "plotDecisao(DecisionTreeClassifier(), X, y)"
      ],
      "metadata": {
        "colab": {
          "base_uri": "https://localhost:8080/",
          "height": 279
        },
        "id": "WYiKNzrxjwfd",
        "outputId": "f0f6fb62-fb94-46e3-e1f4-f29d9572e0d0"
      },
      "execution_count": 90,
      "outputs": [
        {
          "output_type": "display_data",
          "data": {
            "text/plain": [
              "<Figure size 432x288 with 1 Axes>"
            ],
            "image/png": "[encoded data removed]"
          },
          "metadata": {
            "needs_background": "light"
          }
        }
      ]
    },
    {
      "cell_type": "code",
      "source": [
        "from sklearn.neighbors import KNeighborsClassifier\n",
        "plotDecisao(KNeighborsClassifier(), X, y)"
      ],
      "metadata": {
        "colab": {
          "base_uri": "https://localhost:8080/",
          "height": 279
        },
        "id": "K__xQvmqj0Mb",
        "outputId": "cd29677f-f45f-40d8-b6f2-53e818ec219c"
      },
      "execution_count": 91,
      "outputs": [
        {
          "output_type": "display_data",
          "data": {
            "text/plain": [
              "<Figure size 432x288 with 1 Axes>"
            ],
            "image/png": "[encoded data removed]"
          },
          "metadata": {
            "needs_background": "light"
          }
        }
      ]
    },
    {
      "cell_type": "code",
      "source": [
        "from sklearn.linear_model import LogisticRegression\n",
        "plotDecisao(LogisticRegression(), X, y)"
      ],
      "metadata": {
        "colab": {
          "base_uri": "https://localhost:8080/",
          "height": 279
        },
        "id": "X5OfYiYgj3JI",
        "outputId": "228619d5-c0ee-4d04-84e9-9e8ffb00dab5"
      },
      "execution_count": 92,
      "outputs": [
        {
          "output_type": "display_data",
          "data": {
            "text/plain": [
              "<Figure size 432x288 with 1 Axes>"
            ],
            "image/png": "[encoded data removed]"
          },
          "metadata": {
            "needs_background": "light"
          }
        }
      ]
    },
    {
      "cell_type": "code",
      "source": [
        "def impureza(y): #Gini\n",
        "    labels = list(set(y))\n",
        "    labels.sort()\n",
        "    probabilidades = np.zeros((len(labels),))\n",
        "    for i,k in enumerate(labels):\n",
        "        probabilidades[i] = sum(y==k)/len(y)\n",
        "    result = 1 - sum(probabilidades**2)\n",
        "    return result\n",
        "\n",
        "ytmp = y[:]\n",
        "valor = impureza(ytmp)\n",
        "valor"
      ],
      "metadata": {
        "colab": {
          "base_uri": "https://localhost:8080/"
        },
        "id": "ADyYmDRWj8Dr",
        "outputId": "625163b2-e210-40dd-ee1d-2336066b636a"
      },
      "execution_count": 93,
      "outputs": [
        {
          "output_type": "execute_result",
          "data": {
            "text/plain": [
              "0.6666666666666667"
            ]
          },
          "metadata": {},
          "execution_count": 93
        }
      ]
    },
    {
      "cell_type": "code",
      "source": [
        "def impurezaValor(x, y, valor):\n",
        "    maiores = x>valor\n",
        "    impurezaMaiores = impureza(y[maiores])\n",
        "    propMaiores = sum(maiores)/len(y)\n",
        "    impurezaMenores = impureza(y[~maiores])\n",
        "    propMenores = sum(~maiores)/len(y)\n",
        "    impurezaTotal = propMaiores*impurezaMaiores + propMenores*impurezaMenores\n",
        "    return impurezaTotal, impurezaMaiores, impurezaMenores\n",
        "impurezaValor(X[:,0], y, 2.5)  "
      ],
      "metadata": {
        "colab": {
          "base_uri": "https://localhost:8080/"
        },
        "id": "HpYVnM1lj_PS",
        "outputId": "cf3bf838-b2b0-4e3e-e59c-68e0e8d05087"
      },
      "execution_count": 94,
      "outputs": [
        {
          "output_type": "execute_result",
          "data": {
            "text/plain": [
              "(0.3333333333333333, 0.5, 0.0)"
            ]
          },
          "metadata": {},
          "execution_count": 94
        }
      ]
    },
    {
      "cell_type": "code",
      "source": [
        "plotDecisao(Arvore(),X,y)"
      ],
      "metadata": {
        "colab": {
          "base_uri": "https://localhost:8080/",
          "height": 279
        },
        "id": "xYsG6E1NkDWR",
        "outputId": "8ecfff63-087c-413a-8bc6-c67d9a03c269"
      },
      "execution_count": 95,
      "outputs": [
        {
          "output_type": "display_data",
          "data": {
            "text/plain": [
              "<Figure size 432x288 with 1 Axes>"
            ],
            "image/png": "[encoded data removed]"
          },
          "metadata": {
            "needs_background": "light"
          }
        }
      ]
    },
    {
      "cell_type": "code",
      "source": [
        "def melhorValor(x, y):\n",
        "    result = None\n",
        "    menorImpureza = float('inf')\n",
        "    xmax = np.max(x)\n",
        "    xmin = np.min(x)\n",
        "    while True:\n",
        "        valor = (xmin+xmax)/2\n",
        "        impTotal, impMaiores, impMenores = impurezaValor(x, y, valor)\n",
        "        if impTotal < menorImpureza:\n",
        "            menorImpureza = impTotal\n",
        "            result = valor\n",
        "            if impMaiores == 0 or impMenores == 0:\n",
        "                break\n",
        "            if impMaiores < impMenores:\n",
        "                xmin = valor\n",
        "            else:\n",
        "                xmax = valor\n",
        "        else:\n",
        "            break\n",
        "    return result, menorImpureza\n",
        "melhorValor(X[:,0], y)"
      ],
      "metadata": {
        "colab": {
          "base_uri": "https://localhost:8080/"
        },
        "id": "H61ZfNILkGMD",
        "outputId": "234c36db-b93c-452f-a43e-1ddd2494e636"
      },
      "execution_count": 96,
      "outputs": [
        {
          "output_type": "execute_result",
          "data": {
            "text/plain": [
              "(2.475, 0.3333333333333333)"
            ]
          },
          "metadata": {},
          "execution_count": 96
        }
      ]
    },
    {
      "cell_type": "code",
      "source": [
        "def melhorCaracteristica(X, y):\n",
        "    impurezas = []\n",
        "    valores = []    \n",
        "    for caracteristica in range(X.shape[1]):\n",
        "        valor, imp = melhorValor(X[:,caracteristica], y)\n",
        "        impurezas.append(imp)\n",
        "        valores.append(valor)\n",
        "    impurezas = np.array(impurezas)\n",
        "    caracteristica = np.argmin(impurezas)\n",
        "    return caracteristica, valores[caracteristica], impurezas[caracteristica]\n",
        "print(melhorCaracteristica(X,y))"
      ],
      "metadata": {
        "colab": {
          "base_uri": "https://localhost:8080/"
        },
        "id": "6f8WkjEFkKy-",
        "outputId": "f55ac2ae-9ad3-4349-d096-07aee30af11b"
      },
      "execution_count": 97,
      "outputs": [
        {
          "output_type": "stream",
          "name": "stdout",
          "text": [
            "(0, 2.475, 0.3333333333333333)\n"
          ]
        }
      ]
    },
    {
      "cell_type": "code",
      "source": [
        "from sklearn.metrics import accuracy_score\n",
        "import numpy as np\n",
        "from collections import Counter\n",
        "from sklearn.base import BaseEstimator, ClassifierMixin\n",
        "\n",
        "\n",
        "def maisFrequente(y):\n",
        "    return Counter(y.flat).most_common(1)[0][0]\n",
        "\n",
        "class Arvore(BaseEstimator, ClassifierMixin): \n",
        "    def fit(self, X, y):                \n",
        "        self.caracteristica, self.valor, self.imp = melhorCaracteristica(X,y)\n",
        "        maiores = X[:,self.caracteristica] > self.valor\n",
        "        if sum(maiores)>0 and sum(~maiores)>0:\n",
        "            self.maiores = Arvore()\n",
        "            self.maiores.fit(X[maiores,:],y[maiores])\n",
        "            self.menores = Arvore()\n",
        "            self.menores.fit(X[~maiores,:],y[~maiores])\n",
        "        else:\n",
        "            self.resposta = maisFrequente(y)\n",
        "    def predict(self, X):      \n",
        "        y = np.empty((X.shape[0]))\n",
        "        if hasattr(self, 'resposta'):\n",
        "            y[:] = self.resposta\n",
        "        else:\n",
        "            maiores = X[:,self.caracteristica] > self.valor\n",
        "            y[maiores] = self.maiores.predict(X[maiores,:])\n",
        "            y[~maiores] = self.menores.predict(X[~maiores,:])\n",
        "        return y\n",
        "\n",
        "modelo = Arvore()\n",
        "modelo.fit(X,y)\n",
        "ypred = modelo.predict(X)\n",
        "accuracy_score(y, ypred), (ypred == y)"
      ],
      "metadata": {
        "colab": {
          "base_uri": "https://localhost:8080/"
        },
        "id": "rX9Wzin0kNgc",
        "outputId": "7af462aa-d9ae-44ca-8ddf-30a39d9cc716"
      },
      "execution_count": 113,
      "outputs": [
        {
          "output_type": "execute_result",
          "data": {
            "text/plain": [
              "(0.6133333333333333,\n",
              " array([ True,  True,  True,  True,  True,  True,  True,  True,  True,\n",
              "         True,  True,  True,  True,  True,  True, False, False,  True,\n",
              "         True,  True,  True, False,  True, False,  True,  True,  True,\n",
              "         True,  True,  True,  True, False,  True,  True,  True,  True,\n",
              "         True,  True,  True,  True,  True,  True,  True, False,  True,\n",
              "         True,  True,  True,  True,  True,  True,  True,  True,  True,\n",
              "         True,  True,  True,  True,  True,  True,  True,  True, False,\n",
              "         True,  True,  True,  True, False,  True,  True,  True,  True,\n",
              "         True,  True,  True,  True,  True,  True,  True,  True,  True,\n",
              "         True,  True,  True,  True,  True,  True,  True,  True,  True,\n",
              "         True,  True,  True,  True,  True,  True,  True,  True,  True,\n",
              "         True, False, False, False, False, False, False, False, False,\n",
              "        False, False, False, False, False, False, False, False, False,\n",
              "        False, False, False, False, False, False, False, False, False,\n",
              "        False, False, False, False, False, False, False, False, False,\n",
              "        False, False, False, False, False, False, False, False, False,\n",
              "        False, False, False, False, False, False]))"
            ]
          },
          "metadata": {},
          "execution_count": 113
        }
      ]
    },
    {
      "cell_type": "code",
      "source": [
        "plotDecisao(Arvore(), X, y)\n",
        "\n"
      ],
      "metadata": {
        "colab": {
          "base_uri": "https://localhost:8080/",
          "height": 279
        },
        "id": "xEI-8jDydfJY",
        "outputId": "c4c95019-b1ce-4392-e0e5-b1dd892ce467"
      },
      "execution_count": 114,
      "outputs": [
        {
          "output_type": "display_data",
          "data": {
            "text/plain": [
              "<Figure size 432x288 with 1 Axes>"
            ],
            "image/png": "[encoded data removed]"
          },
          "metadata": {
            "needs_background": "light"
          }
        }
      ]
    },
    {
      "cell_type": "code",
      "source": [
        "from sklearn.model_selection import cross_validate\n",
        "scores = cross_validate(Arvore(), X, y)\n",
        "scores['test_score'], np.mean(scores['test_score'])"
      ],
      "metadata": {
        "colab": {
          "base_uri": "https://localhost:8080/"
        },
        "id": "C2FDBvL9kSt-",
        "outputId": "5e8c7f2e-7c39-4656-c4ab-c9f85b2aa6e6"
      },
      "execution_count": 104,
      "outputs": [
        {
          "output_type": "execute_result",
          "data": {
            "text/plain": [
              "(array([0.96666667, 0.96666667, 0.9       , 0.93333333, 1.        ]),\n",
              " 0.9533333333333334)"
            ]
          },
          "metadata": {},
          "execution_count": 104
        }
      ]
    },
    {
      "cell_type": "markdown",
      "source": [
        "BRUNO "
      ],
      "metadata": {
        "id": "MQMqMswWhvQb"
      }
    },
    {
      "cell_type": "markdown",
      "source": [
        "**Escolha de Caracteristicas Random**"
      ],
      "metadata": {
        "id": "cbnIXPefBA26"
      }
    },
    {
      "cell_type": "code",
      "source": [
        "def melhorValor2(x, y):\n",
        "    result = None\n",
        "    menorImpureza = float('inf')\n",
        "    xmax = np.max(x)\n",
        "    xmin = np.min(x)\n",
        "    xmedian = np.median(x)\n",
        "    xmedia =np.mean(x)\n",
        "\n",
        "    while True:\n",
        "        valor = (xmin+xmax+xmedia+xmedian)/4\n",
        "        impTotal, impMaiores, impMenores = impurezaValor(x, y, valor)\n",
        "        if impTotal < menorImpureza:\n",
        "            menorImpureza = impTotal\n",
        "            result = valor\n",
        "            if impMaiores == 0 or impMenores == 0:\n",
        "                break\n",
        "            if impMaiores < impMenores:\n",
        "                xmin = valor\n",
        "            else:\n",
        "                xmax = valor\n",
        "        else:\n",
        "            break\n",
        "    return result, menorImpureza\n",
        "melhorValor2(X[:,0], y)"
      ],
      "metadata": {
        "colab": {
          "base_uri": "https://localhost:8080/"
        },
        "id": "8RJhqfh2ZEas",
        "outputId": "6007a825-4dc3-484b-cf04-037b83c6b16a"
      },
      "execution_count": 284,
      "outputs": [
        {
          "output_type": "execute_result",
          "data": {
            "text/plain": [
              "(3.2775000000000003, 0.3430382253911666)"
            ]
          },
          "metadata": {},
          "execution_count": 284
        }
      ]
    },
    {
      "cell_type": "code",
      "source": [
        "from random import randrange\n",
        "from sklearn import preprocessing\n",
        "nc = randrange(4)\n",
        "iris = datasets.load_iris()\n",
        "\n",
        "# todas as caracteristicas \n",
        "X2 = iris.data\n",
        "\n",
        "# normalizalização dados\n",
        "X3 = preprocessing.normalize(X2)\n",
        "\n",
        "#media da c1 e c2 , c3 e c4\n",
        "X4 =[]\n",
        "for i in range(150):\n",
        "  M1 =np.mean(X3[i,0:2])\n",
        "  M2 =np.mean(X3[i,2:4])\n",
        "  T = [M1,M2]  \n",
        "  X4.append(T)\n",
        "\n",
        "X5 = np.asarray(X4)\n",
        "\n",
        "def melhorCaracteristica2(X, y):\n",
        "    impurezas = []\n",
        "    valores = []    \n",
        "    for caracteristica in range(X.shape[1]):\n",
        "        valor, imp = melhorValor2(X[:,caracteristica], y)\n",
        "        impurezas.append(imp)\n",
        "        valores.append(valor)\n",
        "    impurezas = np.array(impurezas)\n",
        "    caracteristica = np.argmin(impurezas)\n",
        "    return caracteristica, valores[caracteristica], impurezas[caracteristica]\n",
        "print(melhorCaracteristica2(X5,y))\n",
        "\n"
      ],
      "metadata": {
        "colab": {
          "base_uri": "https://localhost:8080/"
        },
        "id": "wPvCmZLm2xyh",
        "outputId": "0342c523-cac6-4da6-98bd-9fe2f53cdff5"
      },
      "execution_count": 289,
      "outputs": [
        {
          "output_type": "stream",
          "name": "stdout",
          "text": [
            "(0, 0.5983985880671718, 0.3333333333333333)\n"
          ]
        }
      ]
    },
    {
      "cell_type": "markdown",
      "source": [
        "**heuristica Bruno**"
      ],
      "metadata": {
        "id": "ucbEfMf6iUKN"
      }
    },
    {
      "cell_type": "code",
      "source": [
        "from sklearn.metrics import accuracy_score\n",
        "import numpy as np\n",
        "from collections import Counter\n",
        "from sklearn.base import BaseEstimator, ClassifierMixin\n",
        "\n",
        "\n",
        "def maisFrequente(y):\n",
        "    return Counter(y.flat).most_common(1)[0][0]\n",
        "\n",
        "class Arvore(BaseEstimator, ClassifierMixin): \n",
        "    def fit(self, X, y):                \n",
        "        self.caracteristica, self.valor, self.imp = melhorCaracteristica2(X,y)\n",
        "        maiores = X[:,self.caracteristica] > self.valor\n",
        "        if sum(maiores)>0 and sum(~maiores)>0:\n",
        "            self.maiores = Arvore()\n",
        "            self.maiores.fit(X[maiores,:],y[maiores])\n",
        "            self.menores = Arvore()\n",
        "            self.menores.fit(X[~maiores,:],y[~maiores])\n",
        "        else:\n",
        "            self.resposta = maisFrequente(y)\n",
        "    def predict(self, X):      \n",
        "        y = np.empty((X.shape[0]))\n",
        "        if hasattr(self, 'resposta'):\n",
        "            y[:] = self.resposta\n",
        "        else:\n",
        "            maiores = X[:,self.caracteristica] > self.valor\n",
        "            y[maiores] = self.maiores.predict(X[maiores,:])\n",
        "            y[~maiores] = self.menores.predict(X[~maiores,:])\n",
        "        return y\n",
        "\n",
        "modelo = Arvore()\n",
        "modelo.fit(X5,y)\n",
        "ypred = modelo.predict(X5)\n",
        "accuracy_score(y, ypred), (ypred == y)"
      ],
      "metadata": {
        "colab": {
          "base_uri": "https://localhost:8080/"
        },
        "id": "5H-56bKfiNfB",
        "outputId": "6a6e8034-29fc-45af-fefc-95f92c730f40"
      },
      "execution_count": 290,
      "outputs": [
        {
          "output_type": "execute_result",
          "data": {
            "text/plain": [
              "(1.0, array([ True,  True,  True,  True,  True,  True,  True,  True,  True,\n",
              "         True,  True,  True,  True,  True,  True,  True,  True,  True,\n",
              "         True,  True,  True,  True,  True,  True,  True,  True,  True,\n",
              "         True,  True,  True,  True,  True,  True,  True,  True,  True,\n",
              "         True,  True,  True,  True,  True,  True,  True,  True,  True,\n",
              "         True,  True,  True,  True,  True,  True,  True,  True,  True,\n",
              "         True,  True,  True,  True,  True,  True,  True,  True,  True,\n",
              "         True,  True,  True,  True,  True,  True,  True,  True,  True,\n",
              "         True,  True,  True,  True,  True,  True,  True,  True,  True,\n",
              "         True,  True,  True,  True,  True,  True,  True,  True,  True,\n",
              "         True,  True,  True,  True,  True,  True,  True,  True,  True,\n",
              "         True,  True,  True,  True,  True,  True,  True,  True,  True,\n",
              "         True,  True,  True,  True,  True,  True,  True,  True,  True,\n",
              "         True,  True,  True,  True,  True,  True,  True,  True,  True,\n",
              "         True,  True,  True,  True,  True,  True,  True,  True,  True,\n",
              "         True,  True,  True,  True,  True,  True,  True,  True,  True,\n",
              "         True,  True,  True,  True,  True,  True]))"
            ]
          },
          "metadata": {},
          "execution_count": 290
        }
      ]
    },
    {
      "cell_type": "code",
      "source": [
        "plotDecisao(Arvore(), X5, y)"
      ],
      "metadata": {
        "colab": {
          "base_uri": "https://localhost:8080/",
          "height": 279
        },
        "id": "0joRptCrXEaC",
        "outputId": "ba0fa1fe-0aa9-4141-a4d3-1aa0619332ff"
      },
      "execution_count": 291,
      "outputs": [
        {
          "output_type": "display_data",
          "data": {
            "text/plain": [
              "<Figure size 432x288 with 1 Axes>"
            ],
            "image/png": "[encoded data removed]"
          },
          "metadata": {
            "needs_background": "light"
          }
        }
      ]
    }
  ]
}