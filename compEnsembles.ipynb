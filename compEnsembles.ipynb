{
  "nbformat": 4,
  "nbformat_minor": 0,
  "metadata": {
    "colab": {
      "provenance": [],
      "authorship_tag": "ABX9TyP7nRUi8x97XOwKPJgcK2WB",
      "include_colab_link": true
    },
    "kernelspec": {
      "name": "python3",
      "display_name": "Python 3"
    },
    "language_info": {
      "name": "python"
    }
  },
  "cells": [
    {
      "cell_type": "markdown",
      "metadata": {
        "id": "view-in-github",
        "colab_type": "text"
      },
      "source": [
        "<a href=\"https://colab.research.google.com/github/brunokobi/Reconhecimento_Padrao/blob/main/compEnsembles.ipynb\" target=\"_parent\"><img src=\"https://colab.research.google.com/assets/colab-badge.svg\" alt=\"Open In Colab\"/></a>"
      ]
    },
    {
      "cell_type": "markdown",
      "source": [
        "# **Comparação de ensembles**"
      ],
      "metadata": {
        "id": "FqmN4OW9NNjX"
      }
    },
    {
      "cell_type": "code",
      "source": [
        "from sklearn.datasets import fetch_olivetti_faces\n",
        "X, y = fetch_olivetti_faces(return_X_y=True)\n",
        "X.shape, y.shape"
      ],
      "metadata": {
        "colab": {
          "base_uri": "https://localhost:8080/"
        },
        "id": "fg1Z2H3sOpQL",
        "outputId": "64156f15-ce90-46d9-a148-e9dc37e0178e"
      },
      "execution_count": null,
      "outputs": [
        {
          "output_type": "stream",
          "name": "stdout",
          "text": [
            "downloading Olivetti faces from https://ndownloader.figshare.com/files/5976027 to /root/scikit_learn_data\n"
          ]
        },
        {
          "output_type": "execute_result",
          "data": {
            "text/plain": [
              "((400, 4096), (400,))"
            ]
          },
          "metadata": {},
          "execution_count": 1
        }
      ]
    },
    {
      "cell_type": "code",
      "source": [
        "from sklearn.model_selection import train_test_split\n",
        "X_tr, X_te, y_tr, y_te = train_test_split(X, y, random_state=42)\n",
        "X_tr.shape, X_te.shape, y_tr.shape, y_te.shape"
      ],
      "metadata": {
        "colab": {
          "base_uri": "https://localhost:8080/"
        },
        "id": "roH38O_hO4Tj",
        "outputId": "e15ab8de-f2cf-4a77-c5a5-0d6aee392794"
      },
      "execution_count": null,
      "outputs": [
        {
          "output_type": "execute_result",
          "data": {
            "text/plain": [
              "((300, 4096), (100, 4096), (300,), (100,))"
            ]
          },
          "metadata": {},
          "execution_count": 2
        }
      ]
    },
    {
      "cell_type": "code",
      "source": [
        "from sklearn.neighbors import KNeighborsClassifier\n",
        "modelo = KNeighborsClassifier()\n",
        "modelo.fit(X_tr, y_tr)\n",
        "knn_pr = modelo.predict(X_te)\n",
        "knnhits = knn_pr == y_te\n",
        "knnhits, sum(knnhits)/len(knnhits)"
      ],
      "metadata": {
        "colab": {
          "base_uri": "https://localhost:8080/"
        },
        "id": "tJg8IMm4O5wJ",
        "outputId": "7ea922bd-2161-4259-bdcb-aa72ddf576a6"
      },
      "execution_count": null,
      "outputs": [
        {
          "output_type": "execute_result",
          "data": {
            "text/plain": [
              "(array([ True,  True,  True,  True,  True,  True,  True,  True,  True,\n",
              "         True,  True,  True,  True,  True,  True,  True, False,  True,\n",
              "         True,  True,  True,  True, False, False,  True, False,  True,\n",
              "         True,  True,  True, False, False,  True,  True, False,  True,\n",
              "        False, False,  True,  True,  True,  True,  True,  True,  True,\n",
              "        False,  True,  True,  True,  True,  True,  True,  True,  True,\n",
              "         True,  True,  True,  True,  True, False,  True,  True,  True,\n",
              "        False,  True, False,  True,  True, False,  True,  True,  True,\n",
              "        False,  True,  True,  True,  True,  True,  True,  True, False,\n",
              "         True,  True,  True,  True,  True,  True,  True,  True,  True,\n",
              "         True,  True,  True,  True,  True,  True,  True,  True,  True,\n",
              "        False]), 0.83)"
            ]
          },
          "metadata": {},
          "execution_count": 3
        }
      ]
    },
    {
      "cell_type": "code",
      "source": [
        "from sklearn.naive_bayes import GaussianNB\n",
        "modelo = GaussianNB()\n",
        "modelo.fit(X_tr, y_tr)\n",
        "gnb_pr = modelo.predict(X_te)\n",
        "gnbhits = gnb_pr == y_te\n",
        "gnbhits, sum(gnbhits)/len(gnbhits)"
      ],
      "metadata": {
        "colab": {
          "base_uri": "https://localhost:8080/"
        },
        "id": "EUGClwK9PDuS",
        "outputId": "c9f71806-9519-4de6-cf8e-11e99ededd62"
      },
      "execution_count": null,
      "outputs": [
        {
          "output_type": "execute_result",
          "data": {
            "text/plain": [
              "(array([ True,  True,  True,  True,  True,  True,  True,  True,  True,\n",
              "        False,  True,  True,  True, False,  True, False,  True,  True,\n",
              "         True,  True, False,  True,  True,  True,  True,  True,  True,\n",
              "         True,  True, False,  True,  True,  True,  True,  True,  True,\n",
              "        False,  True,  True,  True,  True,  True, False,  True,  True,\n",
              "         True,  True,  True,  True, False,  True,  True,  True, False,\n",
              "         True,  True,  True,  True,  True,  True,  True,  True, False,\n",
              "        False,  True,  True,  True, False,  True, False,  True,  True,\n",
              "        False,  True,  True,  True,  True,  True, False,  True, False,\n",
              "         True,  True,  True,  True,  True,  True,  True, False,  True,\n",
              "         True,  True,  True,  True, False,  True,  True,  True,  True,\n",
              "        False]), 0.81)"
            ]
          },
          "metadata": {},
          "execution_count": 4
        }
      ]
    },
    {
      "cell_type": "code",
      "source": [
        "from sklearn.linear_model import Perceptron\n",
        "modelo = Perceptron()\n",
        "modelo.fit(X_tr, y_tr)\n",
        "per_pr = modelo.predict(X_te)\n",
        "perhits = per_pr == y_te\n",
        "perhits, sum(perhits)/len(perhits)"
      ],
      "metadata": {
        "colab": {
          "base_uri": "https://localhost:8080/"
        },
        "id": "QU48sTrWPGmS",
        "outputId": "a94af6ed-c656-414f-98a5-75440af80fe9"
      },
      "execution_count": null,
      "outputs": [
        {
          "output_type": "execute_result",
          "data": {
            "text/plain": [
              "(array([ True,  True,  True,  True,  True,  True,  True,  True,  True,\n",
              "        False,  True,  True, False,  True,  True, False, False,  True,\n",
              "         True,  True,  True,  True,  True, False,  True,  True,  True,\n",
              "         True,  True,  True,  True,  True,  True, False,  True,  True,\n",
              "         True,  True,  True,  True,  True, False,  True, False,  True,\n",
              "        False,  True,  True,  True,  True, False,  True,  True,  True,\n",
              "         True, False,  True,  True,  True,  True, False,  True,  True,\n",
              "        False,  True,  True,  True, False,  True,  True,  True,  True,\n",
              "        False, False,  True,  True,  True,  True, False,  True, False,\n",
              "         True, False,  True,  True,  True,  True,  True,  True,  True,\n",
              "         True,  True,  True, False,  True,  True, False,  True,  True,\n",
              "        False]), 0.78)"
            ]
          },
          "metadata": {},
          "execution_count": 5
        }
      ]
    },
    {
      "cell_type": "code",
      "source": [
        "import numpy as np\n",
        "hits = np.stack((knnhits, gnbhits, perhits))\n",
        "hits.T"
      ],
      "metadata": {
        "colab": {
          "base_uri": "https://localhost:8080/"
        },
        "id": "RUSMWDcyPH64",
        "outputId": "86b9d40f-d735-4f82-85f0-5803b3a2bb65"
      },
      "execution_count": null,
      "outputs": [
        {
          "output_type": "execute_result",
          "data": {
            "text/plain": [
              "array([[ True,  True,  True],\n",
              "       [ True,  True,  True],\n",
              "       [ True,  True,  True],\n",
              "       [ True,  True,  True],\n",
              "       [ True,  True,  True],\n",
              "       [ True,  True,  True],\n",
              "       [ True,  True,  True],\n",
              "       [ True,  True,  True],\n",
              "       [ True,  True,  True],\n",
              "       [ True, False, False],\n",
              "       [ True,  True,  True],\n",
              "       [ True,  True,  True],\n",
              "       [ True,  True, False],\n",
              "       [ True, False,  True],\n",
              "       [ True,  True,  True],\n",
              "       [ True, False, False],\n",
              "       [False,  True, False],\n",
              "       [ True,  True,  True],\n",
              "       [ True,  True,  True],\n",
              "       [ True,  True,  True],\n",
              "       [ True, False,  True],\n",
              "       [ True,  True,  True],\n",
              "       [False,  True,  True],\n",
              "       [False,  True, False],\n",
              "       [ True,  True,  True],\n",
              "       [False,  True,  True],\n",
              "       [ True,  True,  True],\n",
              "       [ True,  True,  True],\n",
              "       [ True,  True,  True],\n",
              "       [ True, False,  True],\n",
              "       [False,  True,  True],\n",
              "       [False,  True,  True],\n",
              "       [ True,  True,  True],\n",
              "       [ True,  True, False],\n",
              "       [False,  True,  True],\n",
              "       [ True,  True,  True],\n",
              "       [False, False,  True],\n",
              "       [False,  True,  True],\n",
              "       [ True,  True,  True],\n",
              "       [ True,  True,  True],\n",
              "       [ True,  True,  True],\n",
              "       [ True,  True, False],\n",
              "       [ True, False,  True],\n",
              "       [ True,  True, False],\n",
              "       [ True,  True,  True],\n",
              "       [False,  True, False],\n",
              "       [ True,  True,  True],\n",
              "       [ True,  True,  True],\n",
              "       [ True,  True,  True],\n",
              "       [ True, False,  True],\n",
              "       [ True,  True, False],\n",
              "       [ True,  True,  True],\n",
              "       [ True,  True,  True],\n",
              "       [ True, False,  True],\n",
              "       [ True,  True,  True],\n",
              "       [ True,  True, False],\n",
              "       [ True,  True,  True],\n",
              "       [ True,  True,  True],\n",
              "       [ True,  True,  True],\n",
              "       [False,  True,  True],\n",
              "       [ True,  True, False],\n",
              "       [ True,  True,  True],\n",
              "       [ True, False,  True],\n",
              "       [False, False, False],\n",
              "       [ True,  True,  True],\n",
              "       [False,  True,  True],\n",
              "       [ True,  True,  True],\n",
              "       [ True, False, False],\n",
              "       [False,  True,  True],\n",
              "       [ True, False,  True],\n",
              "       [ True,  True,  True],\n",
              "       [ True,  True,  True],\n",
              "       [False, False, False],\n",
              "       [ True,  True, False],\n",
              "       [ True,  True,  True],\n",
              "       [ True,  True,  True],\n",
              "       [ True,  True,  True],\n",
              "       [ True,  True,  True],\n",
              "       [ True, False, False],\n",
              "       [ True,  True,  True],\n",
              "       [False, False, False],\n",
              "       [ True,  True,  True],\n",
              "       [ True,  True, False],\n",
              "       [ True,  True,  True],\n",
              "       [ True,  True,  True],\n",
              "       [ True,  True,  True],\n",
              "       [ True,  True,  True],\n",
              "       [ True,  True,  True],\n",
              "       [ True, False,  True],\n",
              "       [ True,  True,  True],\n",
              "       [ True,  True,  True],\n",
              "       [ True,  True,  True],\n",
              "       [ True,  True,  True],\n",
              "       [ True,  True, False],\n",
              "       [ True, False,  True],\n",
              "       [ True,  True,  True],\n",
              "       [ True,  True, False],\n",
              "       [ True,  True,  True],\n",
              "       [ True,  True,  True],\n",
              "       [False, False, False]])"
            ]
          },
          "metadata": {},
          "execution_count": 6
        }
      ]
    },
    {
      "cell_type": "code",
      "source": [
        "y_pr = np.stack((knn_pr, gnb_pr, per_pr))\n",
        "y_pr.T"
      ],
      "metadata": {
        "colab": {
          "base_uri": "https://localhost:8080/"
        },
        "id": "F0jJuWNSPL6r",
        "outputId": "45e27e21-be57-47aa-b72b-b60f97009050"
      },
      "execution_count": null,
      "outputs": [
        {
          "output_type": "execute_result",
          "data": {
            "text/plain": [
              "array([[20, 20, 20],\n",
              "       [28, 28, 28],\n",
              "       [ 3,  3,  3],\n",
              "       [21, 21, 21],\n",
              "       [ 9,  9,  9],\n",
              "       [ 8,  8,  8],\n",
              "       [32, 32, 32],\n",
              "       [ 9,  9,  9],\n",
              "       [26, 26, 26],\n",
              "       [12, 16, 28],\n",
              "       [ 0,  0,  0],\n",
              "       [36, 36, 36],\n",
              "       [ 5,  5,  8],\n",
              "       [ 7, 15,  7],\n",
              "       [13, 13, 13],\n",
              "       [ 4, 34, 29],\n",
              "       [25, 27, 25],\n",
              "       [37, 37, 37],\n",
              "       [23, 23, 23],\n",
              "       [38, 38, 38],\n",
              "       [ 7, 15,  7],\n",
              "       [ 1,  1,  1],\n",
              "       [ 4, 39, 39],\n",
              "       [25, 27, 25],\n",
              "       [ 0,  0,  0],\n",
              "       [ 3, 39, 39],\n",
              "       [11, 11, 11],\n",
              "       [22, 22, 22],\n",
              "       [26, 26, 26],\n",
              "       [10, 15, 10],\n",
              "       [29, 39, 39],\n",
              "       [29, 19, 19],\n",
              "       [26, 26, 26],\n",
              "       [ 5,  5, 29],\n",
              "       [20, 23, 23],\n",
              "       [11, 11, 11],\n",
              "       [12, 39, 11],\n",
              "       [20, 34, 34],\n",
              "       [15, 15, 15],\n",
              "       [14, 14, 14],\n",
              "       [38, 38, 38],\n",
              "       [ 5,  5, 29],\n",
              "       [ 7,  9,  7],\n",
              "       [ 2,  2, 36],\n",
              "       [ 8,  8,  8],\n",
              "       [28, 38, 28],\n",
              "       [14, 14, 14],\n",
              "       [18, 18, 18],\n",
              "       [ 2,  2,  2],\n",
              "       [17, 39, 17],\n",
              "       [ 4,  4, 39],\n",
              "       [32, 32, 32],\n",
              "       [33, 33, 33],\n",
              "       [ 7,  9,  7],\n",
              "       [37, 37, 37],\n",
              "       [ 3,  3,  1],\n",
              "       [22, 22, 22],\n",
              "       [17, 17, 17],\n",
              "       [ 3,  3,  3],\n",
              "       [ 0, 15, 15],\n",
              "       [12, 12, 36],\n",
              "       [29, 29, 29],\n",
              "       [25, 16, 25],\n",
              "       [17, 35, 28],\n",
              "       [10, 10, 10],\n",
              "       [14,  3,  3],\n",
              "       [35, 35, 35],\n",
              "       [26, 12,  1],\n",
              "       [37, 39, 39],\n",
              "       [ 7,  9,  7],\n",
              "       [32, 32, 32],\n",
              "       [14, 14, 14],\n",
              "       [ 3, 35, 20],\n",
              "       [ 4,  4,  8],\n",
              "       [38, 38, 38],\n",
              "       [24, 24, 24],\n",
              "       [22, 22, 22],\n",
              "       [36, 36, 36],\n",
              "       [17,  9, 28],\n",
              "       [28, 28, 28],\n",
              "       [16, 16, 20],\n",
              "       [ 1,  1,  1],\n",
              "       [20, 20,  8],\n",
              "       [25, 25, 25],\n",
              "       [27, 27, 27],\n",
              "       [ 6,  6,  6],\n",
              "       [24, 24, 24],\n",
              "       [30, 30, 30],\n",
              "       [10, 15, 10],\n",
              "       [ 9,  9,  9],\n",
              "       [23, 23, 23],\n",
              "       [33, 33, 33],\n",
              "       [11, 11, 11],\n",
              "       [22, 22,  8],\n",
              "       [18, 25, 18],\n",
              "       [31, 31, 31],\n",
              "       [37, 37, 39],\n",
              "       [38, 38, 38],\n",
              "       [23, 23, 23],\n",
              "       [17,  9, 18]])"
            ]
          },
          "metadata": {},
          "execution_count": 7
        }
      ]
    },
    {
      "cell_type": "code",
      "source": [
        "from scipy import stats\n",
        "y_pr = stats.mode(y_pr)[0][0]\n",
        "vohits = y_pr == y_te\n",
        "vohits, sum(vohits)/len(vohits)"
      ],
      "metadata": {
        "colab": {
          "base_uri": "https://localhost:8080/"
        },
        "id": "5ef5-46NPPgs",
        "outputId": "ac5847b1-ac20-472c-9894-bfbd03c50582"
      },
      "execution_count": null,
      "outputs": [
        {
          "output_type": "execute_result",
          "data": {
            "text/plain": [
              "(array([ True,  True,  True,  True,  True,  True,  True,  True,  True,\n",
              "         True,  True,  True,  True,  True,  True,  True, False,  True,\n",
              "         True,  True,  True,  True,  True, False,  True,  True,  True,\n",
              "         True,  True,  True,  True,  True,  True,  True,  True,  True,\n",
              "         True,  True,  True,  True,  True,  True,  True,  True,  True,\n",
              "        False,  True,  True,  True,  True,  True,  True,  True,  True,\n",
              "         True,  True,  True,  True,  True,  True,  True,  True,  True,\n",
              "        False,  True,  True,  True, False,  True,  True,  True,  True,\n",
              "        False,  True,  True,  True,  True,  True, False,  True, False,\n",
              "         True,  True,  True,  True,  True,  True,  True,  True,  True,\n",
              "         True,  True,  True,  True,  True,  True,  True,  True,  True,\n",
              "        False]), 0.91)"
            ]
          },
          "metadata": {},
          "execution_count": 8
        }
      ]
    },
    {
      "cell_type": "markdown",
      "source": [
        "**Combinação de classificadores**"
      ],
      "metadata": {
        "id": "KIHUKhRBTm1c"
      }
    },
    {
      "cell_type": "code",
      "source": [
        "from sklearn.ensemble import VotingClassifier\n",
        "modelo = VotingClassifier([\n",
        "    ('knn', KNeighborsClassifier()),\n",
        "    ('naivebayes', GaussianNB()),\n",
        "    ('perceptron', Perceptron())\n",
        "])\n",
        "modelo.fit(X_tr, y_tr)\n",
        "vo_pr = modelo.predict(X_te)\n",
        "vohits = vo_pr == y_te\n",
        "vohits, sum(vohits)/len(vohits)"
      ],
      "metadata": {
        "colab": {
          "base_uri": "https://localhost:8080/"
        },
        "id": "mH_0az-QPUY2",
        "outputId": "45f14c24-20c9-47fd-d435-eb21213dbf5d"
      },
      "execution_count": null,
      "outputs": [
        {
          "output_type": "execute_result",
          "data": {
            "text/plain": [
              "(array([ True,  True,  True,  True,  True,  True,  True,  True,  True,\n",
              "         True,  True,  True,  True,  True,  True,  True, False,  True,\n",
              "         True,  True,  True,  True,  True, False,  True,  True,  True,\n",
              "         True,  True,  True,  True,  True,  True,  True,  True,  True,\n",
              "         True,  True,  True,  True,  True,  True,  True,  True,  True,\n",
              "        False,  True,  True,  True,  True,  True,  True,  True,  True,\n",
              "         True,  True,  True,  True,  True,  True,  True,  True,  True,\n",
              "        False,  True,  True,  True, False,  True,  True,  True,  True,\n",
              "        False,  True,  True,  True,  True,  True, False,  True, False,\n",
              "         True,  True,  True,  True,  True,  True,  True,  True,  True,\n",
              "         True,  True,  True,  True,  True,  True,  True,  True,  True,\n",
              "        False]), 0.91)"
            ]
          },
          "metadata": {},
          "execution_count": 9
        }
      ]
    },
    {
      "cell_type": "code",
      "source": [
        "from sklearn.ensemble import VotingClassifier\n",
        "modelo = VotingClassifier([\n",
        "    ('knn1', KNeighborsClassifier(1)),\n",
        "    ('knn2', KNeighborsClassifier(5)),\n",
        "    ('knn3', KNeighborsClassifier(9)),\n",
        "])\n",
        "modelo.fit(X_tr, y_tr)\n",
        "vo_pr = modelo.predict(X_te)\n",
        "vohits = vo_pr == y_te\n",
        "vohits, sum(vohits)/len(vohits)"
      ],
      "metadata": {
        "colab": {
          "base_uri": "https://localhost:8080/"
        },
        "id": "KGo6L9h9Qovt",
        "outputId": "3f84ba4f-d239-42b7-cbcd-7f68adf871a4"
      },
      "execution_count": null,
      "outputs": [
        {
          "output_type": "execute_result",
          "data": {
            "text/plain": [
              "(array([ True,  True,  True,  True,  True,  True,  True,  True,  True,\n",
              "         True,  True,  True,  True,  True,  True,  True, False,  True,\n",
              "         True,  True,  True,  True, False,  True,  True, False,  True,\n",
              "         True,  True,  True, False, False,  True,  True,  True,  True,\n",
              "        False, False, False,  True,  True,  True,  True,  True,  True,\n",
              "        False,  True,  True,  True,  True,  True,  True,  True,  True,\n",
              "         True,  True,  True,  True,  True,  True,  True,  True,  True,\n",
              "        False,  True, False,  True,  True, False,  True,  True,  True,\n",
              "        False,  True,  True,  True,  True,  True,  True,  True, False,\n",
              "         True,  True,  True,  True,  True,  True,  True,  True,  True,\n",
              "         True,  True,  True, False,  True,  True,  True,  True,  True,\n",
              "        False]), 0.84)"
            ]
          },
          "metadata": {},
          "execution_count": 10
        }
      ]
    },
    {
      "cell_type": "code",
      "source": [
        "from sklearn.tree import DecisionTreeClassifier\n",
        "modelo = VotingClassifier([\n",
        "    ('knn', KNeighborsClassifier()),\n",
        "    ('naivebayes', GaussianNB()),\n",
        "    ('arvore', DecisionTreeClassifier())\n",
        "])\n",
        "modelo.fit(X_tr, y_tr)\n",
        "vo_pr = modelo.predict(X_te)\n",
        "vohits = vo_pr == y_te\n",
        "vohits, sum(vohits)/len(vohits)"
      ],
      "metadata": {
        "colab": {
          "base_uri": "https://localhost:8080/"
        },
        "id": "niTV34zaQqzM",
        "outputId": "ef8cced4-234c-408d-ec80-cf039818df31"
      },
      "execution_count": null,
      "outputs": [
        {
          "output_type": "execute_result",
          "data": {
            "text/plain": [
              "(array([ True,  True,  True,  True,  True,  True,  True,  True,  True,\n",
              "        False,  True,  True,  True, False,  True,  True, False,  True,\n",
              "         True,  True,  True,  True, False, False,  True, False,  True,\n",
              "         True,  True,  True, False,  True,  True,  True, False,  True,\n",
              "        False, False,  True,  True,  True,  True,  True,  True,  True,\n",
              "        False,  True,  True,  True,  True,  True,  True,  True, False,\n",
              "         True,  True,  True,  True,  True, False,  True,  True, False,\n",
              "        False,  True, False,  True, False, False,  True,  True,  True,\n",
              "        False,  True,  True,  True,  True,  True, False,  True, False,\n",
              "         True,  True,  True,  True,  True,  True,  True, False,  True,\n",
              "         True,  True,  True,  True,  True,  True,  True,  True,  True,\n",
              "        False]), 0.77)"
            ]
          },
          "metadata": {},
          "execution_count": 11
        }
      ]
    },
    {
      "cell_type": "code",
      "source": [
        "modelo = DecisionTreeClassifier(random_state=42)\n",
        "modelo.fit(X_tr, y_tr)\n",
        "dt_pr = modelo.predict(X_te)\n",
        "dthits = dt_pr == y_te\n",
        "dthits, sum(dthits)/len(dthits)"
      ],
      "metadata": {
        "colab": {
          "base_uri": "https://localhost:8080/"
        },
        "id": "Qt51mdvgQvos",
        "outputId": "7e4df6b3-7e6b-4c93-e5a9-fa7e8f302369"
      },
      "execution_count": null,
      "outputs": [
        {
          "output_type": "execute_result",
          "data": {
            "text/plain": [
              "(array([False,  True, False,  True,  True, False,  True,  True,  True,\n",
              "        False, False,  True,  True, False, False, False, False, False,\n",
              "         True, False,  True, False, False, False, False, False, False,\n",
              "        False,  True, False, False,  True, False, False, False, False,\n",
              "        False, False,  True, False, False,  True, False, False,  True,\n",
              "        False, False,  True, False,  True, False,  True,  True, False,\n",
              "         True, False, False, False,  True,  True,  True,  True, False,\n",
              "        False, False,  True,  True, False, False, False,  True, False,\n",
              "        False, False,  True,  True, False, False, False,  True, False,\n",
              "        False, False,  True, False,  True,  True, False, False,  True,\n",
              "         True,  True,  True,  True,  True, False, False,  True, False,\n",
              "        False]), 0.4)"
            ]
          },
          "metadata": {},
          "execution_count": 12
        }
      ]
    },
    {
      "cell_type": "markdown",
      "source": [
        "**Diversificação por reamostragem**"
      ],
      "metadata": {
        "id": "mqTVF-DYTwa7"
      }
    },
    {
      "cell_type": "code",
      "source": [
        "from sklearn.ensemble import BaggingClassifier\n",
        "modelo = BaggingClassifier(random_state=42)\n",
        "modelo.fit(X_tr, y_tr)\n",
        "bag_pr = modelo.predict(X_te)\n",
        "baghits = bag_pr == y_te\n",
        "baghits, sum(baghits)/len(baghits)"
      ],
      "metadata": {
        "colab": {
          "base_uri": "https://localhost:8080/"
        },
        "id": "F3GAM49eQ4kR",
        "outputId": "c2fa298c-83aa-4384-e926-577b84d508d1"
      },
      "execution_count": null,
      "outputs": [
        {
          "output_type": "execute_result",
          "data": {
            "text/plain": [
              "(array([ True,  True,  True,  True,  True,  True,  True,  True, False,\n",
              "        False, False,  True,  True, False,  True, False, False,  True,\n",
              "         True,  True, False,  True, False, False,  True, False,  True,\n",
              "         True,  True,  True, False,  True,  True,  True, False, False,\n",
              "        False,  True, False, False, False,  True, False,  True, False,\n",
              "         True,  True,  True,  True, False, False,  True,  True, False,\n",
              "         True, False, False, False,  True,  True,  True,  True, False,\n",
              "        False,  True, False,  True, False,  True,  True, False,  True,\n",
              "         True,  True,  True,  True,  True,  True,  True,  True, False,\n",
              "        False,  True,  True, False,  True,  True,  True,  True,  True,\n",
              "        False,  True,  True,  True,  True,  True,  True, False,  True,\n",
              "        False]), 0.64)"
            ]
          },
          "metadata": {},
          "execution_count": 13
        }
      ]
    },
    {
      "cell_type": "code",
      "source": [
        "modelo = BaggingClassifier(DecisionTreeClassifier(), random_state=42)\n",
        "modelo.fit(X_tr, y_tr)\n",
        "bag_pr = modelo.predict(X_te)\n",
        "baghits = bag_pr == y_te\n",
        "baghits, sum(baghits)/len(baghits)"
      ],
      "metadata": {
        "colab": {
          "base_uri": "https://localhost:8080/"
        },
        "id": "v4PUN6xaT1LK",
        "outputId": "a8e985f4-892c-4d6b-d742-59fbeabea182"
      },
      "execution_count": 14,
      "outputs": [
        {
          "output_type": "execute_result",
          "data": {
            "text/plain": [
              "(array([ True,  True,  True,  True,  True,  True,  True,  True, False,\n",
              "        False, False,  True,  True, False,  True, False, False,  True,\n",
              "         True,  True, False,  True, False, False,  True, False,  True,\n",
              "         True,  True,  True, False,  True,  True,  True, False, False,\n",
              "        False,  True, False, False, False,  True, False,  True, False,\n",
              "         True,  True,  True,  True, False, False,  True,  True, False,\n",
              "         True, False, False, False,  True,  True,  True,  True, False,\n",
              "        False,  True, False,  True, False,  True,  True, False,  True,\n",
              "         True,  True,  True,  True,  True,  True,  True,  True, False,\n",
              "        False,  True,  True, False,  True,  True,  True,  True,  True,\n",
              "        False,  True,  True,  True,  True,  True,  True, False,  True,\n",
              "        False]), 0.64)"
            ]
          },
          "metadata": {},
          "execution_count": 14
        }
      ]
    },
    {
      "cell_type": "markdown",
      "source": [
        "**Aumentando a aleatoriedade para aumentar a diversidade**"
      ],
      "metadata": {
        "id": "xZBx-xAoT4M1"
      }
    },
    {
      "cell_type": "code",
      "source": [
        "modelo = BaggingClassifier(DecisionTreeClassifier(splitter='random'), random_state=42)\n",
        "modelo.fit(X_tr, y_tr)\n",
        "bag_pr = modelo.predict(X_te)\n",
        "baghits = bag_pr == y_te\n",
        "baghits, sum(baghits)/len(baghits)"
      ],
      "metadata": {
        "colab": {
          "base_uri": "https://localhost:8080/"
        },
        "id": "leGqsFbtT8jW",
        "outputId": "183f49fa-9fc4-4c82-f0a1-30bbaf2b14fb"
      },
      "execution_count": 15,
      "outputs": [
        {
          "output_type": "execute_result",
          "data": {
            "text/plain": [
              "(array([ True,  True,  True,  True,  True, False,  True,  True,  True,\n",
              "         True, False,  True,  True,  True,  True, False, False,  True,\n",
              "         True,  True,  True, False,  True, False,  True,  True, False,\n",
              "         True,  True,  True,  True,  True,  True,  True,  True,  True,\n",
              "        False,  True, False,  True, False,  True, False,  True,  True,\n",
              "        False,  True,  True, False,  True, False,  True,  True, False,\n",
              "         True, False, False,  True, False,  True,  True,  True, False,\n",
              "        False,  True, False,  True,  True, False, False,  True,  True,\n",
              "        False,  True,  True,  True,  True,  True,  True,  True, False,\n",
              "        False,  True,  True,  True,  True,  True,  True,  True, False,\n",
              "         True,  True, False,  True,  True,  True,  True,  True,  True,\n",
              "         True]), 0.72)"
            ]
          },
          "metadata": {},
          "execution_count": 15
        }
      ]
    },
    {
      "cell_type": "code",
      "source": [
        "modelo = BaggingClassifier(DecisionTreeClassifier(splitter='random'), n_estimators=100, random_state=42)\n",
        "modelo.fit(X_tr, y_tr)\n",
        "bag_pr = modelo.predict(X_te)\n",
        "baghits = bag_pr == y_te\n",
        "baghits, sum(baghits)/len(baghits)"
      ],
      "metadata": {
        "colab": {
          "base_uri": "https://localhost:8080/"
        },
        "id": "EEOKavF2T_86",
        "outputId": "1091778c-7e33-4f80-c809-2a400977ea64"
      },
      "execution_count": 16,
      "outputs": [
        {
          "output_type": "execute_result",
          "data": {
            "text/plain": [
              "(array([ True,  True,  True,  True,  True,  True,  True,  True,  True,\n",
              "         True,  True,  True,  True,  True,  True,  True, False,  True,\n",
              "         True,  True,  True,  True,  True, False,  True,  True,  True,\n",
              "         True,  True,  True,  True,  True,  True,  True,  True,  True,\n",
              "         True,  True,  True,  True, False,  True, False,  True,  True,\n",
              "         True,  True,  True,  True,  True,  True,  True,  True, False,\n",
              "         True,  True, False,  True,  True,  True,  True,  True, False,\n",
              "        False,  True,  True,  True,  True, False,  True,  True,  True,\n",
              "         True,  True,  True,  True,  True,  True,  True,  True, False,\n",
              "         True,  True,  True,  True,  True,  True,  True,  True,  True,\n",
              "         True,  True,  True,  True,  True,  True,  True,  True,  True,\n",
              "        False]), 0.89)"
            ]
          },
          "metadata": {},
          "execution_count": 16
        }
      ]
    },
    {
      "cell_type": "markdown",
      "source": [
        "**Random Forest é um Bagging de Árvores de Decisão**"
      ],
      "metadata": {
        "id": "wuV8cQPdUFei"
      }
    },
    {
      "cell_type": "code",
      "source": [
        "from sklearn.ensemble import RandomForestClassifier\n",
        "modelo = RandomForestClassifier(random_state=42)\n",
        "modelo.fit(X_tr, y_tr)\n",
        "rf_pr = modelo.predict(X_te)\n",
        "rfhits = rf_pr == y_te\n",
        "rfhits, sum(rfhits)/len(rfhits)"
      ],
      "metadata": {
        "colab": {
          "base_uri": "https://localhost:8080/"
        },
        "id": "ADIU7yNxUKEs",
        "outputId": "ae8ac2ce-cfae-46e1-d264-8c9ebc17bf8d"
      },
      "execution_count": 17,
      "outputs": [
        {
          "output_type": "execute_result",
          "data": {
            "text/plain": [
              "(array([ True,  True,  True,  True,  True,  True,  True,  True,  True,\n",
              "         True,  True,  True,  True,  True,  True,  True, False,  True,\n",
              "         True,  True,  True,  True,  True,  True,  True,  True,  True,\n",
              "         True,  True,  True,  True,  True,  True,  True,  True,  True,\n",
              "        False,  True,  True,  True, False,  True, False,  True,  True,\n",
              "         True,  True,  True,  True,  True, False,  True,  True, False,\n",
              "         True,  True,  True,  True,  True,  True,  True,  True, False,\n",
              "        False,  True,  True,  True,  True, False, False,  True,  True,\n",
              "        False,  True,  True,  True,  True,  True,  True,  True, False,\n",
              "         True,  True,  True,  True,  True,  True,  True,  True,  True,\n",
              "         True,  True,  True,  True,  True,  True,  True,  True,  True,\n",
              "         True]), 0.88)"
            ]
          },
          "metadata": {},
          "execution_count": 17
        }
      ]
    },
    {
      "cell_type": "markdown",
      "source": [
        "**Regularização do Bagging**"
      ],
      "metadata": {
        "id": "BwCarfpZUNz7"
      }
    },
    {
      "cell_type": "code",
      "source": [
        "modelo = BaggingClassifier(DecisionTreeClassifier(splitter='random'), n_estimators=100, max_features=0.15, random_state=42)\n",
        "modelo.fit(X_tr, y_tr)\n",
        "bag_pr = modelo.predict(X_te)\n",
        "baghits = bag_pr == y_te\n",
        "baghits, sum(baghits)/len(baghits)"
      ],
      "metadata": {
        "colab": {
          "base_uri": "https://localhost:8080/"
        },
        "id": "pnoLegz2URVw",
        "outputId": "6b6faa11-2951-462d-806e-db36bff54192"
      },
      "execution_count": 18,
      "outputs": [
        {
          "output_type": "execute_result",
          "data": {
            "text/plain": [
              "(array([ True,  True,  True,  True,  True,  True,  True,  True,  True,\n",
              "         True,  True,  True,  True,  True,  True,  True, False,  True,\n",
              "         True,  True,  True,  True,  True,  True,  True,  True,  True,\n",
              "         True,  True,  True,  True,  True,  True,  True,  True,  True,\n",
              "         True,  True,  True,  True, False,  True,  True,  True,  True,\n",
              "         True,  True,  True,  True,  True,  True,  True,  True,  True,\n",
              "         True,  True, False,  True,  True,  True,  True,  True, False,\n",
              "        False,  True,  True,  True,  True,  True,  True,  True,  True,\n",
              "         True,  True,  True,  True,  True,  True,  True,  True, False,\n",
              "         True,  True,  True,  True,  True,  True,  True,  True,  True,\n",
              "         True,  True,  True,  True,  True,  True,  True,  True,  True,\n",
              "         True]), 0.94)"
            ]
          },
          "metadata": {},
          "execution_count": 18
        }
      ]
    },
    {
      "cell_type": "markdown",
      "source": [
        "**Florestas extremamente aleatórias**"
      ],
      "metadata": {
        "id": "UAbFgyD4UUcU"
      }
    },
    {
      "cell_type": "code",
      "source": [
        "from sklearn.ensemble import ExtraTreesClassifier\n",
        "modelo = ExtraTreesClassifier(random_state=42)\n",
        "modelo.fit(X_tr, y_tr)\n",
        "et_pr = modelo.predict(X_te)\n",
        "ethits = et_pr == y_te\n",
        "ethits, sum(ethits)/len(ethits)"
      ],
      "metadata": {
        "colab": {
          "base_uri": "https://localhost:8080/"
        },
        "id": "jAsz_koNUX9s",
        "outputId": "012e31ad-2d46-40bc-fbda-ba13927ccf61"
      },
      "execution_count": 19,
      "outputs": [
        {
          "output_type": "execute_result",
          "data": {
            "text/plain": [
              "(array([ True,  True,  True,  True,  True,  True,  True,  True,  True,\n",
              "         True,  True,  True,  True,  True,  True,  True,  True,  True,\n",
              "         True,  True,  True,  True,  True,  True,  True,  True,  True,\n",
              "         True,  True,  True,  True,  True,  True,  True,  True,  True,\n",
              "         True, False,  True,  True,  True,  True,  True,  True,  True,\n",
              "         True,  True,  True,  True,  True,  True,  True,  True,  True,\n",
              "         True, False,  True,  True,  True,  True,  True,  True, False,\n",
              "        False,  True,  True,  True,  True,  True,  True,  True,  True,\n",
              "         True,  True,  True,  True,  True,  True,  True,  True, False,\n",
              "         True,  True,  True,  True,  True,  True,  True,  True,  True,\n",
              "         True,  True,  True,  True,  True,  True,  True,  True,  True,\n",
              "         True]), 0.95)"
            ]
          },
          "metadata": {},
          "execution_count": 19
        }
      ]
    },
    {
      "cell_type": "markdown",
      "source": [
        "**Boosting**"
      ],
      "metadata": {
        "id": "BM_Wpk7iUgvD"
      }
    },
    {
      "cell_type": "code",
      "source": [
        "from sklearn.ensemble import AdaBoostClassifier\n",
        "modelo = AdaBoostClassifier(random_state=42)\n",
        "modelo.fit(X_tr, y_tr)\n",
        "ab_pr = modelo.predict(X_te)\n",
        "abhits = ab_pr == y_te\n",
        "abhits, sum(abhits)/len(abhits)"
      ],
      "metadata": {
        "colab": {
          "base_uri": "https://localhost:8080/"
        },
        "id": "slAIMyOxUfzS",
        "outputId": "9db1faa1-7493-4762-c0d8-2db591a0a899"
      },
      "execution_count": 20,
      "outputs": [
        {
          "output_type": "execute_result",
          "data": {
            "text/plain": [
              "(array([False, False, False, False, False, False,  True, False, False,\n",
              "        False, False, False,  True, False, False, False, False, False,\n",
              "        False, False, False, False, False, False, False, False, False,\n",
              "        False, False,  True, False,  True, False,  True, False, False,\n",
              "        False, False, False, False,  True, False, False, False, False,\n",
              "         True, False,  True, False, False, False,  True, False,  True,\n",
              "        False, False, False, False, False, False, False, False, False,\n",
              "        False, False, False, False, False, False, False,  True, False,\n",
              "        False, False,  True, False, False, False, False, False, False,\n",
              "        False, False, False, False, False, False, False, False, False,\n",
              "        False, False, False, False, False, False, False,  True, False,\n",
              "        False]), 0.13)"
            ]
          },
          "metadata": {},
          "execution_count": 20
        }
      ]
    },
    {
      "cell_type": "code",
      "source": [
        "from sklearn.ensemble import AdaBoostClassifier\n",
        "modelo = AdaBoostClassifier(DecisionTreeClassifier(max_depth=25, splitter='random'), learning_rate=0.15, random_state=42)\n",
        "modelo.fit(X_tr, y_tr)\n",
        "ab_pr = modelo.predict(X_te)\n",
        "abhits = ab_pr == y_te\n",
        "abhits, sum(abhits)/len(abhits)"
      ],
      "metadata": {
        "colab": {
          "base_uri": "https://localhost:8080/"
        },
        "id": "JysZ8dBeUlgQ",
        "outputId": "cf3f47a6-9bc2-436e-d869-d2f9ec56ac89"
      },
      "execution_count": 21,
      "outputs": [
        {
          "output_type": "execute_result",
          "data": {
            "text/plain": [
              "(array([ True,  True,  True,  True,  True,  True,  True,  True,  True,\n",
              "         True,  True,  True,  True,  True,  True,  True,  True,  True,\n",
              "         True,  True,  True,  True,  True,  True,  True,  True,  True,\n",
              "         True,  True,  True,  True,  True,  True,  True,  True,  True,\n",
              "        False,  True,  True,  True,  True,  True,  True,  True,  True,\n",
              "         True,  True,  True,  True,  True, False,  True,  True,  True,\n",
              "         True,  True, False,  True,  True,  True,  True,  True, False,\n",
              "        False,  True,  True,  True,  True,  True,  True,  True,  True,\n",
              "         True,  True,  True,  True,  True,  True,  True,  True, False,\n",
              "         True,  True,  True,  True,  True,  True,  True,  True, False,\n",
              "         True,  True,  True,  True,  True,  True,  True,  True,  True,\n",
              "         True]), 0.93)"
            ]
          },
          "metadata": {},
          "execution_count": 21
        }
      ]
    },
    {
      "cell_type": "code",
      "source": [
        "from xgboost import XGBClassifier\n",
        "modelo = XGBClassifier(use_label_encoder=False, random_state=42)\n",
        "modelo.fit(X_tr, y_tr)\n",
        "xgb_pr = modelo.predict(X_te)\n",
        "xgbhits = xgb_pr == y_te\n",
        "xgbhits, sum(xgbhits)/len(xgbhits)"
      ],
      "metadata": {
        "colab": {
          "base_uri": "https://localhost:8080/"
        },
        "id": "ZI_Vmz4EUpSB",
        "outputId": "e6f384aa-75a2-4d02-978f-4ddaa0e50df7"
      },
      "execution_count": 22,
      "outputs": [
        {
          "output_type": "execute_result",
          "data": {
            "text/plain": [
              "(array([ True,  True,  True,  True,  True,  True,  True, False,  True,\n",
              "        False,  True,  True,  True, False,  True,  True, False, False,\n",
              "         True,  True,  True,  True,  True,  True,  True,  True,  True,\n",
              "        False,  True, False, False,  True,  True,  True,  True, False,\n",
              "        False, False,  True,  True, False,  True, False,  True, False,\n",
              "        False,  True,  True,  True,  True, False,  True,  True, False,\n",
              "         True,  True, False, False,  True,  True,  True,  True, False,\n",
              "        False,  True, False,  True,  True,  True, False,  True, False,\n",
              "         True,  True,  True,  True,  True, False, False,  True, False,\n",
              "        False, False,  True,  True,  True,  True,  True, False, False,\n",
              "        False,  True,  True,  True,  True,  True,  True,  True,  True,\n",
              "         True]), 0.68)"
            ]
          },
          "metadata": {},
          "execution_count": 22
        }
      ]
    },
    {
      "cell_type": "code",
      "source": [
        "from xgboost import XGBClassifier\n",
        "modelo = XGBClassifier(colsample_bynode=0.01, learning_rate=0.15, random_state=42)\n",
        "modelo.fit(X_tr, y_tr)\n",
        "xgb_pr = modelo.predict(X_te)\n",
        "xgbhits = xgb_pr == y_te\n",
        "xgbhits, sum(xgbhits)/len(xgbhits)"
      ],
      "metadata": {
        "colab": {
          "base_uri": "https://localhost:8080/"
        },
        "id": "ul848FjKUt0X",
        "outputId": "0337c375-4a86-4000-af52-7919dd22ff88"
      },
      "execution_count": 23,
      "outputs": [
        {
          "output_type": "execute_result",
          "data": {
            "text/plain": [
              "(array([ True,  True,  True,  True,  True,  True,  True,  True,  True,\n",
              "         True,  True,  True,  True,  True,  True,  True,  True,  True,\n",
              "         True,  True,  True,  True,  True,  True,  True,  True,  True,\n",
              "         True,  True,  True, False,  True,  True,  True,  True,  True,\n",
              "        False,  True,  True,  True, False,  True, False,  True,  True,\n",
              "         True,  True,  True,  True, False,  True,  True,  True,  True,\n",
              "         True,  True,  True,  True,  True,  True,  True,  True, False,\n",
              "        False,  True,  True,  True,  True,  True,  True,  True,  True,\n",
              "         True,  True,  True,  True,  True,  True,  True,  True,  True,\n",
              "         True,  True,  True,  True,  True,  True,  True,  True,  True,\n",
              "         True,  True,  True,  True,  True,  True,  True,  True,  True,\n",
              "         True]), 0.93)"
            ]
          },
          "metadata": {},
          "execution_count": 23
        }
      ]
    },
    {
      "cell_type": "code",
      "source": [
        "import warnings\n",
        "warnings.filterwarnings('ignore')"
      ],
      "metadata": {
        "id": "Pd5gR0mTU0Zn"
      },
      "execution_count": 24,
      "outputs": []
    },
    {
      "cell_type": "code",
      "source": [
        "from sklearn.ensemble import StackingClassifier\n",
        "\n",
        "voting = VotingClassifier([\n",
        "        ('knn', KNeighborsClassifier()),\n",
        "        ('naivebayes', GaussianNB()),\n",
        "        ('perceptron', Perceptron())\n",
        "    ])\n",
        "\n",
        "modelo = StackingClassifier([\n",
        "    ('voting', voting),\n",
        "    ('extratrees', ExtraTreesClassifier(random_state=42)),\n",
        "    ('randomforest', RandomForestClassifier(random_state=42))\n",
        "], cv=3, passthrough=True)\n",
        "\n",
        "modelo.fit(X_tr, y_tr) \n",
        "sc_pr = modelo.predict(X_te)\n",
        "schits = sc_pr == y_te\n",
        "schits, sum(schits)/len(schits)"
      ],
      "metadata": {
        "colab": {
          "base_uri": "https://localhost:8080/"
        },
        "id": "DnQwiVJzU3OM",
        "outputId": "f29ede0e-b056-42da-df7e-f8a26c1797c4"
      },
      "execution_count": 25,
      "outputs": [
        {
          "output_type": "execute_result",
          "data": {
            "text/plain": [
              "(array([ True,  True,  True,  True,  True,  True,  True,  True,  True,\n",
              "         True,  True,  True,  True,  True,  True,  True,  True,  True,\n",
              "         True,  True,  True,  True,  True,  True,  True,  True,  True,\n",
              "         True,  True,  True, False,  True,  True,  True,  True,  True,\n",
              "         True,  True,  True,  True,  True,  True,  True,  True,  True,\n",
              "         True,  True,  True,  True,  True,  True,  True,  True,  True,\n",
              "         True,  True,  True,  True,  True,  True,  True,  True,  True,\n",
              "        False,  True,  True,  True,  True, False,  True,  True,  True,\n",
              "        False,  True,  True,  True,  True,  True,  True,  True, False,\n",
              "         True,  True,  True,  True,  True,  True,  True,  True,  True,\n",
              "         True,  True,  True,  True,  True,  True,  True,  True,  True,\n",
              "         True]), 0.95)"
            ]
          },
          "metadata": {},
          "execution_count": 25
        }
      ]
    },
    {
      "cell_type": "code",
      "source": [
        "modelo = StackingClassifier([\n",
        "    ('randomforest42', RandomForestClassifier(random_state=42)),\n",
        "    ('randomforest43', RandomForestClassifier(random_state=43)),\n",
        "    ('randomforest44', RandomForestClassifier(random_state=44))\n",
        "], cv=3, passthrough=True)\n",
        "\n",
        "modelo.fit(X_tr, y_tr) \n",
        "sc_pr = modelo.predict(X_te)\n",
        "schits = sc_pr == y_te\n",
        "schits, sum(schits)/len(schits)"
      ],
      "metadata": {
        "colab": {
          "base_uri": "https://localhost:8080/"
        },
        "id": "X58-l3dfU5rK",
        "outputId": "4bbe4fd3-5c19-45d9-a51b-10bc23d1b211"
      },
      "execution_count": 26,
      "outputs": [
        {
          "output_type": "execute_result",
          "data": {
            "text/plain": [
              "(array([ True,  True,  True,  True,  True,  True,  True,  True,  True,\n",
              "         True,  True,  True,  True,  True,  True,  True,  True,  True,\n",
              "         True,  True,  True,  True,  True,  True,  True,  True,  True,\n",
              "         True,  True,  True, False,  True,  True,  True,  True,  True,\n",
              "         True,  True,  True,  True,  True,  True,  True,  True,  True,\n",
              "         True,  True,  True,  True,  True,  True,  True,  True,  True,\n",
              "         True,  True,  True,  True,  True,  True,  True,  True,  True,\n",
              "        False,  True,  True,  True,  True, False,  True,  True,  True,\n",
              "        False,  True,  True,  True,  True,  True,  True,  True, False,\n",
              "         True,  True,  True,  True,  True,  True,  True,  True,  True,\n",
              "         True,  True,  True,  True,  True,  True,  True,  True,  True,\n",
              "         True]), 0.95)"
            ]
          },
          "metadata": {},
          "execution_count": 26
        }
      ]
    },
    {
      "cell_type": "code",
      "source": [
        "from sklearn.model_selection import GridSearchCV\n",
        "\n",
        "parametros = {\n",
        "    'arvore__max_depth': [None] + list(range(1,10,2)),\n",
        "    'preproc__unecaracteristicas__pipenum__imputer__strategy': ['mean', 'median', 'most_frequent']\n",
        "}\n",
        "\n",
        "modelo = GridSearchCV(pipetotal, param_grid=parametros)\n",
        "\n",
        "scores = cross_validate(modelo, X, y)\n",
        "scores, np.mean(scores['test_score'])"
      ],
      "metadata": {
        "id": "VvZfPjkjV2Yp"
      },
      "execution_count": null,
      "outputs": []
    }
  ]
}