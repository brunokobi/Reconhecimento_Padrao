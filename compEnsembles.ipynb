{
  "nbformat": 4,
  "nbformat_minor": 0,
  "metadata": {
    "colab": {
      "provenance": [],
      "authorship_tag": "ABX9TyOHV2BHj8uvpdsac73N6cVo",
      "include_colab_link": true
    },
    "kernelspec": {
      "name": "python3",
      "display_name": "Python 3"
    },
    "language_info": {
      "name": "python"
    }
  },
  "cells": [
    {
      "cell_type": "markdown",
      "metadata": {
        "id": "view-in-github",
        "colab_type": "text"
      },
      "source": [
        "<a href=\"https://colab.research.google.com/github/brunokobi/Reconhecimento_Padrao/blob/main/compEnsembles.ipynb\" target=\"_parent\"><img src=\"https://colab.research.google.com/assets/colab-badge.svg\" alt=\"Open In Colab\"/></a>"
      ]
    },
    {
      "cell_type": "markdown",
      "source": [
        "# **Comparação de ensembles**"
      ],
      "metadata": {
        "id": "FqmN4OW9NNjX"
      }
    },
    {
      "cell_type": "code",
      "source": [
        "from sklearn.datasets import fetch_olivetti_faces\n",
        "X, y = fetch_olivetti_faces(return_X_y=True)\n",
        "X.shape, y.shape"
      ],
      "metadata": {
        "colab": {
          "base_uri": "https://localhost:8080/"
        },
        "id": "fg1Z2H3sOpQL",
        "outputId": "13f6f80b-5ba9-4737-a043-f40da0db7365"
      },
      "execution_count": null,
      "outputs": [
        {
          "output_type": "execute_result",
          "data": {
            "text/plain": [
              "((400, 4096), (400,))"
            ]
          },
          "metadata": {},
          "execution_count": 9
        }
      ]
    },
    {
      "cell_type": "code",
      "source": [
        "from sklearn.model_selection import train_test_split\n",
        "X_tr, X_te, y_tr, y_te = train_test_split(X, y, random_state=42)\n",
        "X_tr.shape, X_te.shape, y_tr.shape, y_te.shape"
      ],
      "metadata": {
        "colab": {
          "base_uri": "https://localhost:8080/"
        },
        "id": "roH38O_hO4Tj",
        "outputId": "ecc51267-098f-4074-af4e-b10e2a90a35d"
      },
      "execution_count": null,
      "outputs": [
        {
          "output_type": "execute_result",
          "data": {
            "text/plain": [
              "((300, 4096), (100, 4096), (300,), (100,))"
            ]
          },
          "metadata": {},
          "execution_count": 10
        }
      ]
    },
    {
      "cell_type": "markdown",
      "source": [
        "# **KNN sem ajuste parametros**"
      ],
      "metadata": {
        "id": "nMJcWu6sw4o8"
      }
    },
    {
      "cell_type": "code",
      "source": [
        "from sklearn.neighbors import KNeighborsClassifier\n",
        "modelo = KNeighborsClassifier()\n",
        "modelo.fit(X_tr, y_tr)\n",
        "knn_pr = modelo.predict(X_te)\n",
        "knnhits = knn_pr == y_te\n",
        "knnhits, sum(knnhits)/len(knnhits)"
      ],
      "metadata": {
        "colab": {
          "base_uri": "https://localhost:8080/"
        },
        "id": "tJg8IMm4O5wJ",
        "outputId": "a09430f7-6b0d-4a32-96b2-44fb7ccd715a"
      },
      "execution_count": null,
      "outputs": [
        {
          "output_type": "execute_result",
          "data": {
            "text/plain": [
              "(array([ True,  True,  True,  True,  True,  True,  True,  True,  True,\n",
              "         True,  True,  True,  True,  True,  True,  True, False,  True,\n",
              "         True,  True,  True,  True, False, False,  True, False,  True,\n",
              "         True,  True,  True, False, False,  True,  True, False,  True,\n",
              "        False, False,  True,  True,  True,  True,  True,  True,  True,\n",
              "        False,  True,  True,  True,  True,  True,  True,  True,  True,\n",
              "         True,  True,  True,  True,  True, False,  True,  True,  True,\n",
              "        False,  True, False,  True,  True, False,  True,  True,  True,\n",
              "        False,  True,  True,  True,  True,  True,  True,  True, False,\n",
              "         True,  True,  True,  True,  True,  True,  True,  True,  True,\n",
              "         True,  True,  True,  True,  True,  True,  True,  True,  True,\n",
              "        False]), 0.83)"
            ]
          },
          "metadata": {},
          "execution_count": 7
        }
      ]
    },
    {
      "cell_type": "markdown",
      "source": [
        "# **Ajuste paramentros KNN**"
      ],
      "metadata": {
        "id": "JQGc96omrvVc"
      }
    },
    {
      "cell_type": "code",
      "source": [
        "    from sklearn.pipeline import Pipeline\n",
        "    from sklearn.preprocessing import StandardScaler\n",
        "    from sklearn.model_selection import GridSearchCV\n",
        "    pipe = Pipeline([    \n",
        "        ('knn', KNeighborsClassifier()) \n",
        "    ])\n",
        "    params = {\n",
        "        # 'knn__algorithm' : ['ball_tree','kd_tree', 'brute'],\n",
        "        # 'knn__n_neighbors': [3, 5, 10],\n",
        "        'knn__leaf_size':[10,15,20],\n",
        "        # 'knn__weights':['distance','uniform'],\n",
        "        # 'knn__metric':['cityblock', 'cosine', 'euclidean', 'l1', 'l2', 'manhattan', 'braycurtis','canberra', 'chebyshev', 'correlation', 'minkowski'],\n",
        "        'knn__weights':['distance'],\n",
        "        'knn__metric':['cityblock'],\n",
        "        'knn__algorithm' : ['ball_tree'],\n",
        "        'knn__n_neighbors': [3],\n",
        "        \n",
        "    }\n",
        "    clf = GridSearchCV(estimator=pipe,           \n",
        "                      param_grid=params, \n",
        "                      cv=5,\n",
        "                      return_train_score=True) # Turn on cv train scores\n",
        "    clf.fit(X_tr, y_tr)  \n",
        "    print('\\nMelhor Ajuste:',clf.best_estimator_,'score:',clf.best_score_)"
      ],
      "metadata": {
        "colab": {
          "base_uri": "https://localhost:8080/"
        },
        "id": "7vuH07OMfSNp",
        "outputId": "30739bf1-7d78-43d6-e177-77cc48756cd3"
      },
      "execution_count": null,
      "outputs": [
        {
          "output_type": "stream",
          "name": "stderr",
          "text": [
            "/usr/local/lib/python3.7/dist-packages/sklearn/model_selection/_split.py:680: UserWarning: The least populated class in y has only 3 members, which is less than n_splits=5.\n",
            "  UserWarning,\n"
          ]
        },
        {
          "output_type": "stream",
          "name": "stdout",
          "text": [
            "\n",
            "Melhor Ajuste: Pipeline(steps=[('knn',\n",
            "                 KNeighborsClassifier(algorithm='ball_tree', leaf_size=10,\n",
            "                                      metric='cityblock', n_neighbors=3,\n",
            "                                      weights='distance'))]) score: 0.8866666666666667\n"
          ]
        }
      ]
    },
    {
      "cell_type": "markdown",
      "source": [
        "# **KNN parametros ajustados**"
      ],
      "metadata": {
        "id": "eXSmQUBvwU6Q"
      }
    },
    {
      "cell_type": "code",
      "source": [
        "from sklearn.neighbors import KNeighborsClassifier\n",
        "modelo = KNeighborsClassifier(algorithm='ball_tree', leaf_size=10,\n",
        "                                      metric='cityblock', n_neighbors=3,\n",
        "                                      weights='distance')\n",
        "modelo.fit(X_tr, y_tr)\n",
        "knn_pr = modelo.predict(X_te)\n",
        "knnhits = knn_pr == y_te\n",
        "knnhits, sum(knnhits)/len(knnhits)"
      ],
      "metadata": {
        "colab": {
          "base_uri": "https://localhost:8080/"
        },
        "id": "Jqv6ynB8wdhl",
        "outputId": "4a97a3f6-f6bf-41b0-a5b7-3cdee590dd72"
      },
      "execution_count": null,
      "outputs": [
        {
          "output_type": "execute_result",
          "data": {
            "text/plain": [
              "(array([ True,  True,  True,  True,  True,  True,  True,  True,  True,\n",
              "         True,  True,  True,  True,  True,  True,  True, False,  True,\n",
              "         True,  True,  True,  True,  True, False,  True,  True,  True,\n",
              "         True,  True,  True,  True,  True,  True,  True,  True,  True,\n",
              "        False, False,  True,  True,  True,  True,  True,  True,  True,\n",
              "         True,  True,  True,  True,  True,  True,  True,  True,  True,\n",
              "         True, False,  True,  True,  True,  True,  True,  True,  True,\n",
              "        False,  True,  True,  True,  True,  True,  True,  True,  True,\n",
              "        False,  True,  True,  True,  True,  True,  True,  True, False,\n",
              "         True,  True,  True,  True,  True,  True,  True,  True,  True,\n",
              "         True,  True,  True,  True,  True,  True,  True,  True,  True,\n",
              "         True]), 0.92)"
            ]
          },
          "metadata": {},
          "execution_count": 39
        }
      ]
    },
    {
      "cell_type": "markdown",
      "source": [
        "# **Naive Bayes sem ajuste parametros**"
      ],
      "metadata": {
        "id": "bKulKx1NxPpJ"
      }
    },
    {
      "cell_type": "code",
      "source": [
        "from sklearn.naive_bayes import GaussianNB\n",
        "modelo = GaussianNB()\n",
        "modelo.fit(X_tr, y_tr)\n",
        "gnb_pr = modelo.predict(X_te)\n",
        "gnbhits = gnb_pr == y_te\n",
        "gnbhits, sum(gnbhits)/len(gnbhits)"
      ],
      "metadata": {
        "colab": {
          "base_uri": "https://localhost:8080/"
        },
        "id": "EUGClwK9PDuS",
        "outputId": "c7d1342f-7942-489a-f75d-2ba094ebc794"
      },
      "execution_count": null,
      "outputs": [
        {
          "output_type": "execute_result",
          "data": {
            "text/plain": [
              "(array([ True,  True,  True,  True,  True,  True,  True,  True,  True,\n",
              "        False,  True,  True,  True, False,  True, False,  True,  True,\n",
              "         True,  True, False,  True,  True,  True,  True,  True,  True,\n",
              "         True,  True, False,  True,  True,  True,  True,  True,  True,\n",
              "        False,  True,  True,  True,  True,  True, False,  True,  True,\n",
              "         True,  True,  True,  True, False,  True,  True,  True, False,\n",
              "         True,  True,  True,  True,  True,  True,  True,  True, False,\n",
              "        False,  True,  True,  True, False,  True, False,  True,  True,\n",
              "        False,  True,  True,  True,  True,  True, False,  True, False,\n",
              "         True,  True,  True,  True,  True,  True,  True, False,  True,\n",
              "         True,  True,  True,  True, False,  True,  True,  True,  True,\n",
              "        False]), 0.81)"
            ]
          },
          "metadata": {},
          "execution_count": 40
        }
      ]
    },
    {
      "cell_type": "markdown",
      "source": [
        "# **Ajuste parametros Naive Bayes**"
      ],
      "metadata": {
        "id": "tt7qPuUMuM2Q"
      }
    },
    {
      "cell_type": "code",
      "source": [
        "from sklearn.pipeline import Pipeline\n",
        "from sklearn.preprocessing import StandardScaler\n",
        "from sklearn.model_selection import GridSearchCV\n",
        "pipe = Pipeline([        \n",
        "    ('nb', GaussianNB()) \n",
        "])\n",
        "params = {    \n",
        "    'nb__var_smoothing': [1e-4, 1e-3, 1e-2, 0.10, 0.50, 1.0],  \n",
        "}\n",
        "clf = GridSearchCV(estimator=pipe,           \n",
        "                  param_grid=params, \n",
        "                  cv=5,\n",
        "                  return_train_score=True) # Turn on cv train scores\n",
        "clf.fit(X_tr, y_tr)\n",
        "print('\\nMelhor Ajuste:',clf.best_estimator_,'score:',clf.best_score_)"
      ],
      "metadata": {
        "colab": {
          "base_uri": "https://localhost:8080/"
        },
        "id": "Y5uWG-x-uWjY",
        "outputId": "5d86c73e-95d9-4c6c-e1da-3d4bede33e7e"
      },
      "execution_count": null,
      "outputs": [
        {
          "output_type": "stream",
          "name": "stderr",
          "text": [
            "/usr/local/lib/python3.7/dist-packages/sklearn/model_selection/_split.py:680: UserWarning: The least populated class in y has only 3 members, which is less than n_splits=5.\n",
            "  UserWarning,\n"
          ]
        },
        {
          "output_type": "stream",
          "name": "stdout",
          "text": [
            "\n",
            "Melhor Ajuste: Pipeline(steps=[('nb', GaussianNB(var_smoothing=0.1))]) score: 0.8866666666666667\n"
          ]
        }
      ]
    },
    {
      "cell_type": "markdown",
      "source": [
        "# **Naive Bayes parametros ajustados**"
      ],
      "metadata": {
        "id": "m9VTcpBGxe0c"
      }
    },
    {
      "cell_type": "code",
      "source": [
        "from sklearn.naive_bayes import GaussianNB\n",
        "modelo = GaussianNB(var_smoothing=0.1)\n",
        "modelo.fit(X_tr, y_tr)\n",
        "gnb_pr = modelo.predict(X_te)\n",
        "gnbhits = gnb_pr == y_te\n",
        "gnbhits, sum(gnbhits)/len(gnbhits)"
      ],
      "metadata": {
        "colab": {
          "base_uri": "https://localhost:8080/"
        },
        "id": "5gT_-eRRxmk7",
        "outputId": "38d83f26-7723-494d-f873-53dda4f8d338"
      },
      "execution_count": null,
      "outputs": [
        {
          "output_type": "execute_result",
          "data": {
            "text/plain": [
              "(array([ True,  True,  True,  True,  True,  True,  True,  True,  True,\n",
              "         True,  True,  True,  True,  True,  True, False,  True,  True,\n",
              "         True,  True,  True,  True,  True,  True,  True,  True,  True,\n",
              "         True,  True,  True,  True,  True,  True,  True,  True,  True,\n",
              "         True, False,  True,  True,  True,  True,  True,  True,  True,\n",
              "         True,  True,  True,  True,  True,  True,  True,  True,  True,\n",
              "         True,  True,  True,  True,  True,  True,  True,  True,  True,\n",
              "        False,  True,  True,  True,  True, False,  True,  True,  True,\n",
              "        False,  True,  True,  True,  True,  True,  True,  True, False,\n",
              "         True,  True,  True,  True,  True,  True,  True,  True,  True,\n",
              "         True,  True,  True,  True,  True,  True,  True,  True,  True,\n",
              "         True]), 0.94)"
            ]
          },
          "metadata": {},
          "execution_count": 12
        }
      ]
    },
    {
      "cell_type": "markdown",
      "source": [
        "# **Perceptron sem ajuste parametros**"
      ],
      "metadata": {
        "id": "N9s-lMBGyeIO"
      }
    },
    {
      "cell_type": "code",
      "source": [
        "from sklearn.linear_model import Perceptron\n",
        "modelo = Perceptron()\n",
        "modelo.fit(X_tr, y_tr)\n",
        "per_pr = modelo.predict(X_te)\n",
        "perhits = per_pr == y_te\n",
        "perhits, sum(perhits)/len(perhits)"
      ],
      "metadata": {
        "colab": {
          "base_uri": "https://localhost:8080/"
        },
        "id": "QU48sTrWPGmS",
        "outputId": "ff9cb04b-e00e-4476-8885-f05dc1cc26e4"
      },
      "execution_count": null,
      "outputs": [
        {
          "output_type": "execute_result",
          "data": {
            "text/plain": [
              "(array([ True,  True,  True,  True,  True,  True,  True,  True,  True,\n",
              "        False,  True,  True, False,  True,  True, False, False,  True,\n",
              "         True,  True,  True,  True,  True, False,  True,  True,  True,\n",
              "         True,  True,  True,  True,  True,  True, False,  True,  True,\n",
              "         True,  True,  True,  True,  True, False,  True, False,  True,\n",
              "        False,  True,  True,  True,  True, False,  True,  True,  True,\n",
              "         True, False,  True,  True,  True,  True, False,  True,  True,\n",
              "        False,  True,  True,  True, False,  True,  True,  True,  True,\n",
              "        False, False,  True,  True,  True,  True, False,  True, False,\n",
              "         True, False,  True,  True,  True,  True,  True,  True,  True,\n",
              "         True,  True,  True, False,  True,  True, False,  True,  True,\n",
              "        False]), 0.78)"
            ]
          },
          "metadata": {},
          "execution_count": 13
        }
      ]
    },
    {
      "cell_type": "markdown",
      "source": [
        "# **Ajuste parametros Perceptron**"
      ],
      "metadata": {
        "id": "VKr2Ixo1y6p_"
      }
    },
    {
      "cell_type": "code",
      "source": [
        "from sklearn.pipeline import Pipeline\n",
        "from sklearn.model_selection import GridSearchCV\n",
        "pipe = Pipeline([       \n",
        "    ('pe', Perceptron()) \n",
        "])\n",
        "params = {    \n",
        "    # 'pe__penalty': ['l2','l1','elasticnet','None'],\n",
        "    # 'pe__alpha': [1e-4, 1e-3, 1e-2, 0.10, 0.50, 1.0],  \n",
        "    # 'pe__max_iter': [50,100,500,1000],    \n",
        "    # 'pe__tol': [1e-4, 1e-3, 1e-2, 0.10, 0.50, 1.0],   \n",
        "    # 'pe__shuffle': [True,False],\n",
        "    # 'pe__early_stopping': [True,False],    \n",
        "    # 'pe__verbose':[1e-4, 1e-3, 1e-2, 0.10, 0.50, 1.0],\n",
        "    # 'pe__eta0':[0.50, 1.0, 1.5],   \n",
        "    # 'pe__n_jobs':[0, 1, 5],\n",
        "    # 'pe__validation_fraction':[1e-4, 1e-3, 1e-2, 0.10, 0.50, 1.0],\n",
        "    'pe__penalty': ['l2'],\n",
        "    'pe__validation_fraction':[1e-4],\n",
        "    'pe__max_iter': [50],  \n",
        "    'pe__eta0':[0.50], \n",
        "    'pe__verbose':[1e-4],    \n",
        "    \n",
        "       \n",
        "}\n",
        "clf = GridSearchCV(estimator=pipe,           \n",
        "                  param_grid=params, \n",
        "                  cv=5,\n",
        "                  return_train_score=True) # Turn on cv train scores\n",
        "clf.fit(X_tr, y_tr) \n",
        "print('\\nMelhor Ajuste:',clf.best_estimator_,'score:',clf.best_score_)\n"
      ],
      "metadata": {
        "colab": {
          "base_uri": "https://localhost:8080/"
        },
        "id": "TlPgrVkny2Ei",
        "outputId": "794d04f1-6c46-49b4-9171-d4190aa74d87"
      },
      "execution_count": null,
      "outputs": [
        {
          "output_type": "stream",
          "name": "stderr",
          "text": [
            "/usr/local/lib/python3.7/dist-packages/sklearn/model_selection/_split.py:680: UserWarning: The least populated class in y has only 3 members, which is less than n_splits=5.\n",
            "  UserWarning,\n",
            "[Parallel(n_jobs=1)]: Using backend SequentialBackend with 1 concurrent workers.\n",
            "[Parallel(n_jobs=1)]: Done  40 out of  40 | elapsed:    0.5s finished\n",
            "[Parallel(n_jobs=1)]: Using backend SequentialBackend with 1 concurrent workers.\n",
            "[Parallel(n_jobs=1)]: Done  40 out of  40 | elapsed:    0.6s finished\n",
            "[Parallel(n_jobs=1)]: Using backend SequentialBackend with 1 concurrent workers.\n",
            "[Parallel(n_jobs=1)]: Done  40 out of  40 | elapsed:    0.6s finished\n",
            "[Parallel(n_jobs=1)]: Using backend SequentialBackend with 1 concurrent workers.\n",
            "[Parallel(n_jobs=1)]: Done  40 out of  40 | elapsed:    0.5s finished\n",
            "[Parallel(n_jobs=1)]: Using backend SequentialBackend with 1 concurrent workers.\n",
            "[Parallel(n_jobs=1)]: Done  40 out of  40 | elapsed:    0.5s finished\n",
            "[Parallel(n_jobs=1)]: Using backend SequentialBackend with 1 concurrent workers.\n"
          ]
        },
        {
          "output_type": "stream",
          "name": "stdout",
          "text": [
            "\n",
            "Melhor Ajuste: Pipeline(steps=[('pe',\n",
            "                 Perceptron(eta0=0.5, max_iter=50, penalty='l2',\n",
            "                            validation_fraction=0.0001, verbose=0.0001))]) score: 0.7699999999999999\n"
          ]
        },
        {
          "output_type": "stream",
          "name": "stderr",
          "text": [
            "[Parallel(n_jobs=1)]: Done  40 out of  40 | elapsed:    0.7s finished\n"
          ]
        }
      ]
    },
    {
      "cell_type": "markdown",
      "source": [
        "# **Perceptron sem ajuste parametros**"
      ],
      "metadata": {
        "id": "RMJxAjzuA4dN"
      }
    },
    {
      "cell_type": "code",
      "source": [
        "from sklearn.linear_model import Perceptron\n",
        "modelo =  Perceptron(eta0=0.5, max_iter=50, penalty='l2',validation_fraction=0.0001, verbose=0.0001)\n",
        "modelo.fit(X_tr, y_tr)\n",
        "per_pr = modelo.predict(X_te)\n",
        "perhits = per_pr == y_te\n",
        "perhits, sum(perhits)/len(perhits)"
      ],
      "metadata": {
        "colab": {
          "base_uri": "https://localhost:8080/"
        },
        "id": "kTmlYd6aA71_",
        "outputId": "72fbb768-100a-4a0e-a4a3-134a021c9310"
      },
      "execution_count": null,
      "outputs": [
        {
          "output_type": "stream",
          "name": "stderr",
          "text": [
            "[Parallel(n_jobs=1)]: Using backend SequentialBackend with 1 concurrent workers.\n",
            "[Parallel(n_jobs=1)]: Done  40 out of  40 | elapsed:    0.7s finished\n"
          ]
        },
        {
          "output_type": "execute_result",
          "data": {
            "text/plain": [
              "(array([ True,  True, False,  True,  True, False,  True,  True,  True,\n",
              "         True,  True,  True,  True,  True,  True, False,  True,  True,\n",
              "         True,  True,  True,  True,  True,  True,  True,  True,  True,\n",
              "        False,  True,  True, False,  True,  True, False,  True,  True,\n",
              "         True,  True,  True, False, False,  True,  True, False, False,\n",
              "         True, False,  True,  True,  True, False,  True,  True,  True,\n",
              "         True, False, False,  True, False,  True, False,  True,  True,\n",
              "        False,  True, False, False,  True,  True,  True,  True,  True,\n",
              "        False,  True,  True,  True, False,  True, False,  True, False,\n",
              "         True, False,  True,  True,  True,  True,  True, False,  True,\n",
              "         True,  True,  True, False,  True,  True, False,  True,  True,\n",
              "         True]), 0.73)"
            ]
          },
          "metadata": {},
          "execution_count": 53
        }
      ]
    },
    {
      "cell_type": "code",
      "source": [
        "import numpy as np\n",
        "hits = np.stack((knnhits, gnbhits, perhits))\n"
      ],
      "metadata": {
        "id": "RUSMWDcyPH64"
      },
      "execution_count": null,
      "outputs": []
    },
    {
      "cell_type": "code",
      "source": [
        "y_pr = np.stack((knn_pr, gnb_pr, per_pr))\n"
      ],
      "metadata": {
        "id": "F0jJuWNSPL6r"
      },
      "execution_count": null,
      "outputs": []
    },
    {
      "cell_type": "code",
      "source": [
        "from scipy import stats\n",
        "y_pr = stats.mode(y_pr)[0][0]\n",
        "vohits = y_pr == y_te\n",
        "vohits, sum(vohits)/len(vohits)"
      ],
      "metadata": {
        "colab": {
          "base_uri": "https://localhost:8080/"
        },
        "id": "5ef5-46NPPgs",
        "outputId": "b37bab75-cc16-418c-974e-3c1ad9471977"
      },
      "execution_count": null,
      "outputs": [
        {
          "output_type": "execute_result",
          "data": {
            "text/plain": [
              "(array([ True,  True,  True,  True,  True,  True,  True,  True,  True,\n",
              "        False,  True,  True,  True,  True,  True, False, False,  True,\n",
              "         True,  True,  True,  True,  True, False,  True,  True,  True,\n",
              "         True,  True,  True,  True,  True,  True,  True,  True,  True,\n",
              "         True,  True,  True,  True,  True,  True,  True, False,  True,\n",
              "         True,  True,  True,  True,  True,  True,  True,  True,  True,\n",
              "         True, False,  True,  True,  True,  True,  True,  True,  True,\n",
              "        False,  True,  True,  True,  True, False,  True,  True,  True,\n",
              "        False,  True,  True,  True,  True,  True,  True,  True, False,\n",
              "         True, False,  True,  True,  True,  True,  True,  True,  True,\n",
              "         True,  True,  True,  True,  True,  True,  True,  True,  True,\n",
              "         True]), 0.89)"
            ]
          },
          "metadata": {},
          "execution_count": 97
        }
      ]
    },
    {
      "cell_type": "markdown",
      "source": [
        "**Combinação de classificadores**"
      ],
      "metadata": {
        "id": "KIHUKhRBTm1c"
      }
    },
    {
      "cell_type": "code",
      "source": [
        "from sklearn.ensemble import VotingClassifier\n",
        "modelo = VotingClassifier([\n",
        "    ('knn', KNeighborsClassifier(algorithm='brute', metric='correlation',weights='distance')),\n",
        "    ('naivebayes',GaussianNB(var_smoothing=0.1)),\n",
        "    ('perceptron', Perceptron(eta0=0.5, max_iter=50, penalty='l2',validation_fraction=0.0001, verbose=0.0001))\n",
        "])\n",
        "modelo.fit(X_tr, y_tr)\n",
        "vo_pr = modelo.predict(X_te)\n",
        "vohits = vo_pr == y_te\n",
        "vohits, sum(vohits)/len(vohits)"
      ],
      "metadata": {
        "colab": {
          "base_uri": "https://localhost:8080/"
        },
        "id": "mH_0az-QPUY2",
        "outputId": "bfc7b453-9b63-4cb2-9501-850e0a452755"
      },
      "execution_count": null,
      "outputs": [
        {
          "output_type": "stream",
          "name": "stderr",
          "text": [
            "[Parallel(n_jobs=1)]: Using backend SequentialBackend with 1 concurrent workers.\n",
            "[Parallel(n_jobs=1)]: Done  40 out of  40 | elapsed:    0.7s finished\n"
          ]
        },
        {
          "output_type": "execute_result",
          "data": {
            "text/plain": [
              "(array([ True,  True,  True,  True,  True,  True,  True,  True,  True,\n",
              "         True,  True,  True,  True,  True,  True, False,  True,  True,\n",
              "         True,  True,  True,  True,  True,  True,  True,  True,  True,\n",
              "         True,  True,  True,  True,  True,  True,  True,  True,  True,\n",
              "         True,  True,  True,  True,  True,  True,  True, False,  True,\n",
              "         True,  True,  True,  True,  True,  True,  True,  True,  True,\n",
              "         True, False,  True,  True,  True,  True,  True,  True,  True,\n",
              "        False,  True,  True,  True,  True, False,  True,  True,  True,\n",
              "        False,  True,  True,  True,  True,  True,  True,  True, False,\n",
              "         True, False,  True,  True,  True,  True,  True,  True,  True,\n",
              "         True,  True,  True,  True,  True,  True,  True,  True,  True,\n",
              "         True]), 0.92)"
            ]
          },
          "metadata": {},
          "execution_count": 59
        }
      ]
    },
    {
      "cell_type": "code",
      "source": [
        "from sklearn.ensemble import VotingClassifier\n",
        "modelo = VotingClassifier([\n",
        "    ('knn1', KNeighborsClassifier(1)),\n",
        "    ('knn2', KNeighborsClassifier(5)),\n",
        "    ('knn3', KNeighborsClassifier(algorithm='brute', metric='correlation',weights='distance')),\n",
        "])\n",
        "modelo.fit(X_tr, y_tr)\n",
        "vo_pr = modelo.predict(X_te)\n",
        "vohits = vo_pr == y_te\n",
        "vohits, sum(vohits)/len(vohits)"
      ],
      "metadata": {
        "colab": {
          "base_uri": "https://localhost:8080/"
        },
        "id": "KGo6L9h9Qovt",
        "outputId": "366e4a02-4b34-4bb7-cc32-513fbf423877"
      },
      "execution_count": null,
      "outputs": [
        {
          "output_type": "execute_result",
          "data": {
            "text/plain": [
              "(array([ True,  True,  True,  True,  True,  True,  True,  True,  True,\n",
              "         True,  True,  True,  True,  True,  True,  True, False,  True,\n",
              "         True,  True,  True,  True,  True, False,  True, False,  True,\n",
              "         True,  True,  True,  True,  True,  True,  True, False,  True,\n",
              "        False, False,  True,  True,  True,  True,  True,  True,  True,\n",
              "         True,  True,  True,  True,  True,  True,  True,  True,  True,\n",
              "         True, False,  True,  True,  True,  True,  True,  True,  True,\n",
              "        False,  True, False,  True,  True, False,  True,  True,  True,\n",
              "        False,  True,  True,  True,  True,  True,  True,  True, False,\n",
              "         True,  True,  True,  True,  True,  True,  True,  True,  True,\n",
              "         True,  True,  True,  True,  True,  True,  True,  True,  True,\n",
              "         True]), 0.88)"
            ]
          },
          "metadata": {},
          "execution_count": 103
        }
      ]
    },
    {
      "cell_type": "code",
      "source": [
        "from sklearn.tree import DecisionTreeClassifier\n",
        "modelo = VotingClassifier([\n",
        "    ('knn', KNeighborsClassifier(algorithm='brute', metric='correlation',weights='distance')),\n",
        "    ('naivebayes', GaussianNB(var_smoothing=0.1)),\n",
        "    ('arvore', DecisionTreeClassifier())\n",
        "])\n",
        "modelo.fit(X_tr, y_tr)\n",
        "vo_pr = modelo.predict(X_te)\n",
        "vohits = vo_pr == y_te\n",
        "vohits, sum(vohits)/len(vohits)"
      ],
      "metadata": {
        "colab": {
          "base_uri": "https://localhost:8080/"
        },
        "id": "niTV34zaQqzM",
        "outputId": "44e05620-7d0f-41db-92c8-4437982f22b8"
      },
      "execution_count": null,
      "outputs": [
        {
          "output_type": "execute_result",
          "data": {
            "text/plain": [
              "(array([ True,  True,  True,  True,  True,  True,  True,  True,  True,\n",
              "        False,  True,  True,  True,  True,  True,  True, False,  True,\n",
              "         True,  True,  True,  True,  True, False,  True, False,  True,\n",
              "         True,  True,  True,  True,  True,  True,  True, False,  True,\n",
              "         True, False,  True,  True,  True,  True,  True,  True,  True,\n",
              "         True,  True,  True,  True,  True,  True,  True,  True,  True,\n",
              "         True,  True,  True,  True,  True,  True,  True,  True,  True,\n",
              "        False,  True,  True,  True,  True, False,  True,  True,  True,\n",
              "        False,  True,  True,  True,  True,  True,  True,  True, False,\n",
              "         True, False,  True,  True,  True,  True,  True,  True,  True,\n",
              "         True,  True,  True,  True,  True,  True,  True,  True,  True,\n",
              "         True]), 0.89)"
            ]
          },
          "metadata": {},
          "execution_count": 106
        }
      ]
    },
    {
      "cell_type": "code",
      "source": [
        "modelo = DecisionTreeClassifier(random_state=42)\n",
        "modelo.fit(X_tr, y_tr)\n",
        "dt_pr = modelo.predict(X_te)\n",
        "dthits = dt_pr == y_te\n",
        "dthits, sum(dthits)/len(dthits)"
      ],
      "metadata": {
        "colab": {
          "base_uri": "https://localhost:8080/"
        },
        "id": "Qt51mdvgQvos",
        "outputId": "33a22d74-aa5a-4001-cc5a-24fec19898d9"
      },
      "execution_count": null,
      "outputs": [
        {
          "output_type": "execute_result",
          "data": {
            "text/plain": [
              "(array([False,  True, False,  True,  True, False,  True,  True,  True,\n",
              "        False, False,  True,  True, False, False, False, False, False,\n",
              "         True, False,  True, False, False, False, False, False, False,\n",
              "        False,  True, False, False,  True, False, False, False, False,\n",
              "        False, False,  True, False, False,  True, False, False,  True,\n",
              "        False, False,  True, False,  True, False,  True,  True, False,\n",
              "         True, False, False, False,  True,  True,  True,  True, False,\n",
              "        False, False,  True,  True, False, False, False,  True, False,\n",
              "        False, False,  True,  True, False, False, False,  True, False,\n",
              "        False, False,  True, False,  True,  True, False, False,  True,\n",
              "         True,  True,  True,  True,  True, False, False,  True, False,\n",
              "        False]), 0.4)"
            ]
          },
          "metadata": {},
          "execution_count": 107
        }
      ]
    },
    {
      "cell_type": "markdown",
      "source": [
        "**Diversificação por reamostragem**"
      ],
      "metadata": {
        "id": "mqTVF-DYTwa7"
      }
    },
    {
      "cell_type": "code",
      "source": [
        "from sklearn.ensemble import BaggingClassifier\n",
        "modelo = BaggingClassifier(random_state=42)\n",
        "modelo.fit(X_tr, y_tr)\n",
        "bag_pr = modelo.predict(X_te)\n",
        "baghits = bag_pr == y_te\n",
        "baghits, sum(baghits)/len(baghits)"
      ],
      "metadata": {
        "colab": {
          "base_uri": "https://localhost:8080/"
        },
        "id": "F3GAM49eQ4kR",
        "outputId": "1a950bfa-487e-4b4c-d559-eeace9c30932"
      },
      "execution_count": null,
      "outputs": [
        {
          "output_type": "execute_result",
          "data": {
            "text/plain": [
              "(array([ True,  True,  True,  True,  True,  True,  True,  True, False,\n",
              "        False, False,  True,  True, False,  True, False, False,  True,\n",
              "         True,  True, False,  True, False, False,  True, False,  True,\n",
              "         True,  True,  True, False,  True,  True,  True, False, False,\n",
              "        False,  True, False, False, False,  True, False,  True, False,\n",
              "         True,  True,  True,  True, False, False,  True,  True, False,\n",
              "         True, False, False, False,  True,  True,  True,  True, False,\n",
              "        False,  True, False,  True, False,  True,  True, False,  True,\n",
              "         True,  True,  True,  True,  True,  True,  True,  True, False,\n",
              "        False,  True,  True, False,  True,  True,  True,  True,  True,\n",
              "        False,  True,  True,  True,  True,  True,  True, False,  True,\n",
              "        False]), 0.64)"
            ]
          },
          "metadata": {},
          "execution_count": 110
        }
      ]
    },
    {
      "cell_type": "code",
      "source": [
        "modelo = BaggingClassifier(DecisionTreeClassifier(), random_state=42)\n",
        "modelo.fit(X_tr, y_tr)\n",
        "bag_pr = modelo.predict(X_te)\n",
        "baghits = bag_pr == y_te\n",
        "baghits, sum(baghits)/len(baghits)"
      ],
      "metadata": {
        "colab": {
          "base_uri": "https://localhost:8080/"
        },
        "id": "v4PUN6xaT1LK",
        "outputId": "dd471149-83c2-49af-cfd2-e2d3fc2b0cae"
      },
      "execution_count": null,
      "outputs": [
        {
          "output_type": "execute_result",
          "data": {
            "text/plain": [
              "(array([ True,  True,  True,  True,  True,  True,  True,  True, False,\n",
              "        False, False,  True,  True, False,  True, False, False,  True,\n",
              "         True,  True, False,  True, False, False,  True, False,  True,\n",
              "         True,  True,  True, False,  True,  True,  True, False, False,\n",
              "        False,  True, False, False, False,  True, False,  True, False,\n",
              "         True,  True,  True,  True, False, False,  True,  True, False,\n",
              "         True, False, False, False,  True,  True,  True,  True, False,\n",
              "        False,  True, False,  True, False,  True,  True, False,  True,\n",
              "         True,  True,  True,  True,  True,  True,  True,  True, False,\n",
              "        False,  True,  True, False,  True,  True,  True,  True,  True,\n",
              "        False,  True,  True,  True,  True,  True,  True, False,  True,\n",
              "        False]), 0.64)"
            ]
          },
          "metadata": {},
          "execution_count": 111
        }
      ]
    },
    {
      "cell_type": "markdown",
      "source": [
        "**Aumentando a aleatoriedade para aumentar a diversidade**"
      ],
      "metadata": {
        "id": "xZBx-xAoT4M1"
      }
    },
    {
      "cell_type": "code",
      "source": [
        "modelo = BaggingClassifier(DecisionTreeClassifier(splitter='random'), random_state=42)\n",
        "modelo.fit(X_tr, y_tr)\n",
        "bag_pr = modelo.predict(X_te)\n",
        "baghits = bag_pr == y_te\n",
        "baghits, sum(baghits)/len(baghits)"
      ],
      "metadata": {
        "colab": {
          "base_uri": "https://localhost:8080/",
          "height": 235
        },
        "id": "leGqsFbtT8jW",
        "outputId": "acc5f501-4a62-4413-b647-ed84a038b8fb"
      },
      "execution_count": null,
      "outputs": [
        {
          "output_type": "error",
          "ename": "NameError",
          "evalue": "ignored",
          "traceback": [
            "\u001b[0;31m---------------------------------------------------------------------------\u001b[0m",
            "\u001b[0;31mNameError\u001b[0m                                 Traceback (most recent call last)",
            "\u001b[0;32m<ipython-input-108-08ad27003594>\u001b[0m in \u001b[0;36m<module>\u001b[0;34m\u001b[0m\n\u001b[0;32m----> 1\u001b[0;31m \u001b[0mmodelo\u001b[0m \u001b[0;34m=\u001b[0m \u001b[0mBaggingClassifier\u001b[0m\u001b[0;34m(\u001b[0m\u001b[0mDecisionTreeClassifier\u001b[0m\u001b[0;34m(\u001b[0m\u001b[0msplitter\u001b[0m\u001b[0;34m=\u001b[0m\u001b[0;34m'random'\u001b[0m\u001b[0;34m)\u001b[0m\u001b[0;34m,\u001b[0m \u001b[0mrandom_state\u001b[0m\u001b[0;34m=\u001b[0m\u001b[0;36m42\u001b[0m\u001b[0;34m)\u001b[0m\u001b[0;34m\u001b[0m\u001b[0;34m\u001b[0m\u001b[0m\n\u001b[0m\u001b[1;32m      2\u001b[0m \u001b[0mmodelo\u001b[0m\u001b[0;34m.\u001b[0m\u001b[0mfit\u001b[0m\u001b[0;34m(\u001b[0m\u001b[0mX_tr\u001b[0m\u001b[0;34m,\u001b[0m \u001b[0my_tr\u001b[0m\u001b[0;34m)\u001b[0m\u001b[0;34m\u001b[0m\u001b[0;34m\u001b[0m\u001b[0m\n\u001b[1;32m      3\u001b[0m \u001b[0mbag_pr\u001b[0m \u001b[0;34m=\u001b[0m \u001b[0mmodelo\u001b[0m\u001b[0;34m.\u001b[0m\u001b[0mpredict\u001b[0m\u001b[0;34m(\u001b[0m\u001b[0mX_te\u001b[0m\u001b[0;34m)\u001b[0m\u001b[0;34m\u001b[0m\u001b[0;34m\u001b[0m\u001b[0m\n\u001b[1;32m      4\u001b[0m \u001b[0mbaghits\u001b[0m \u001b[0;34m=\u001b[0m \u001b[0mbag_pr\u001b[0m \u001b[0;34m==\u001b[0m \u001b[0my_te\u001b[0m\u001b[0;34m\u001b[0m\u001b[0;34m\u001b[0m\u001b[0m\n\u001b[1;32m      5\u001b[0m \u001b[0mbaghits\u001b[0m\u001b[0;34m,\u001b[0m \u001b[0msum\u001b[0m\u001b[0;34m(\u001b[0m\u001b[0mbaghits\u001b[0m\u001b[0;34m)\u001b[0m\u001b[0;34m/\u001b[0m\u001b[0mlen\u001b[0m\u001b[0;34m(\u001b[0m\u001b[0mbaghits\u001b[0m\u001b[0;34m)\u001b[0m\u001b[0;34m\u001b[0m\u001b[0;34m\u001b[0m\u001b[0m\n",
            "\u001b[0;31mNameError\u001b[0m: name 'BaggingClassifier' is not defined"
          ]
        }
      ]
    },
    {
      "cell_type": "code",
      "source": [
        "modelo = BaggingClassifier(DecisionTreeClassifier(splitter='random'), n_estimators=100, random_state=42)\n",
        "modelo.fit(X_tr, y_tr)\n",
        "bag_pr = modelo.predict(X_te)\n",
        "baghits = bag_pr == y_te\n",
        "baghits, sum(baghits)/len(baghits)"
      ],
      "metadata": {
        "colab": {
          "base_uri": "https://localhost:8080/"
        },
        "id": "EEOKavF2T_86",
        "outputId": "94db1c89-7cd9-4d57-8111-001063d6ece8"
      },
      "execution_count": null,
      "outputs": [
        {
          "output_type": "execute_result",
          "data": {
            "text/plain": [
              "(array([ True,  True,  True,  True,  True,  True,  True,  True,  True,\n",
              "         True,  True,  True,  True,  True,  True,  True, False,  True,\n",
              "         True,  True,  True,  True,  True, False,  True,  True,  True,\n",
              "         True,  True,  True,  True,  True,  True,  True,  True,  True,\n",
              "         True,  True,  True,  True, False,  True, False,  True,  True,\n",
              "         True,  True,  True,  True,  True,  True,  True,  True, False,\n",
              "         True,  True, False,  True,  True,  True,  True,  True, False,\n",
              "        False,  True,  True,  True,  True, False,  True,  True,  True,\n",
              "         True,  True,  True,  True,  True,  True,  True,  True, False,\n",
              "         True,  True,  True,  True,  True,  True,  True,  True,  True,\n",
              "         True,  True,  True,  True,  True,  True,  True,  True,  True,\n",
              "        False]), 0.89)"
            ]
          },
          "metadata": {},
          "execution_count": 17
        }
      ]
    },
    {
      "cell_type": "markdown",
      "source": [
        "**Random Forest é um Bagging de Árvores de Decisão**"
      ],
      "metadata": {
        "id": "wuV8cQPdUFei"
      }
    },
    {
      "cell_type": "code",
      "source": [
        "from sklearn.ensemble import RandomForestClassifier\n",
        "modelo = RandomForestClassifier(random_state=42)\n",
        "modelo.fit(X_tr, y_tr)\n",
        "rf_pr = modelo.predict(X_te)\n",
        "rfhits = rf_pr == y_te\n",
        "rfhits, sum(rfhits)/len(rfhits)"
      ],
      "metadata": {
        "colab": {
          "base_uri": "https://localhost:8080/"
        },
        "id": "ADIU7yNxUKEs",
        "outputId": "3503df4c-89d7-48e7-bf9a-43cc0dde2cce"
      },
      "execution_count": null,
      "outputs": [
        {
          "output_type": "execute_result",
          "data": {
            "text/plain": [
              "(array([ True,  True,  True,  True,  True,  True,  True,  True,  True,\n",
              "         True,  True,  True,  True,  True,  True,  True, False,  True,\n",
              "         True,  True,  True,  True,  True,  True,  True,  True,  True,\n",
              "         True,  True,  True,  True,  True,  True,  True,  True,  True,\n",
              "        False,  True,  True,  True, False,  True, False,  True,  True,\n",
              "         True,  True,  True,  True,  True, False,  True,  True, False,\n",
              "         True,  True,  True,  True,  True,  True,  True,  True, False,\n",
              "        False,  True,  True,  True,  True, False, False,  True,  True,\n",
              "        False,  True,  True,  True,  True,  True,  True,  True, False,\n",
              "         True,  True,  True,  True,  True,  True,  True,  True,  True,\n",
              "         True,  True,  True,  True,  True,  True,  True,  True,  True,\n",
              "         True]), 0.88)"
            ]
          },
          "metadata": {},
          "execution_count": 72
        }
      ]
    },
    {
      "cell_type": "markdown",
      "source": [
        "# **Ajuste paramentros Random Forest**"
      ],
      "metadata": {
        "id": "mT2JPGAgnjzI"
      }
    },
    {
      "cell_type": "code",
      "source": [
        "from sklearn.pipeline import Pipeline\n",
        "from sklearn.model_selection import GridSearchCV\n",
        "pipe = Pipeline([        \n",
        "    ('rf', RandomForestClassifier(random_state=42)) \n",
        "])\n",
        "params = {    \n",
        "    'rf__n_estimators': [10,50, 100],\n",
        "    'rf__criterion': ['gini', 'entropy', 'log_loss'], \n",
        "    'rf__bootstrap': [True, False],\n",
        "    '\n",
        "}\n",
        "clf = GridSearchCV(estimator=pipe,           \n",
        "                  param_grid=params, \n",
        "                  cv=5,\n",
        "                  return_train_score=True) # Turn on cv train scores\n",
        "clf.fit(X_tr, y_tr)\n",
        "print('\\nMelhor Ajuste:',clf.best_estimator_,'score:',clf.best_score_)"
      ],
      "metadata": {
        "colab": {
          "base_uri": "https://localhost:8080/"
        },
        "id": "uN71bhXQgQMh",
        "outputId": "611886b3-c3c9-44d5-b03e-30f935bda145"
      },
      "execution_count": null,
      "outputs": [
        {
          "output_type": "stream",
          "name": "stderr",
          "text": [
            "/usr/local/lib/python3.7/dist-packages/sklearn/model_selection/_split.py:680: UserWarning: The least populated class in y has only 3 members, which is less than n_splits=5.\n",
            "  UserWarning,\n"
          ]
        },
        {
          "output_type": "stream",
          "name": "stdout",
          "text": [
            "\n",
            "Melhor Ajuste: Pipeline(steps=[('rf',\n",
            "                 RandomForestClassifier(bootstrap=False, criterion='entropy',\n",
            "                                        max_features=0.75, random_state=42))]) score: 0.7033333333333333\n"
          ]
        }
      ]
    },
    {
      "cell_type": "markdown",
      "source": [
        "# **Random Forest Ajustado**"
      ],
      "metadata": {
        "id": "CTuSOjoXyaFX"
      }
    },
    {
      "cell_type": "code",
      "source": [
        "from sklearn.ensemble import RandomForestClassifier\n",
        "modelo = RandomForestClassifier(random_state=42,criterion='entropy',bootstrap=False)\n",
        "modelo.fit(X_tr, y_tr)\n",
        "rf_pr = modelo.predict(X_te)\n",
        "rfhits = rf_pr == y_te\n",
        "rfhits, sum(rfhits)/len(rfhits)"
      ],
      "metadata": {
        "colab": {
          "base_uri": "https://localhost:8080/"
        },
        "id": "I4nmwkV4yd2h",
        "outputId": "6e71af03-48ba-433e-d39c-7262ca2f7052"
      },
      "execution_count": null,
      "outputs": [
        {
          "output_type": "execute_result",
          "data": {
            "text/plain": [
              "(array([ True,  True,  True,  True,  True,  True,  True,  True,  True,\n",
              "         True,  True,  True,  True,  True,  True,  True,  True,  True,\n",
              "         True,  True,  True,  True,  True,  True,  True,  True,  True,\n",
              "         True,  True,  True,  True,  True,  True,  True,  True,  True,\n",
              "         True, False,  True,  True,  True,  True, False,  True,  True,\n",
              "         True,  True,  True,  True,  True,  True,  True,  True,  True,\n",
              "         True,  True,  True,  True,  True,  True,  True,  True, False,\n",
              "        False,  True,  True,  True,  True,  True,  True,  True,  True,\n",
              "         True,  True,  True,  True,  True,  True,  True,  True, False,\n",
              "         True,  True,  True,  True,  True,  True,  True,  True,  True,\n",
              "         True,  True,  True,  True,  True,  True,  True,  True,  True,\n",
              "         True]), 0.95)"
            ]
          },
          "metadata": {},
          "execution_count": 75
        }
      ]
    },
    {
      "cell_type": "markdown",
      "source": [
        "**Regularização do Bagging**"
      ],
      "metadata": {
        "id": "BwCarfpZUNz7"
      }
    },
    {
      "cell_type": "code",
      "source": [
        "modelo = BaggingClassifier(DecisionTreeClassifier(splitter='random'), n_estimators=100, max_features=0.15, random_state=42)\n",
        "modelo.fit(X_tr, y_tr)\n",
        "bag_pr = modelo.predict(X_te)\n",
        "baghits = bag_pr == y_te\n",
        "baghits, sum(baghits)/len(baghits)"
      ],
      "metadata": {
        "colab": {
          "base_uri": "https://localhost:8080/"
        },
        "id": "pnoLegz2URVw",
        "outputId": "d7f2d8fb-391a-4bff-c064-992b3cbad04a"
      },
      "execution_count": null,
      "outputs": [
        {
          "output_type": "execute_result",
          "data": {
            "text/plain": [
              "(array([ True,  True,  True,  True,  True,  True,  True,  True,  True,\n",
              "         True,  True,  True,  True,  True,  True,  True, False,  True,\n",
              "         True,  True,  True,  True,  True,  True,  True,  True,  True,\n",
              "         True,  True,  True,  True,  True,  True,  True,  True,  True,\n",
              "         True,  True,  True,  True, False,  True,  True,  True,  True,\n",
              "         True,  True,  True,  True,  True,  True,  True,  True,  True,\n",
              "         True,  True, False,  True,  True,  True,  True,  True, False,\n",
              "        False,  True,  True,  True,  True,  True,  True,  True,  True,\n",
              "         True,  True,  True,  True,  True,  True,  True,  True, False,\n",
              "         True,  True,  True,  True,  True,  True,  True,  True,  True,\n",
              "         True,  True,  True,  True,  True,  True,  True,  True,  True,\n",
              "         True]), 0.94)"
            ]
          },
          "metadata": {},
          "execution_count": 19
        }
      ]
    },
    {
      "cell_type": "markdown",
      "source": [
        "**Florestas extremamente aleatórias**"
      ],
      "metadata": {
        "id": "UAbFgyD4UUcU"
      }
    },
    {
      "cell_type": "code",
      "source": [
        "from sklearn.ensemble import ExtraTreesClassifier\n",
        "modelo = ExtraTreesClassifier(random_state=42)\n",
        "modelo.fit(X_tr, y_tr)\n",
        "et_pr = modelo.predict(X_te)\n",
        "ethits = et_pr == y_te\n",
        "ethits, sum(ethits)/len(ethits)"
      ],
      "metadata": {
        "colab": {
          "base_uri": "https://localhost:8080/"
        },
        "id": "jAsz_koNUX9s",
        "outputId": "5627ccf8-f32d-40e1-dd8b-f2f3d7f511d2"
      },
      "execution_count": null,
      "outputs": [
        {
          "output_type": "execute_result",
          "data": {
            "text/plain": [
              "(array([ True,  True,  True,  True,  True,  True,  True,  True,  True,\n",
              "         True,  True,  True,  True,  True,  True,  True,  True,  True,\n",
              "         True,  True,  True,  True,  True,  True,  True,  True,  True,\n",
              "         True,  True,  True,  True,  True,  True,  True,  True,  True,\n",
              "         True, False,  True,  True,  True,  True,  True,  True,  True,\n",
              "         True,  True,  True,  True,  True,  True,  True,  True,  True,\n",
              "         True, False,  True,  True,  True,  True,  True,  True, False,\n",
              "        False,  True,  True,  True,  True,  True,  True,  True,  True,\n",
              "         True,  True,  True,  True,  True,  True,  True,  True, False,\n",
              "         True,  True,  True,  True,  True,  True,  True,  True,  True,\n",
              "         True,  True,  True,  True,  True,  True,  True,  True,  True,\n",
              "         True]), 0.95)"
            ]
          },
          "metadata": {},
          "execution_count": 86
        }
      ]
    },
    {
      "cell_type": "markdown",
      "source": [
        "# **Ajuste paramentros Arvore extra**"
      ],
      "metadata": {
        "id": "adZxyg9tBvuH"
      }
    },
    {
      "cell_type": "code",
      "source": [
        "from sklearn.pipeline import Pipeline\n",
        "from sklearn.model_selection import GridSearchCV\n",
        "pipe = Pipeline([        \n",
        "    ('et', ExtraTreesClassifier(random_state=42)) \n",
        "])\n",
        "params = {    \n",
        "    'et__n_estimators': [10,50, 100],\n",
        "    'et__criterion': ['gini', 'entropy', 'log_loss'],\n",
        "    'et__max_features': ['sqrt', 'log2', 'None'],\n",
        "}\n",
        "clf = GridSearchCV(estimator=pipe,           \n",
        "                  param_grid=params, \n",
        "                  cv=5,\n",
        "                  return_train_score=True) # Turn on cv train scores\n",
        "clf.fit(X_tr, y_tr)\n",
        "print('\\nMelhor Ajuste:',clf.best_estimator_,'score:',clf.best_score_)"
      ],
      "metadata": {
        "colab": {
          "base_uri": "https://localhost:8080/"
        },
        "id": "ED6XJfJBBxdX",
        "outputId": "4f0cdc5d-bd23-4c8c-e7cd-98b21f05fbcd"
      },
      "execution_count": null,
      "outputs": [
        {
          "output_type": "stream",
          "name": "stderr",
          "text": [
            "/usr/local/lib/python3.7/dist-packages/sklearn/model_selection/_split.py:680: UserWarning: The least populated class in y has only 3 members, which is less than n_splits=5.\n",
            "  UserWarning,\n",
            "/usr/local/lib/python3.7/dist-packages/sklearn/model_selection/_validation.py:372: FitFailedWarning: \n",
            "75 fits failed out of a total of 135.\n",
            "The score on these train-test partitions for these parameters will be set to nan.\n",
            "If these failures are not expected, you can try to debug them by setting error_score='raise'.\n",
            "\n",
            "Below are more details about the failures:\n",
            "--------------------------------------------------------------------------------\n",
            "45 fits failed with the following error:\n",
            "Traceback (most recent call last):\n",
            "  File \"/usr/local/lib/python3.7/dist-packages/sklearn/model_selection/_validation.py\", line 680, in _fit_and_score\n",
            "    estimator.fit(X_train, y_train, **fit_params)\n",
            "  File \"/usr/local/lib/python3.7/dist-packages/sklearn/pipeline.py\", line 394, in fit\n",
            "    self._final_estimator.fit(Xt, y, **fit_params_last_step)\n",
            "  File \"/usr/local/lib/python3.7/dist-packages/sklearn/ensemble/_forest.py\", line 467, in fit\n",
            "    for i, t in enumerate(trees)\n",
            "  File \"/usr/local/lib/python3.7/dist-packages/joblib/parallel.py\", line 1085, in __call__\n",
            "    if self.dispatch_one_batch(iterator):\n",
            "  File \"/usr/local/lib/python3.7/dist-packages/joblib/parallel.py\", line 901, in dispatch_one_batch\n",
            "    self._dispatch(tasks)\n",
            "  File \"/usr/local/lib/python3.7/dist-packages/joblib/parallel.py\", line 819, in _dispatch\n",
            "    job = self._backend.apply_async(batch, callback=cb)\n",
            "  File \"/usr/local/lib/python3.7/dist-packages/joblib/_parallel_backends.py\", line 208, in apply_async\n",
            "    result = ImmediateResult(func)\n",
            "  File \"/usr/local/lib/python3.7/dist-packages/joblib/_parallel_backends.py\", line 597, in __init__\n",
            "    self.results = batch()\n",
            "  File \"/usr/local/lib/python3.7/dist-packages/joblib/parallel.py\", line 289, in __call__\n",
            "    for func, args, kwargs in self.items]\n",
            "  File \"/usr/local/lib/python3.7/dist-packages/joblib/parallel.py\", line 289, in <listcomp>\n",
            "    for func, args, kwargs in self.items]\n",
            "  File \"/usr/local/lib/python3.7/dist-packages/sklearn/utils/fixes.py\", line 216, in __call__\n",
            "    return self.function(*args, **kwargs)\n",
            "  File \"/usr/local/lib/python3.7/dist-packages/sklearn/ensemble/_forest.py\", line 187, in _parallel_build_trees\n",
            "    tree.fit(X, y, sample_weight=sample_weight, check_input=False)\n",
            "  File \"/usr/local/lib/python3.7/dist-packages/sklearn/tree/_classes.py\", line 942, in fit\n",
            "    X_idx_sorted=X_idx_sorted,\n",
            "  File \"/usr/local/lib/python3.7/dist-packages/sklearn/tree/_classes.py\", line 282, in fit\n",
            "    \"Invalid value for max_features. \"\n",
            "ValueError: Invalid value for max_features. Allowed string values are 'auto', 'sqrt' or 'log2'.\n",
            "\n",
            "--------------------------------------------------------------------------------\n",
            "30 fits failed with the following error:\n",
            "Traceback (most recent call last):\n",
            "  File \"/usr/local/lib/python3.7/dist-packages/sklearn/model_selection/_validation.py\", line 680, in _fit_and_score\n",
            "    estimator.fit(X_train, y_train, **fit_params)\n",
            "  File \"/usr/local/lib/python3.7/dist-packages/sklearn/pipeline.py\", line 394, in fit\n",
            "    self._final_estimator.fit(Xt, y, **fit_params_last_step)\n",
            "  File \"/usr/local/lib/python3.7/dist-packages/sklearn/ensemble/_forest.py\", line 467, in fit\n",
            "    for i, t in enumerate(trees)\n",
            "  File \"/usr/local/lib/python3.7/dist-packages/joblib/parallel.py\", line 1085, in __call__\n",
            "    if self.dispatch_one_batch(iterator):\n",
            "  File \"/usr/local/lib/python3.7/dist-packages/joblib/parallel.py\", line 901, in dispatch_one_batch\n",
            "    self._dispatch(tasks)\n",
            "  File \"/usr/local/lib/python3.7/dist-packages/joblib/parallel.py\", line 819, in _dispatch\n",
            "    job = self._backend.apply_async(batch, callback=cb)\n",
            "  File \"/usr/local/lib/python3.7/dist-packages/joblib/_parallel_backends.py\", line 208, in apply_async\n",
            "    result = ImmediateResult(func)\n",
            "  File \"/usr/local/lib/python3.7/dist-packages/joblib/_parallel_backends.py\", line 597, in __init__\n",
            "    self.results = batch()\n",
            "  File \"/usr/local/lib/python3.7/dist-packages/joblib/parallel.py\", line 289, in __call__\n",
            "    for func, args, kwargs in self.items]\n",
            "  File \"/usr/local/lib/python3.7/dist-packages/joblib/parallel.py\", line 289, in <listcomp>\n",
            "    for func, args, kwargs in self.items]\n",
            "  File \"/usr/local/lib/python3.7/dist-packages/sklearn/utils/fixes.py\", line 216, in __call__\n",
            "    return self.function(*args, **kwargs)\n",
            "  File \"/usr/local/lib/python3.7/dist-packages/sklearn/ensemble/_forest.py\", line 187, in _parallel_build_trees\n",
            "    tree.fit(X, y, sample_weight=sample_weight, check_input=False)\n",
            "  File \"/usr/local/lib/python3.7/dist-packages/sklearn/tree/_classes.py\", line 942, in fit\n",
            "    X_idx_sorted=X_idx_sorted,\n",
            "  File \"/usr/local/lib/python3.7/dist-packages/sklearn/tree/_classes.py\", line 352, in fit\n",
            "    criterion = CRITERIA_CLF[self.criterion](\n",
            "KeyError: 'log_loss'\n",
            "\n",
            "  warnings.warn(some_fits_failed_message, FitFailedWarning)\n",
            "/usr/local/lib/python3.7/dist-packages/sklearn/model_selection/_search.py:972: UserWarning: One or more of the test scores are non-finite: [0.82666667 0.93333333 0.94333333 0.79666667 0.90333333 0.92\n",
            "        nan        nan        nan 0.81333333 0.90666667 0.92333333\n",
            " 0.73       0.87333333 0.90666667        nan        nan        nan\n",
            "        nan        nan        nan        nan        nan        nan\n",
            "        nan        nan        nan]\n",
            "  category=UserWarning,\n",
            "/usr/local/lib/python3.7/dist-packages/sklearn/model_selection/_search.py:972: UserWarning: One or more of the train scores are non-finite: [ 1.  1.  1.  1.  1.  1. nan nan nan  1.  1.  1.  1.  1.  1. nan nan nan\n",
            " nan nan nan nan nan nan nan nan nan]\n",
            "  category=UserWarning,\n"
          ]
        },
        {
          "output_type": "stream",
          "name": "stdout",
          "text": [
            "\n",
            "Melhor Ajuste: Pipeline(steps=[('et',\n",
            "                 ExtraTreesClassifier(max_features='sqrt', random_state=42))]) score: 0.9433333333333334\n"
          ]
        }
      ]
    },
    {
      "cell_type": "markdown",
      "source": [
        "**Boosting**"
      ],
      "metadata": {
        "id": "BM_Wpk7iUgvD"
      }
    },
    {
      "cell_type": "code",
      "source": [
        "from sklearn.ensemble import AdaBoostClassifier\n",
        "modelo = AdaBoostClassifier(random_state=42)\n",
        "modelo.fit(X_tr, y_tr)\n",
        "ab_pr = modelo.predict(X_te)\n",
        "abhits = ab_pr == y_te\n",
        "abhits, sum(abhits)/len(abhits)"
      ],
      "metadata": {
        "colab": {
          "base_uri": "https://localhost:8080/"
        },
        "id": "slAIMyOxUfzS",
        "outputId": "5edd6fb0-7752-414b-ff30-8f2eda44ea03"
      },
      "execution_count": null,
      "outputs": [
        {
          "output_type": "execute_result",
          "data": {
            "text/plain": [
              "(array([False, False, False, False, False, False,  True, False, False,\n",
              "        False, False, False,  True, False, False, False, False, False,\n",
              "        False, False, False, False, False, False, False, False, False,\n",
              "        False, False,  True, False,  True, False,  True, False, False,\n",
              "        False, False, False, False,  True, False, False, False, False,\n",
              "         True, False,  True, False, False, False,  True, False,  True,\n",
              "        False, False, False, False, False, False, False, False, False,\n",
              "        False, False, False, False, False, False, False,  True, False,\n",
              "        False, False,  True, False, False, False, False, False, False,\n",
              "        False, False, False, False, False, False, False, False, False,\n",
              "        False, False, False, False, False, False, False,  True, False,\n",
              "        False]), 0.13)"
            ]
          },
          "metadata": {},
          "execution_count": 21
        }
      ]
    },
    {
      "cell_type": "code",
      "source": [
        "from sklearn.ensemble import AdaBoostClassifier\n",
        "modelo = AdaBoostClassifier(DecisionTreeClassifier(max_depth=25, splitter='random'), learning_rate=0.15, random_state=42)\n",
        "modelo.fit(X_tr, y_tr)\n",
        "ab_pr = modelo.predict(X_te)\n",
        "abhits = ab_pr == y_te\n",
        "abhits, sum(abhits)/len(abhits)"
      ],
      "metadata": {
        "colab": {
          "base_uri": "https://localhost:8080/"
        },
        "id": "JysZ8dBeUlgQ",
        "outputId": "8fc75743-f329-489a-e850-91fd319114e3"
      },
      "execution_count": null,
      "outputs": [
        {
          "output_type": "execute_result",
          "data": {
            "text/plain": [
              "(array([ True,  True,  True,  True,  True,  True,  True,  True,  True,\n",
              "         True,  True,  True,  True,  True,  True,  True,  True,  True,\n",
              "         True,  True,  True,  True,  True,  True,  True,  True,  True,\n",
              "         True,  True,  True,  True,  True,  True,  True,  True,  True,\n",
              "        False,  True,  True,  True,  True,  True,  True,  True,  True,\n",
              "         True,  True,  True,  True,  True, False,  True,  True,  True,\n",
              "         True,  True, False,  True,  True,  True,  True,  True, False,\n",
              "        False,  True,  True,  True,  True,  True,  True,  True,  True,\n",
              "         True,  True,  True,  True,  True,  True,  True,  True, False,\n",
              "         True,  True,  True,  True,  True,  True,  True,  True, False,\n",
              "         True,  True,  True,  True,  True,  True,  True,  True,  True,\n",
              "         True]), 0.93)"
            ]
          },
          "metadata": {},
          "execution_count": 22
        }
      ]
    },
    {
      "cell_type": "code",
      "source": [
        "from xgboost import XGBClassifier\n",
        "modelo = XGBClassifier(use_label_encoder=False, random_state=42)\n",
        "modelo.fit(X_tr, y_tr)\n",
        "xgb_pr = modelo.predict(X_te)\n",
        "xgbhits = xgb_pr == y_te\n",
        "xgbhits, sum(xgbhits)/len(xgbhits)"
      ],
      "metadata": {
        "colab": {
          "base_uri": "https://localhost:8080/"
        },
        "id": "ZI_Vmz4EUpSB",
        "outputId": "afbd410c-6104-4bbd-ea44-fb667973edda"
      },
      "execution_count": null,
      "outputs": [
        {
          "output_type": "execute_result",
          "data": {
            "text/plain": [
              "(array([ True,  True,  True,  True,  True,  True,  True, False,  True,\n",
              "        False,  True,  True,  True, False,  True,  True, False, False,\n",
              "         True,  True,  True,  True,  True,  True,  True,  True,  True,\n",
              "        False,  True, False, False,  True,  True,  True,  True, False,\n",
              "        False, False,  True,  True, False,  True, False,  True, False,\n",
              "        False,  True,  True,  True,  True, False,  True,  True, False,\n",
              "         True,  True, False, False,  True,  True,  True,  True, False,\n",
              "        False,  True, False,  True,  True,  True, False,  True, False,\n",
              "         True,  True,  True,  True,  True, False, False,  True, False,\n",
              "        False, False,  True,  True,  True,  True,  True, False, False,\n",
              "        False,  True,  True,  True,  True,  True,  True,  True,  True,\n",
              "         True]), 0.68)"
            ]
          },
          "metadata": {},
          "execution_count": 23
        }
      ]
    },
    {
      "cell_type": "code",
      "source": [
        "from xgboost import XGBClassifier\n",
        "modelo = XGBClassifier(colsample_bynode=0.01, learning_rate=0.15, random_state=42)\n",
        "modelo.fit(X_tr, y_tr)\n",
        "xgb_pr = modelo.predict(X_te)\n",
        "xgbhits = xgb_pr == y_te\n",
        "xgbhits, sum(xgbhits)/len(xgbhits)"
      ],
      "metadata": {
        "colab": {
          "base_uri": "https://localhost:8080/"
        },
        "id": "ul848FjKUt0X",
        "outputId": "94699afd-284c-49b5-8d16-c68720e8c94f"
      },
      "execution_count": null,
      "outputs": [
        {
          "output_type": "execute_result",
          "data": {
            "text/plain": [
              "(array([ True,  True,  True,  True,  True,  True,  True,  True,  True,\n",
              "         True,  True,  True,  True,  True,  True,  True,  True,  True,\n",
              "         True,  True,  True,  True,  True,  True,  True,  True,  True,\n",
              "         True,  True,  True, False,  True,  True,  True,  True,  True,\n",
              "        False,  True,  True,  True, False,  True, False,  True,  True,\n",
              "         True,  True,  True,  True, False,  True,  True,  True,  True,\n",
              "         True,  True,  True,  True,  True,  True,  True,  True, False,\n",
              "        False,  True,  True,  True,  True,  True,  True,  True,  True,\n",
              "         True,  True,  True,  True,  True,  True,  True,  True,  True,\n",
              "         True,  True,  True,  True,  True,  True,  True,  True,  True,\n",
              "         True,  True,  True,  True,  True,  True,  True,  True,  True,\n",
              "         True]), 0.93)"
            ]
          },
          "metadata": {},
          "execution_count": 24
        }
      ]
    },
    {
      "cell_type": "code",
      "source": [
        "import warnings\n",
        "warnings.filterwarnings('ignore')"
      ],
      "metadata": {
        "id": "Pd5gR0mTU0Zn"
      },
      "execution_count": null,
      "outputs": []
    },
    {
      "cell_type": "markdown",
      "source": [
        "sem ajuste"
      ],
      "metadata": {
        "id": "0mOb51iFFnkF"
      }
    },
    {
      "cell_type": "code",
      "source": [
        "from sklearn.ensemble import StackingClassifier\n",
        "\n",
        "voting = VotingClassifier([\n",
        "    #parametros ajustados\n",
        "        ('knn', KNeighborsClassifier()),\n",
        "        ('naivebayes', GaussianNB()),\n",
        "        ('perceptron', Perceptron())\n",
        "    ])\n",
        "\n",
        "modelo = StackingClassifier([\n",
        "    ('voting', voting),\n",
        "    ('extratrees', ExtraTreesClassifier(random_state=42)),\n",
        "    ('randomforest', RandomForestClassifier(random_state=42))\n",
        "], cv=3, passthrough=True)\n",
        "\n",
        "modelo.fit(X_tr, y_tr) \n",
        "sc_pr = modelo.predict(X_te)\n",
        "schits = sc_pr == y_te\n",
        "schits, sum(schits)/len(schits)"
      ],
      "metadata": {
        "colab": {
          "base_uri": "https://localhost:8080/"
        },
        "id": "pZJNb8iUFmgz",
        "outputId": "6b0aefb0-3962-413f-ec55-50cc60bd083c"
      },
      "execution_count": null,
      "outputs": [
        {
          "output_type": "stream",
          "name": "stderr",
          "text": [
            "/usr/local/lib/python3.7/dist-packages/sklearn/linear_model/_logistic.py:818: ConvergenceWarning: lbfgs failed to converge (status=1):\n",
            "STOP: TOTAL NO. of ITERATIONS REACHED LIMIT.\n",
            "\n",
            "Increase the number of iterations (max_iter) or scale the data as shown in:\n",
            "    https://scikit-learn.org/stable/modules/preprocessing.html\n",
            "Please also refer to the documentation for alternative solver options:\n",
            "    https://scikit-learn.org/stable/modules/linear_model.html#logistic-regression\n",
            "  extra_warning_msg=_LOGISTIC_SOLVER_CONVERGENCE_MSG,\n"
          ]
        },
        {
          "output_type": "execute_result",
          "data": {
            "text/plain": [
              "(array([ True,  True,  True,  True,  True,  True,  True,  True,  True,\n",
              "         True,  True,  True,  True,  True,  True,  True,  True,  True,\n",
              "         True,  True,  True,  True,  True,  True,  True,  True,  True,\n",
              "         True,  True,  True, False,  True,  True,  True,  True,  True,\n",
              "         True,  True,  True,  True,  True,  True,  True,  True,  True,\n",
              "         True,  True,  True,  True,  True,  True,  True,  True,  True,\n",
              "         True,  True,  True,  True,  True,  True,  True,  True,  True,\n",
              "        False,  True,  True,  True,  True, False,  True,  True,  True,\n",
              "        False,  True,  True,  True,  True,  True,  True,  True, False,\n",
              "         True,  True,  True,  True,  True,  True,  True,  True,  True,\n",
              "         True,  True,  True,  True,  True,  True,  True,  True,  True,\n",
              "         True]), 0.95)"
            ]
          },
          "metadata": {},
          "execution_count": 92
        }
      ]
    },
    {
      "cell_type": "markdown",
      "source": [
        "com ajuste"
      ],
      "metadata": {
        "id": "J39WDu1kFqA5"
      }
    },
    {
      "cell_type": "code",
      "source": [
        "from sklearn.ensemble import StackingClassifier\n",
        "\n",
        "voting = VotingClassifier([\n",
        "    #parametros ajustados\n",
        "        ('knn', KNeighborsClassifier(algorithm='ball_tree', leaf_size=10,\n",
        "                                      metric='cityblock', n_neighbors=3,\n",
        "                                      weights='distance')),\n",
        "        ('naivebayes', GaussianNB(var_smoothing=0.1)),\n",
        "        ('perceptron', Perceptron(eta0=0.5, max_iter=50, penalty='l2',validation_fraction=0.0001, verbose=0.0001))\n",
        "    ])\n",
        "\n",
        "modelo = StackingClassifier([\n",
        "    ('voting', voting),\n",
        "    ('extratrees', ExtraTreesClassifier(random_state=42)),\n",
        "    ('randomforest', RandomForestClassifier(random_state=42,criterion='entropy',bootstrap=False))\n",
        "], cv=3, passthrough=True)\n",
        "\n",
        "modelo.fit(X_tr, y_tr) \n",
        "sc_pr = modelo.predict(X_te)\n",
        "schits = sc_pr == y_te\n",
        "schits, sum(schits)/len(schits)"
      ],
      "metadata": {
        "colab": {
          "base_uri": "https://localhost:8080/"
        },
        "id": "DnQwiVJzU3OM",
        "outputId": "f513473b-66a5-404c-cfbb-ab0e097d6dd1"
      },
      "execution_count": null,
      "outputs": [
        {
          "output_type": "stream",
          "name": "stderr",
          "text": [
            "[Parallel(n_jobs=1)]: Using backend SequentialBackend with 1 concurrent workers.\n",
            "[Parallel(n_jobs=1)]: Done  40 out of  40 | elapsed:    0.7s finished\n",
            "[Parallel(n_jobs=1)]: Using backend SequentialBackend with 1 concurrent workers.\n",
            "[Parallel(n_jobs=1)]: Done  40 out of  40 | elapsed:    0.5s finished\n",
            "[Parallel(n_jobs=1)]: Using backend SequentialBackend with 1 concurrent workers.\n",
            "[Parallel(n_jobs=1)]: Done  40 out of  40 | elapsed:    0.4s finished\n",
            "[Parallel(n_jobs=1)]: Using backend SequentialBackend with 1 concurrent workers.\n",
            "[Parallel(n_jobs=1)]: Done  40 out of  40 | elapsed:    0.4s finished\n",
            "/usr/local/lib/python3.7/dist-packages/sklearn/linear_model/_logistic.py:818: ConvergenceWarning: lbfgs failed to converge (status=1):\n",
            "STOP: TOTAL NO. of ITERATIONS REACHED LIMIT.\n",
            "\n",
            "Increase the number of iterations (max_iter) or scale the data as shown in:\n",
            "    https://scikit-learn.org/stable/modules/preprocessing.html\n",
            "Please also refer to the documentation for alternative solver options:\n",
            "    https://scikit-learn.org/stable/modules/linear_model.html#logistic-regression\n",
            "  extra_warning_msg=_LOGISTIC_SOLVER_CONVERGENCE_MSG,\n"
          ]
        },
        {
          "output_type": "execute_result",
          "data": {
            "text/plain": [
              "(array([ True,  True,  True,  True,  True,  True,  True,  True,  True,\n",
              "         True,  True,  True,  True,  True,  True, False,  True,  True,\n",
              "         True,  True,  True,  True,  True,  True,  True,  True,  True,\n",
              "         True,  True,  True, False,  True,  True,  True,  True,  True,\n",
              "         True,  True,  True,  True,  True,  True,  True,  True,  True,\n",
              "         True,  True,  True,  True,  True,  True,  True,  True,  True,\n",
              "         True,  True,  True,  True,  True,  True,  True,  True,  True,\n",
              "        False,  True,  True,  True,  True, False,  True,  True,  True,\n",
              "        False,  True,  True,  True,  True,  True,  True,  True, False,\n",
              "         True,  True,  True,  True,  True,  True,  True,  True,  True,\n",
              "         True,  True,  True,  True,  True,  True,  True,  True,  True,\n",
              "         True]), 0.94)"
            ]
          },
          "metadata": {},
          "execution_count": 93
        }
      ]
    },
    {
      "cell_type": "code",
      "source": [
        "modelo = StackingClassifier([\n",
        "    ('randomforest42', RandomForestClassifier(random_state=42)),\n",
        "    ('randomforest43', RandomForestClassifier(random_state=43)),\n",
        "    ('randomforest44', RandomForestClassifier(random_state=44))\n",
        "], cv=3, passthrough=True)\n",
        "\n",
        "modelo.fit(X_tr, y_tr) \n",
        "sc_pr = modelo.predict(X_te)\n",
        "schits = sc_pr == y_te\n",
        "schits, sum(schits)/len(schits)"
      ],
      "metadata": {
        "colab": {
          "base_uri": "https://localhost:8080/"
        },
        "id": "X58-l3dfU5rK",
        "outputId": "f4a31c1e-77d3-4cd3-fcf2-8d4d2122634a"
      },
      "execution_count": null,
      "outputs": [
        {
          "output_type": "execute_result",
          "data": {
            "text/plain": [
              "(array([ True,  True,  True,  True,  True,  True,  True,  True,  True,\n",
              "         True,  True,  True,  True,  True,  True,  True,  True,  True,\n",
              "         True,  True,  True,  True,  True,  True,  True,  True,  True,\n",
              "         True,  True,  True, False,  True,  True,  True,  True,  True,\n",
              "         True,  True,  True,  True,  True,  True,  True,  True,  True,\n",
              "         True,  True,  True,  True,  True,  True,  True,  True,  True,\n",
              "         True,  True,  True,  True,  True,  True,  True,  True,  True,\n",
              "        False,  True,  True,  True,  True, False,  True,  True,  True,\n",
              "        False,  True,  True,  True,  True,  True,  True,  True, False,\n",
              "         True,  True,  True,  True,  True,  True,  True,  True,  True,\n",
              "         True,  True,  True,  True,  True,  True,  True,  True,  True,\n",
              "         True]), 0.95)"
            ]
          },
          "metadata": {},
          "execution_count": 27
        }
      ]
    }
  ]
}