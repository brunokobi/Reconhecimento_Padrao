{
  "nbformat": 4,
  "nbformat_minor": 0,
  "metadata": {
    "colab": {
      "provenance": [],
      "authorship_tag": "ABX9TyMVVya/taq6SEpR2b9W4Pof",
      "include_colab_link": true
    },
    "kernelspec": {
      "name": "python3",
      "display_name": "Python 3"
    },
    "language_info": {
      "name": "python"
    }
  },
  "cells": [
    {
      "cell_type": "markdown",
      "metadata": {
        "id": "view-in-github",
        "colab_type": "text"
      },
      "source": [
        "<a href=\"https://colab.research.google.com/github/brunokobi/Reconhecimento_Padrao/blob/main/compEnsembles.ipynb\" target=\"_parent\"><img src=\"https://colab.research.google.com/assets/colab-badge.svg\" alt=\"Open In Colab\"/></a>"
      ]
    },
    {
      "cell_type": "markdown",
      "source": [
        "# **Comparação de ensembles**"
      ],
      "metadata": {
        "id": "FqmN4OW9NNjX"
      }
    },
    {
      "cell_type": "code",
      "source": [
        "from sklearn.datasets import fetch_olivetti_faces\n",
        "X, y = fetch_olivetti_faces(return_X_y=True)\n",
        "X.shape, y.shape"
      ],
      "metadata": {
        "colab": {
          "base_uri": "https://localhost:8080/"
        },
        "id": "fg1Z2H3sOpQL",
        "outputId": "be9ec5ff-a60b-471f-8a49-bd27cbd01ca5"
      },
      "execution_count": 2,
      "outputs": [
        {
          "output_type": "stream",
          "name": "stdout",
          "text": [
            "downloading Olivetti faces from https://ndownloader.figshare.com/files/5976027 to /root/scikit_learn_data\n"
          ]
        },
        {
          "output_type": "execute_result",
          "data": {
            "text/plain": [
              "((400, 4096), (400,))"
            ]
          },
          "metadata": {},
          "execution_count": 2
        }
      ]
    },
    {
      "cell_type": "code",
      "source": [
        "from sklearn.model_selection import train_test_split\n",
        "X_tr, X_te, y_tr, y_te = train_test_split(X, y, random_state=42)\n",
        "X_tr.shape, X_te.shape, y_tr.shape, y_te.shape"
      ],
      "metadata": {
        "colab": {
          "base_uri": "https://localhost:8080/"
        },
        "id": "roH38O_hO4Tj",
        "outputId": "57f00275-9564-4eec-9997-ef7929f211f2"
      },
      "execution_count": 3,
      "outputs": [
        {
          "output_type": "execute_result",
          "data": {
            "text/plain": [
              "((300, 4096), (100, 4096), (300,), (100,))"
            ]
          },
          "metadata": {},
          "execution_count": 3
        }
      ]
    },
    {
      "cell_type": "code",
      "source": [
        "from sklearn.neighbors import KNeighborsClassifier\n",
        "modelo = KNeighborsClassifier()\n",
        "modelo.fit(X_tr, y_tr)\n",
        "knn_pr = modelo.predict(X_te)\n",
        "knnhits = knn_pr == y_te\n",
        "knnhits, sum(knnhits)/len(knnhits)"
      ],
      "metadata": {
        "colab": {
          "base_uri": "https://localhost:8080/"
        },
        "id": "tJg8IMm4O5wJ",
        "outputId": "30eb7284-6dc3-486a-9632-727705310f9b"
      },
      "execution_count": 4,
      "outputs": [
        {
          "output_type": "execute_result",
          "data": {
            "text/plain": [
              "(array([ True,  True,  True,  True,  True,  True,  True,  True,  True,\n",
              "         True,  True,  True,  True,  True,  True,  True, False,  True,\n",
              "         True,  True,  True,  True, False, False,  True, False,  True,\n",
              "         True,  True,  True, False, False,  True,  True, False,  True,\n",
              "        False, False,  True,  True,  True,  True,  True,  True,  True,\n",
              "        False,  True,  True,  True,  True,  True,  True,  True,  True,\n",
              "         True,  True,  True,  True,  True, False,  True,  True,  True,\n",
              "        False,  True, False,  True,  True, False,  True,  True,  True,\n",
              "        False,  True,  True,  True,  True,  True,  True,  True, False,\n",
              "         True,  True,  True,  True,  True,  True,  True,  True,  True,\n",
              "         True,  True,  True,  True,  True,  True,  True,  True,  True,\n",
              "        False]), 0.83)"
            ]
          },
          "metadata": {},
          "execution_count": 4
        }
      ]
    },
    {
      "cell_type": "code",
      "source": [
        "from sklearn.naive_bayes import GaussianNB\n",
        "modelo = GaussianNB()\n",
        "modelo.fit(X_tr, y_tr)\n",
        "gnb_pr = modelo.predict(X_te)\n",
        "gnbhits = gnb_pr == y_te\n",
        "gnbhits, sum(gnbhits)/len(gnbhits)"
      ],
      "metadata": {
        "colab": {
          "base_uri": "https://localhost:8080/"
        },
        "id": "EUGClwK9PDuS",
        "outputId": "bcfeca28-3995-49f8-ede4-10f12d635f58"
      },
      "execution_count": 5,
      "outputs": [
        {
          "output_type": "execute_result",
          "data": {
            "text/plain": [
              "(array([ True,  True,  True,  True,  True,  True,  True,  True,  True,\n",
              "        False,  True,  True,  True, False,  True, False,  True,  True,\n",
              "         True,  True, False,  True,  True,  True,  True,  True,  True,\n",
              "         True,  True, False,  True,  True,  True,  True,  True,  True,\n",
              "        False,  True,  True,  True,  True,  True, False,  True,  True,\n",
              "         True,  True,  True,  True, False,  True,  True,  True, False,\n",
              "         True,  True,  True,  True,  True,  True,  True,  True, False,\n",
              "        False,  True,  True,  True, False,  True, False,  True,  True,\n",
              "        False,  True,  True,  True,  True,  True, False,  True, False,\n",
              "         True,  True,  True,  True,  True,  True,  True, False,  True,\n",
              "         True,  True,  True,  True, False,  True,  True,  True,  True,\n",
              "        False]), 0.81)"
            ]
          },
          "metadata": {},
          "execution_count": 5
        }
      ]
    },
    {
      "cell_type": "code",
      "source": [
        "from sklearn.linear_model import Perceptron\n",
        "modelo = Perceptron()\n",
        "modelo.fit(X_tr, y_tr)\n",
        "per_pr = modelo.predict(X_te)\n",
        "perhits = per_pr == y_te\n",
        "perhits, sum(perhits)/len(perhits)"
      ],
      "metadata": {
        "colab": {
          "base_uri": "https://localhost:8080/"
        },
        "id": "QU48sTrWPGmS",
        "outputId": "a20e8544-5868-4ddd-911b-abfabbfb76b6"
      },
      "execution_count": 6,
      "outputs": [
        {
          "output_type": "execute_result",
          "data": {
            "text/plain": [
              "(array([ True,  True,  True,  True,  True,  True,  True,  True,  True,\n",
              "        False,  True,  True, False,  True,  True, False, False,  True,\n",
              "         True,  True,  True,  True,  True, False,  True,  True,  True,\n",
              "         True,  True,  True,  True,  True,  True, False,  True,  True,\n",
              "         True,  True,  True,  True,  True, False,  True, False,  True,\n",
              "        False,  True,  True,  True,  True, False,  True,  True,  True,\n",
              "         True, False,  True,  True,  True,  True, False,  True,  True,\n",
              "        False,  True,  True,  True, False,  True,  True,  True,  True,\n",
              "        False, False,  True,  True,  True,  True, False,  True, False,\n",
              "         True, False,  True,  True,  True,  True,  True,  True,  True,\n",
              "         True,  True,  True, False,  True,  True, False,  True,  True,\n",
              "        False]), 0.78)"
            ]
          },
          "metadata": {},
          "execution_count": 6
        }
      ]
    },
    {
      "cell_type": "code",
      "source": [
        "import numpy as np\n",
        "hits = np.stack((knnhits, gnbhits, perhits))\n",
        "hits.T"
      ],
      "metadata": {
        "colab": {
          "base_uri": "https://localhost:8080/"
        },
        "id": "RUSMWDcyPH64",
        "outputId": "23700320-a648-4ad7-9f92-04876d818075"
      },
      "execution_count": 7,
      "outputs": [
        {
          "output_type": "execute_result",
          "data": {
            "text/plain": [
              "array([[ True,  True,  True],\n",
              "       [ True,  True,  True],\n",
              "       [ True,  True,  True],\n",
              "       [ True,  True,  True],\n",
              "       [ True,  True,  True],\n",
              "       [ True,  True,  True],\n",
              "       [ True,  True,  True],\n",
              "       [ True,  True,  True],\n",
              "       [ True,  True,  True],\n",
              "       [ True, False, False],\n",
              "       [ True,  True,  True],\n",
              "       [ True,  True,  True],\n",
              "       [ True,  True, False],\n",
              "       [ True, False,  True],\n",
              "       [ True,  True,  True],\n",
              "       [ True, False, False],\n",
              "       [False,  True, False],\n",
              "       [ True,  True,  True],\n",
              "       [ True,  True,  True],\n",
              "       [ True,  True,  True],\n",
              "       [ True, False,  True],\n",
              "       [ True,  True,  True],\n",
              "       [False,  True,  True],\n",
              "       [False,  True, False],\n",
              "       [ True,  True,  True],\n",
              "       [False,  True,  True],\n",
              "       [ True,  True,  True],\n",
              "       [ True,  True,  True],\n",
              "       [ True,  True,  True],\n",
              "       [ True, False,  True],\n",
              "       [False,  True,  True],\n",
              "       [False,  True,  True],\n",
              "       [ True,  True,  True],\n",
              "       [ True,  True, False],\n",
              "       [False,  True,  True],\n",
              "       [ True,  True,  True],\n",
              "       [False, False,  True],\n",
              "       [False,  True,  True],\n",
              "       [ True,  True,  True],\n",
              "       [ True,  True,  True],\n",
              "       [ True,  True,  True],\n",
              "       [ True,  True, False],\n",
              "       [ True, False,  True],\n",
              "       [ True,  True, False],\n",
              "       [ True,  True,  True],\n",
              "       [False,  True, False],\n",
              "       [ True,  True,  True],\n",
              "       [ True,  True,  True],\n",
              "       [ True,  True,  True],\n",
              "       [ True, False,  True],\n",
              "       [ True,  True, False],\n",
              "       [ True,  True,  True],\n",
              "       [ True,  True,  True],\n",
              "       [ True, False,  True],\n",
              "       [ True,  True,  True],\n",
              "       [ True,  True, False],\n",
              "       [ True,  True,  True],\n",
              "       [ True,  True,  True],\n",
              "       [ True,  True,  True],\n",
              "       [False,  True,  True],\n",
              "       [ True,  True, False],\n",
              "       [ True,  True,  True],\n",
              "       [ True, False,  True],\n",
              "       [False, False, False],\n",
              "       [ True,  True,  True],\n",
              "       [False,  True,  True],\n",
              "       [ True,  True,  True],\n",
              "       [ True, False, False],\n",
              "       [False,  True,  True],\n",
              "       [ True, False,  True],\n",
              "       [ True,  True,  True],\n",
              "       [ True,  True,  True],\n",
              "       [False, False, False],\n",
              "       [ True,  True, False],\n",
              "       [ True,  True,  True],\n",
              "       [ True,  True,  True],\n",
              "       [ True,  True,  True],\n",
              "       [ True,  True,  True],\n",
              "       [ True, False, False],\n",
              "       [ True,  True,  True],\n",
              "       [False, False, False],\n",
              "       [ True,  True,  True],\n",
              "       [ True,  True, False],\n",
              "       [ True,  True,  True],\n",
              "       [ True,  True,  True],\n",
              "       [ True,  True,  True],\n",
              "       [ True,  True,  True],\n",
              "       [ True,  True,  True],\n",
              "       [ True, False,  True],\n",
              "       [ True,  True,  True],\n",
              "       [ True,  True,  True],\n",
              "       [ True,  True,  True],\n",
              "       [ True,  True,  True],\n",
              "       [ True,  True, False],\n",
              "       [ True, False,  True],\n",
              "       [ True,  True,  True],\n",
              "       [ True,  True, False],\n",
              "       [ True,  True,  True],\n",
              "       [ True,  True,  True],\n",
              "       [False, False, False]])"
            ]
          },
          "metadata": {},
          "execution_count": 7
        }
      ]
    },
    {
      "cell_type": "code",
      "source": [
        "y_pr = np.stack((knn_pr, gnb_pr, per_pr))\n",
        "y_pr.T"
      ],
      "metadata": {
        "colab": {
          "base_uri": "https://localhost:8080/"
        },
        "id": "F0jJuWNSPL6r",
        "outputId": "de4610f8-900a-45fa-ad2d-325587cd61f5"
      },
      "execution_count": 8,
      "outputs": [
        {
          "output_type": "execute_result",
          "data": {
            "text/plain": [
              "array([[20, 20, 20],\n",
              "       [28, 28, 28],\n",
              "       [ 3,  3,  3],\n",
              "       [21, 21, 21],\n",
              "       [ 9,  9,  9],\n",
              "       [ 8,  8,  8],\n",
              "       [32, 32, 32],\n",
              "       [ 9,  9,  9],\n",
              "       [26, 26, 26],\n",
              "       [12, 16, 28],\n",
              "       [ 0,  0,  0],\n",
              "       [36, 36, 36],\n",
              "       [ 5,  5,  8],\n",
              "       [ 7, 15,  7],\n",
              "       [13, 13, 13],\n",
              "       [ 4, 34, 29],\n",
              "       [25, 27, 25],\n",
              "       [37, 37, 37],\n",
              "       [23, 23, 23],\n",
              "       [38, 38, 38],\n",
              "       [ 7, 15,  7],\n",
              "       [ 1,  1,  1],\n",
              "       [ 4, 39, 39],\n",
              "       [25, 27, 25],\n",
              "       [ 0,  0,  0],\n",
              "       [ 3, 39, 39],\n",
              "       [11, 11, 11],\n",
              "       [22, 22, 22],\n",
              "       [26, 26, 26],\n",
              "       [10, 15, 10],\n",
              "       [29, 39, 39],\n",
              "       [29, 19, 19],\n",
              "       [26, 26, 26],\n",
              "       [ 5,  5, 29],\n",
              "       [20, 23, 23],\n",
              "       [11, 11, 11],\n",
              "       [12, 39, 11],\n",
              "       [20, 34, 34],\n",
              "       [15, 15, 15],\n",
              "       [14, 14, 14],\n",
              "       [38, 38, 38],\n",
              "       [ 5,  5, 29],\n",
              "       [ 7,  9,  7],\n",
              "       [ 2,  2, 36],\n",
              "       [ 8,  8,  8],\n",
              "       [28, 38, 28],\n",
              "       [14, 14, 14],\n",
              "       [18, 18, 18],\n",
              "       [ 2,  2,  2],\n",
              "       [17, 39, 17],\n",
              "       [ 4,  4, 39],\n",
              "       [32, 32, 32],\n",
              "       [33, 33, 33],\n",
              "       [ 7,  9,  7],\n",
              "       [37, 37, 37],\n",
              "       [ 3,  3,  1],\n",
              "       [22, 22, 22],\n",
              "       [17, 17, 17],\n",
              "       [ 3,  3,  3],\n",
              "       [ 0, 15, 15],\n",
              "       [12, 12, 36],\n",
              "       [29, 29, 29],\n",
              "       [25, 16, 25],\n",
              "       [17, 35, 28],\n",
              "       [10, 10, 10],\n",
              "       [14,  3,  3],\n",
              "       [35, 35, 35],\n",
              "       [26, 12,  1],\n",
              "       [37, 39, 39],\n",
              "       [ 7,  9,  7],\n",
              "       [32, 32, 32],\n",
              "       [14, 14, 14],\n",
              "       [ 3, 35, 20],\n",
              "       [ 4,  4,  8],\n",
              "       [38, 38, 38],\n",
              "       [24, 24, 24],\n",
              "       [22, 22, 22],\n",
              "       [36, 36, 36],\n",
              "       [17,  9, 28],\n",
              "       [28, 28, 28],\n",
              "       [16, 16, 20],\n",
              "       [ 1,  1,  1],\n",
              "       [20, 20,  8],\n",
              "       [25, 25, 25],\n",
              "       [27, 27, 27],\n",
              "       [ 6,  6,  6],\n",
              "       [24, 24, 24],\n",
              "       [30, 30, 30],\n",
              "       [10, 15, 10],\n",
              "       [ 9,  9,  9],\n",
              "       [23, 23, 23],\n",
              "       [33, 33, 33],\n",
              "       [11, 11, 11],\n",
              "       [22, 22,  8],\n",
              "       [18, 25, 18],\n",
              "       [31, 31, 31],\n",
              "       [37, 37, 39],\n",
              "       [38, 38, 38],\n",
              "       [23, 23, 23],\n",
              "       [17,  9, 18]])"
            ]
          },
          "metadata": {},
          "execution_count": 8
        }
      ]
    },
    {
      "cell_type": "code",
      "source": [
        "from scipy import stats\n",
        "y_pr = stats.mode(y_pr)[0][0]\n",
        "vohits = y_pr == y_te\n",
        "vohits, sum(vohits)/len(vohits)"
      ],
      "metadata": {
        "colab": {
          "base_uri": "https://localhost:8080/"
        },
        "id": "5ef5-46NPPgs",
        "outputId": "bd11c4fd-c9d3-4317-b3e4-78304954fb43"
      },
      "execution_count": 9,
      "outputs": [
        {
          "output_type": "execute_result",
          "data": {
            "text/plain": [
              "(array([ True,  True,  True,  True,  True,  True,  True,  True,  True,\n",
              "         True,  True,  True,  True,  True,  True,  True, False,  True,\n",
              "         True,  True,  True,  True,  True, False,  True,  True,  True,\n",
              "         True,  True,  True,  True,  True,  True,  True,  True,  True,\n",
              "         True,  True,  True,  True,  True,  True,  True,  True,  True,\n",
              "        False,  True,  True,  True,  True,  True,  True,  True,  True,\n",
              "         True,  True,  True,  True,  True,  True,  True,  True,  True,\n",
              "        False,  True,  True,  True, False,  True,  True,  True,  True,\n",
              "        False,  True,  True,  True,  True,  True, False,  True, False,\n",
              "         True,  True,  True,  True,  True,  True,  True,  True,  True,\n",
              "         True,  True,  True,  True,  True,  True,  True,  True,  True,\n",
              "        False]), 0.91)"
            ]
          },
          "metadata": {},
          "execution_count": 9
        }
      ]
    },
    {
      "cell_type": "markdown",
      "source": [
        "**Combinação de classificadores**"
      ],
      "metadata": {
        "id": "KIHUKhRBTm1c"
      }
    },
    {
      "cell_type": "code",
      "source": [
        "from sklearn.ensemble import VotingClassifier\n",
        "modelo = VotingClassifier([\n",
        "    ('knn', KNeighborsClassifier()),\n",
        "    ('naivebayes', GaussianNB()),\n",
        "    ('perceptron', Perceptron())\n",
        "])\n",
        "modelo.fit(X_tr, y_tr)\n",
        "vo_pr = modelo.predict(X_te)\n",
        "vohits = vo_pr == y_te\n",
        "vohits, sum(vohits)/len(vohits)"
      ],
      "metadata": {
        "colab": {
          "base_uri": "https://localhost:8080/"
        },
        "id": "mH_0az-QPUY2",
        "outputId": "52571bc9-a798-468e-fb08-2744a3316701"
      },
      "execution_count": 10,
      "outputs": [
        {
          "output_type": "execute_result",
          "data": {
            "text/plain": [
              "(array([ True,  True,  True,  True,  True,  True,  True,  True,  True,\n",
              "         True,  True,  True,  True,  True,  True,  True, False,  True,\n",
              "         True,  True,  True,  True,  True, False,  True,  True,  True,\n",
              "         True,  True,  True,  True,  True,  True,  True,  True,  True,\n",
              "         True,  True,  True,  True,  True,  True,  True,  True,  True,\n",
              "        False,  True,  True,  True,  True,  True,  True,  True,  True,\n",
              "         True,  True,  True,  True,  True,  True,  True,  True,  True,\n",
              "        False,  True,  True,  True, False,  True,  True,  True,  True,\n",
              "        False,  True,  True,  True,  True,  True, False,  True, False,\n",
              "         True,  True,  True,  True,  True,  True,  True,  True,  True,\n",
              "         True,  True,  True,  True,  True,  True,  True,  True,  True,\n",
              "        False]), 0.91)"
            ]
          },
          "metadata": {},
          "execution_count": 10
        }
      ]
    },
    {
      "cell_type": "code",
      "source": [
        "from sklearn.ensemble import VotingClassifier\n",
        "modelo = VotingClassifier([\n",
        "    ('knn1', KNeighborsClassifier(1)),\n",
        "    ('knn2', KNeighborsClassifier(5)),\n",
        "    ('knn3', KNeighborsClassifier(9)),\n",
        "])\n",
        "modelo.fit(X_tr, y_tr)\n",
        "vo_pr = modelo.predict(X_te)\n",
        "vohits = vo_pr == y_te\n",
        "vohits, sum(vohits)/len(vohits)"
      ],
      "metadata": {
        "colab": {
          "base_uri": "https://localhost:8080/"
        },
        "id": "KGo6L9h9Qovt",
        "outputId": "d86a9dab-065d-48e5-9790-69affa0626e3"
      },
      "execution_count": 11,
      "outputs": [
        {
          "output_type": "execute_result",
          "data": {
            "text/plain": [
              "(array([ True,  True,  True,  True,  True,  True,  True,  True,  True,\n",
              "         True,  True,  True,  True,  True,  True,  True, False,  True,\n",
              "         True,  True,  True,  True, False,  True,  True, False,  True,\n",
              "         True,  True,  True, False, False,  True,  True,  True,  True,\n",
              "        False, False, False,  True,  True,  True,  True,  True,  True,\n",
              "        False,  True,  True,  True,  True,  True,  True,  True,  True,\n",
              "         True,  True,  True,  True,  True,  True,  True,  True,  True,\n",
              "        False,  True, False,  True,  True, False,  True,  True,  True,\n",
              "        False,  True,  True,  True,  True,  True,  True,  True, False,\n",
              "         True,  True,  True,  True,  True,  True,  True,  True,  True,\n",
              "         True,  True,  True, False,  True,  True,  True,  True,  True,\n",
              "        False]), 0.84)"
            ]
          },
          "metadata": {},
          "execution_count": 11
        }
      ]
    },
    {
      "cell_type": "code",
      "source": [
        "from sklearn.tree import DecisionTreeClassifier\n",
        "modelo = VotingClassifier([\n",
        "    ('knn', KNeighborsClassifier()),\n",
        "    ('naivebayes', GaussianNB()),\n",
        "    ('arvore', DecisionTreeClassifier())\n",
        "])\n",
        "modelo.fit(X_tr, y_tr)\n",
        "vo_pr = modelo.predict(X_te)\n",
        "vohits = vo_pr == y_te\n",
        "vohits, sum(vohits)/len(vohits)"
      ],
      "metadata": {
        "colab": {
          "base_uri": "https://localhost:8080/"
        },
        "id": "niTV34zaQqzM",
        "outputId": "f624cff1-f15e-4190-f845-4e3f8480f593"
      },
      "execution_count": 12,
      "outputs": [
        {
          "output_type": "execute_result",
          "data": {
            "text/plain": [
              "(array([ True,  True,  True,  True,  True,  True,  True,  True,  True,\n",
              "        False,  True,  True,  True,  True,  True,  True, False,  True,\n",
              "         True,  True,  True,  True, False, False,  True, False,  True,\n",
              "         True,  True, False, False,  True,  True,  True, False,  True,\n",
              "        False, False,  True,  True,  True,  True,  True,  True,  True,\n",
              "        False,  True,  True,  True, False,  True,  True,  True, False,\n",
              "         True,  True,  True,  True,  True,  True,  True,  True, False,\n",
              "        False,  True,  True,  True, False, False,  True,  True,  True,\n",
              "        False,  True,  True,  True,  True,  True, False,  True, False,\n",
              "         True,  True,  True,  True,  True,  True,  True,  True,  True,\n",
              "         True,  True,  True,  True,  True,  True,  True,  True,  True,\n",
              "        False]), 0.79)"
            ]
          },
          "metadata": {},
          "execution_count": 12
        }
      ]
    },
    {
      "cell_type": "code",
      "source": [
        "modelo = DecisionTreeClassifier(random_state=42)\n",
        "modelo.fit(X_tr, y_tr)\n",
        "dt_pr = modelo.predict(X_te)\n",
        "dthits = dt_pr == y_te\n",
        "dthits, sum(dthits)/len(dthits)"
      ],
      "metadata": {
        "colab": {
          "base_uri": "https://localhost:8080/"
        },
        "id": "Qt51mdvgQvos",
        "outputId": "1a71edcc-e6dd-4f7f-d984-76d15b8b0273"
      },
      "execution_count": 13,
      "outputs": [
        {
          "output_type": "execute_result",
          "data": {
            "text/plain": [
              "(array([False,  True, False,  True,  True, False,  True,  True,  True,\n",
              "        False, False,  True,  True, False, False, False, False, False,\n",
              "         True, False,  True, False, False, False, False, False, False,\n",
              "        False,  True, False, False,  True, False, False, False, False,\n",
              "        False, False,  True, False, False,  True, False, False,  True,\n",
              "        False, False,  True, False,  True, False,  True,  True, False,\n",
              "         True, False, False, False,  True,  True,  True,  True, False,\n",
              "        False, False,  True,  True, False, False, False,  True, False,\n",
              "        False, False,  True,  True, False, False, False,  True, False,\n",
              "        False, False,  True, False,  True,  True, False, False,  True,\n",
              "         True,  True,  True,  True,  True, False, False,  True, False,\n",
              "        False]), 0.4)"
            ]
          },
          "metadata": {},
          "execution_count": 13
        }
      ]
    },
    {
      "cell_type": "markdown",
      "source": [
        "**Diversificação por reamostragem**"
      ],
      "metadata": {
        "id": "mqTVF-DYTwa7"
      }
    },
    {
      "cell_type": "code",
      "source": [
        "from sklearn.ensemble import BaggingClassifier\n",
        "modelo = BaggingClassifier(random_state=42)\n",
        "modelo.fit(X_tr, y_tr)\n",
        "bag_pr = modelo.predict(X_te)\n",
        "baghits = bag_pr == y_te\n",
        "baghits, sum(baghits)/len(baghits)"
      ],
      "metadata": {
        "colab": {
          "base_uri": "https://localhost:8080/"
        },
        "id": "F3GAM49eQ4kR",
        "outputId": "d02af795-9f5a-4f0f-8490-356dad25e636"
      },
      "execution_count": 14,
      "outputs": [
        {
          "output_type": "execute_result",
          "data": {
            "text/plain": [
              "(array([ True,  True,  True,  True,  True,  True,  True,  True, False,\n",
              "        False, False,  True,  True, False,  True, False, False,  True,\n",
              "         True,  True, False,  True, False, False,  True, False,  True,\n",
              "         True,  True,  True, False,  True,  True,  True, False, False,\n",
              "        False,  True, False, False, False,  True, False,  True, False,\n",
              "         True,  True,  True,  True, False, False,  True,  True, False,\n",
              "         True, False, False, False,  True,  True,  True,  True, False,\n",
              "        False,  True, False,  True, False,  True,  True, False,  True,\n",
              "         True,  True,  True,  True,  True,  True,  True,  True, False,\n",
              "        False,  True,  True, False,  True,  True,  True,  True,  True,\n",
              "        False,  True,  True,  True,  True,  True,  True, False,  True,\n",
              "        False]), 0.64)"
            ]
          },
          "metadata": {},
          "execution_count": 14
        }
      ]
    },
    {
      "cell_type": "code",
      "source": [
        "modelo = BaggingClassifier(DecisionTreeClassifier(), random_state=42)\n",
        "modelo.fit(X_tr, y_tr)\n",
        "bag_pr = modelo.predict(X_te)\n",
        "baghits = bag_pr == y_te\n",
        "baghits, sum(baghits)/len(baghits)"
      ],
      "metadata": {
        "colab": {
          "base_uri": "https://localhost:8080/"
        },
        "id": "v4PUN6xaT1LK",
        "outputId": "2218ff6e-4564-4c76-9d7d-d0f1d9ece86c"
      },
      "execution_count": 15,
      "outputs": [
        {
          "output_type": "execute_result",
          "data": {
            "text/plain": [
              "(array([ True,  True,  True,  True,  True,  True,  True,  True, False,\n",
              "        False, False,  True,  True, False,  True, False, False,  True,\n",
              "         True,  True, False,  True, False, False,  True, False,  True,\n",
              "         True,  True,  True, False,  True,  True,  True, False, False,\n",
              "        False,  True, False, False, False,  True, False,  True, False,\n",
              "         True,  True,  True,  True, False, False,  True,  True, False,\n",
              "         True, False, False, False,  True,  True,  True,  True, False,\n",
              "        False,  True, False,  True, False,  True,  True, False,  True,\n",
              "         True,  True,  True,  True,  True,  True,  True,  True, False,\n",
              "        False,  True,  True, False,  True,  True,  True,  True,  True,\n",
              "        False,  True,  True,  True,  True,  True,  True, False,  True,\n",
              "        False]), 0.64)"
            ]
          },
          "metadata": {},
          "execution_count": 15
        }
      ]
    },
    {
      "cell_type": "markdown",
      "source": [
        "**Aumentando a aleatoriedade para aumentar a diversidade**"
      ],
      "metadata": {
        "id": "xZBx-xAoT4M1"
      }
    },
    {
      "cell_type": "code",
      "source": [
        "modelo = BaggingClassifier(DecisionTreeClassifier(splitter='random'), random_state=42)\n",
        "modelo.fit(X_tr, y_tr)\n",
        "bag_pr = modelo.predict(X_te)\n",
        "baghits = bag_pr == y_te\n",
        "baghits, sum(baghits)/len(baghits)"
      ],
      "metadata": {
        "colab": {
          "base_uri": "https://localhost:8080/"
        },
        "id": "leGqsFbtT8jW",
        "outputId": "c62ccd5f-fc31-4d0c-a62f-69626f02ea80"
      },
      "execution_count": 16,
      "outputs": [
        {
          "output_type": "execute_result",
          "data": {
            "text/plain": [
              "(array([ True,  True,  True,  True,  True, False,  True,  True,  True,\n",
              "         True, False,  True,  True,  True,  True, False, False,  True,\n",
              "         True,  True,  True, False,  True, False,  True,  True, False,\n",
              "         True,  True,  True,  True,  True,  True,  True,  True,  True,\n",
              "        False,  True, False,  True, False,  True, False,  True,  True,\n",
              "        False,  True,  True, False,  True, False,  True,  True, False,\n",
              "         True, False, False,  True, False,  True,  True,  True, False,\n",
              "        False,  True, False,  True,  True, False, False,  True,  True,\n",
              "        False,  True,  True,  True,  True,  True,  True,  True, False,\n",
              "        False,  True,  True,  True,  True,  True,  True,  True, False,\n",
              "         True,  True, False,  True,  True,  True,  True,  True,  True,\n",
              "         True]), 0.72)"
            ]
          },
          "metadata": {},
          "execution_count": 16
        }
      ]
    },
    {
      "cell_type": "code",
      "source": [
        "modelo = BaggingClassifier(DecisionTreeClassifier(splitter='random'), n_estimators=100, random_state=42)\n",
        "modelo.fit(X_tr, y_tr)\n",
        "bag_pr = modelo.predict(X_te)\n",
        "baghits = bag_pr == y_te\n",
        "baghits, sum(baghits)/len(baghits)"
      ],
      "metadata": {
        "colab": {
          "base_uri": "https://localhost:8080/"
        },
        "id": "EEOKavF2T_86",
        "outputId": "94db1c89-7cd9-4d57-8111-001063d6ece8"
      },
      "execution_count": 17,
      "outputs": [
        {
          "output_type": "execute_result",
          "data": {
            "text/plain": [
              "(array([ True,  True,  True,  True,  True,  True,  True,  True,  True,\n",
              "         True,  True,  True,  True,  True,  True,  True, False,  True,\n",
              "         True,  True,  True,  True,  True, False,  True,  True,  True,\n",
              "         True,  True,  True,  True,  True,  True,  True,  True,  True,\n",
              "         True,  True,  True,  True, False,  True, False,  True,  True,\n",
              "         True,  True,  True,  True,  True,  True,  True,  True, False,\n",
              "         True,  True, False,  True,  True,  True,  True,  True, False,\n",
              "        False,  True,  True,  True,  True, False,  True,  True,  True,\n",
              "         True,  True,  True,  True,  True,  True,  True,  True, False,\n",
              "         True,  True,  True,  True,  True,  True,  True,  True,  True,\n",
              "         True,  True,  True,  True,  True,  True,  True,  True,  True,\n",
              "        False]), 0.89)"
            ]
          },
          "metadata": {},
          "execution_count": 17
        }
      ]
    },
    {
      "cell_type": "markdown",
      "source": [
        "**Random Forest é um Bagging de Árvores de Decisão**"
      ],
      "metadata": {
        "id": "wuV8cQPdUFei"
      }
    },
    {
      "cell_type": "code",
      "source": [
        "from sklearn.ensemble import RandomForestClassifier\n",
        "modelo = RandomForestClassifier(random_state=42)\n",
        "modelo.fit(X_tr, y_tr)\n",
        "rf_pr = modelo.predict(X_te)\n",
        "rfhits = rf_pr == y_te\n",
        "rfhits, sum(rfhits)/len(rfhits)"
      ],
      "metadata": {
        "colab": {
          "base_uri": "https://localhost:8080/"
        },
        "id": "ADIU7yNxUKEs",
        "outputId": "57191625-456b-4269-a28a-8ec0285b37fc"
      },
      "execution_count": 18,
      "outputs": [
        {
          "output_type": "execute_result",
          "data": {
            "text/plain": [
              "(array([ True,  True,  True,  True,  True,  True,  True,  True,  True,\n",
              "         True,  True,  True,  True,  True,  True,  True, False,  True,\n",
              "         True,  True,  True,  True,  True,  True,  True,  True,  True,\n",
              "         True,  True,  True,  True,  True,  True,  True,  True,  True,\n",
              "        False,  True,  True,  True, False,  True, False,  True,  True,\n",
              "         True,  True,  True,  True,  True, False,  True,  True, False,\n",
              "         True,  True,  True,  True,  True,  True,  True,  True, False,\n",
              "        False,  True,  True,  True,  True, False, False,  True,  True,\n",
              "        False,  True,  True,  True,  True,  True,  True,  True, False,\n",
              "         True,  True,  True,  True,  True,  True,  True,  True,  True,\n",
              "         True,  True,  True,  True,  True,  True,  True,  True,  True,\n",
              "         True]), 0.88)"
            ]
          },
          "metadata": {},
          "execution_count": 18
        }
      ]
    },
    {
      "cell_type": "markdown",
      "source": [
        "**Regularização do Bagging**"
      ],
      "metadata": {
        "id": "BwCarfpZUNz7"
      }
    },
    {
      "cell_type": "code",
      "source": [
        "modelo = BaggingClassifier(DecisionTreeClassifier(splitter='random'), n_estimators=100, max_features=0.15, random_state=42)\n",
        "modelo.fit(X_tr, y_tr)\n",
        "bag_pr = modelo.predict(X_te)\n",
        "baghits = bag_pr == y_te\n",
        "baghits, sum(baghits)/len(baghits)"
      ],
      "metadata": {
        "colab": {
          "base_uri": "https://localhost:8080/"
        },
        "id": "pnoLegz2URVw",
        "outputId": "d7f2d8fb-391a-4bff-c064-992b3cbad04a"
      },
      "execution_count": 19,
      "outputs": [
        {
          "output_type": "execute_result",
          "data": {
            "text/plain": [
              "(array([ True,  True,  True,  True,  True,  True,  True,  True,  True,\n",
              "         True,  True,  True,  True,  True,  True,  True, False,  True,\n",
              "         True,  True,  True,  True,  True,  True,  True,  True,  True,\n",
              "         True,  True,  True,  True,  True,  True,  True,  True,  True,\n",
              "         True,  True,  True,  True, False,  True,  True,  True,  True,\n",
              "         True,  True,  True,  True,  True,  True,  True,  True,  True,\n",
              "         True,  True, False,  True,  True,  True,  True,  True, False,\n",
              "        False,  True,  True,  True,  True,  True,  True,  True,  True,\n",
              "         True,  True,  True,  True,  True,  True,  True,  True, False,\n",
              "         True,  True,  True,  True,  True,  True,  True,  True,  True,\n",
              "         True,  True,  True,  True,  True,  True,  True,  True,  True,\n",
              "         True]), 0.94)"
            ]
          },
          "metadata": {},
          "execution_count": 19
        }
      ]
    },
    {
      "cell_type": "markdown",
      "source": [
        "**Florestas extremamente aleatórias**"
      ],
      "metadata": {
        "id": "UAbFgyD4UUcU"
      }
    },
    {
      "cell_type": "code",
      "source": [
        "from sklearn.ensemble import ExtraTreesClassifier\n",
        "modelo = ExtraTreesClassifier(random_state=42)\n",
        "modelo.fit(X_tr, y_tr)\n",
        "et_pr = modelo.predict(X_te)\n",
        "ethits = et_pr == y_te\n",
        "ethits, sum(ethits)/len(ethits)"
      ],
      "metadata": {
        "colab": {
          "base_uri": "https://localhost:8080/"
        },
        "id": "jAsz_koNUX9s",
        "outputId": "7a3c10e8-1f17-42d2-eba4-c3f5887e6bbd"
      },
      "execution_count": 20,
      "outputs": [
        {
          "output_type": "execute_result",
          "data": {
            "text/plain": [
              "(array([ True,  True,  True,  True,  True,  True,  True,  True,  True,\n",
              "         True,  True,  True,  True,  True,  True,  True,  True,  True,\n",
              "         True,  True,  True,  True,  True,  True,  True,  True,  True,\n",
              "         True,  True,  True,  True,  True,  True,  True,  True,  True,\n",
              "         True, False,  True,  True,  True,  True,  True,  True,  True,\n",
              "         True,  True,  True,  True,  True,  True,  True,  True,  True,\n",
              "         True, False,  True,  True,  True,  True,  True,  True, False,\n",
              "        False,  True,  True,  True,  True,  True,  True,  True,  True,\n",
              "         True,  True,  True,  True,  True,  True,  True,  True, False,\n",
              "         True,  True,  True,  True,  True,  True,  True,  True,  True,\n",
              "         True,  True,  True,  True,  True,  True,  True,  True,  True,\n",
              "         True]), 0.95)"
            ]
          },
          "metadata": {},
          "execution_count": 20
        }
      ]
    },
    {
      "cell_type": "markdown",
      "source": [
        "**Boosting**"
      ],
      "metadata": {
        "id": "BM_Wpk7iUgvD"
      }
    },
    {
      "cell_type": "code",
      "source": [
        "from sklearn.ensemble import AdaBoostClassifier\n",
        "modelo = AdaBoostClassifier(random_state=42)\n",
        "modelo.fit(X_tr, y_tr)\n",
        "ab_pr = modelo.predict(X_te)\n",
        "abhits = ab_pr == y_te\n",
        "abhits, sum(abhits)/len(abhits)"
      ],
      "metadata": {
        "colab": {
          "base_uri": "https://localhost:8080/"
        },
        "id": "slAIMyOxUfzS",
        "outputId": "5edd6fb0-7752-414b-ff30-8f2eda44ea03"
      },
      "execution_count": 21,
      "outputs": [
        {
          "output_type": "execute_result",
          "data": {
            "text/plain": [
              "(array([False, False, False, False, False, False,  True, False, False,\n",
              "        False, False, False,  True, False, False, False, False, False,\n",
              "        False, False, False, False, False, False, False, False, False,\n",
              "        False, False,  True, False,  True, False,  True, False, False,\n",
              "        False, False, False, False,  True, False, False, False, False,\n",
              "         True, False,  True, False, False, False,  True, False,  True,\n",
              "        False, False, False, False, False, False, False, False, False,\n",
              "        False, False, False, False, False, False, False,  True, False,\n",
              "        False, False,  True, False, False, False, False, False, False,\n",
              "        False, False, False, False, False, False, False, False, False,\n",
              "        False, False, False, False, False, False, False,  True, False,\n",
              "        False]), 0.13)"
            ]
          },
          "metadata": {},
          "execution_count": 21
        }
      ]
    },
    {
      "cell_type": "code",
      "source": [
        "from sklearn.ensemble import AdaBoostClassifier\n",
        "modelo = AdaBoostClassifier(DecisionTreeClassifier(max_depth=25, splitter='random'), learning_rate=0.15, random_state=42)\n",
        "modelo.fit(X_tr, y_tr)\n",
        "ab_pr = modelo.predict(X_te)\n",
        "abhits = ab_pr == y_te\n",
        "abhits, sum(abhits)/len(abhits)"
      ],
      "metadata": {
        "colab": {
          "base_uri": "https://localhost:8080/"
        },
        "id": "JysZ8dBeUlgQ",
        "outputId": "8fc75743-f329-489a-e850-91fd319114e3"
      },
      "execution_count": 22,
      "outputs": [
        {
          "output_type": "execute_result",
          "data": {
            "text/plain": [
              "(array([ True,  True,  True,  True,  True,  True,  True,  True,  True,\n",
              "         True,  True,  True,  True,  True,  True,  True,  True,  True,\n",
              "         True,  True,  True,  True,  True,  True,  True,  True,  True,\n",
              "         True,  True,  True,  True,  True,  True,  True,  True,  True,\n",
              "        False,  True,  True,  True,  True,  True,  True,  True,  True,\n",
              "         True,  True,  True,  True,  True, False,  True,  True,  True,\n",
              "         True,  True, False,  True,  True,  True,  True,  True, False,\n",
              "        False,  True,  True,  True,  True,  True,  True,  True,  True,\n",
              "         True,  True,  True,  True,  True,  True,  True,  True, False,\n",
              "         True,  True,  True,  True,  True,  True,  True,  True, False,\n",
              "         True,  True,  True,  True,  True,  True,  True,  True,  True,\n",
              "         True]), 0.93)"
            ]
          },
          "metadata": {},
          "execution_count": 22
        }
      ]
    },
    {
      "cell_type": "code",
      "source": [
        "from xgboost import XGBClassifier\n",
        "modelo = XGBClassifier(use_label_encoder=False, random_state=42)\n",
        "modelo.fit(X_tr, y_tr)\n",
        "xgb_pr = modelo.predict(X_te)\n",
        "xgbhits = xgb_pr == y_te\n",
        "xgbhits, sum(xgbhits)/len(xgbhits)"
      ],
      "metadata": {
        "colab": {
          "base_uri": "https://localhost:8080/"
        },
        "id": "ZI_Vmz4EUpSB",
        "outputId": "afbd410c-6104-4bbd-ea44-fb667973edda"
      },
      "execution_count": 23,
      "outputs": [
        {
          "output_type": "execute_result",
          "data": {
            "text/plain": [
              "(array([ True,  True,  True,  True,  True,  True,  True, False,  True,\n",
              "        False,  True,  True,  True, False,  True,  True, False, False,\n",
              "         True,  True,  True,  True,  True,  True,  True,  True,  True,\n",
              "        False,  True, False, False,  True,  True,  True,  True, False,\n",
              "        False, False,  True,  True, False,  True, False,  True, False,\n",
              "        False,  True,  True,  True,  True, False,  True,  True, False,\n",
              "         True,  True, False, False,  True,  True,  True,  True, False,\n",
              "        False,  True, False,  True,  True,  True, False,  True, False,\n",
              "         True,  True,  True,  True,  True, False, False,  True, False,\n",
              "        False, False,  True,  True,  True,  True,  True, False, False,\n",
              "        False,  True,  True,  True,  True,  True,  True,  True,  True,\n",
              "         True]), 0.68)"
            ]
          },
          "metadata": {},
          "execution_count": 23
        }
      ]
    },
    {
      "cell_type": "code",
      "source": [
        "from xgboost import XGBClassifier\n",
        "modelo = XGBClassifier(colsample_bynode=0.01, learning_rate=0.15, random_state=42)\n",
        "modelo.fit(X_tr, y_tr)\n",
        "xgb_pr = modelo.predict(X_te)\n",
        "xgbhits = xgb_pr == y_te\n",
        "xgbhits, sum(xgbhits)/len(xgbhits)"
      ],
      "metadata": {
        "colab": {
          "base_uri": "https://localhost:8080/"
        },
        "id": "ul848FjKUt0X",
        "outputId": "94699afd-284c-49b5-8d16-c68720e8c94f"
      },
      "execution_count": 24,
      "outputs": [
        {
          "output_type": "execute_result",
          "data": {
            "text/plain": [
              "(array([ True,  True,  True,  True,  True,  True,  True,  True,  True,\n",
              "         True,  True,  True,  True,  True,  True,  True,  True,  True,\n",
              "         True,  True,  True,  True,  True,  True,  True,  True,  True,\n",
              "         True,  True,  True, False,  True,  True,  True,  True,  True,\n",
              "        False,  True,  True,  True, False,  True, False,  True,  True,\n",
              "         True,  True,  True,  True, False,  True,  True,  True,  True,\n",
              "         True,  True,  True,  True,  True,  True,  True,  True, False,\n",
              "        False,  True,  True,  True,  True,  True,  True,  True,  True,\n",
              "         True,  True,  True,  True,  True,  True,  True,  True,  True,\n",
              "         True,  True,  True,  True,  True,  True,  True,  True,  True,\n",
              "         True,  True,  True,  True,  True,  True,  True,  True,  True,\n",
              "         True]), 0.93)"
            ]
          },
          "metadata": {},
          "execution_count": 24
        }
      ]
    },
    {
      "cell_type": "code",
      "source": [
        "import warnings\n",
        "warnings.filterwarnings('ignore')"
      ],
      "metadata": {
        "id": "Pd5gR0mTU0Zn"
      },
      "execution_count": 25,
      "outputs": []
    },
    {
      "cell_type": "code",
      "source": [
        "from sklearn.ensemble import StackingClassifier\n",
        "\n",
        "voting = VotingClassifier([\n",
        "        ('knn', KNeighborsClassifier()),\n",
        "        ('naivebayes', GaussianNB()),\n",
        "        ('perceptron', Perceptron())\n",
        "    ])\n",
        "\n",
        "modelo = StackingClassifier([\n",
        "    ('voting', voting),\n",
        "    ('extratrees', ExtraTreesClassifier(random_state=42)),\n",
        "    ('randomforest', RandomForestClassifier(random_state=42))\n",
        "], cv=3, passthrough=True)\n",
        "\n",
        "modelo.fit(X_tr, y_tr) \n",
        "sc_pr = modelo.predict(X_te)\n",
        "schits = sc_pr == y_te\n",
        "schits, sum(schits)/len(schits)"
      ],
      "metadata": {
        "colab": {
          "base_uri": "https://localhost:8080/"
        },
        "id": "DnQwiVJzU3OM",
        "outputId": "328244e6-a043-4a7d-df60-e54b678b9454"
      },
      "execution_count": 26,
      "outputs": [
        {
          "output_type": "execute_result",
          "data": {
            "text/plain": [
              "(array([ True,  True,  True,  True,  True,  True,  True,  True,  True,\n",
              "         True,  True,  True,  True,  True,  True,  True,  True,  True,\n",
              "         True,  True,  True,  True,  True,  True,  True,  True,  True,\n",
              "         True,  True,  True, False,  True,  True,  True,  True,  True,\n",
              "         True,  True,  True,  True,  True,  True,  True,  True,  True,\n",
              "         True,  True,  True,  True,  True,  True,  True,  True,  True,\n",
              "         True,  True,  True,  True,  True,  True,  True,  True,  True,\n",
              "        False,  True,  True,  True,  True, False,  True,  True,  True,\n",
              "        False,  True,  True,  True,  True,  True,  True,  True, False,\n",
              "         True,  True,  True,  True,  True,  True,  True,  True,  True,\n",
              "         True,  True,  True,  True,  True,  True,  True,  True,  True,\n",
              "         True]), 0.95)"
            ]
          },
          "metadata": {},
          "execution_count": 26
        }
      ]
    },
    {
      "cell_type": "code",
      "source": [
        "modelo = StackingClassifier([\n",
        "    ('randomforest42', RandomForestClassifier(random_state=42)),\n",
        "    ('randomforest43', RandomForestClassifier(random_state=43)),\n",
        "    ('randomforest44', RandomForestClassifier(random_state=44))\n",
        "], cv=3, passthrough=True)\n",
        "\n",
        "modelo.fit(X_tr, y_tr) \n",
        "sc_pr = modelo.predict(X_te)\n",
        "schits = sc_pr == y_te\n",
        "schits, sum(schits)/len(schits)"
      ],
      "metadata": {
        "colab": {
          "base_uri": "https://localhost:8080/"
        },
        "id": "X58-l3dfU5rK",
        "outputId": "f4a31c1e-77d3-4cd3-fcf2-8d4d2122634a"
      },
      "execution_count": 27,
      "outputs": [
        {
          "output_type": "execute_result",
          "data": {
            "text/plain": [
              "(array([ True,  True,  True,  True,  True,  True,  True,  True,  True,\n",
              "         True,  True,  True,  True,  True,  True,  True,  True,  True,\n",
              "         True,  True,  True,  True,  True,  True,  True,  True,  True,\n",
              "         True,  True,  True, False,  True,  True,  True,  True,  True,\n",
              "         True,  True,  True,  True,  True,  True,  True,  True,  True,\n",
              "         True,  True,  True,  True,  True,  True,  True,  True,  True,\n",
              "         True,  True,  True,  True,  True,  True,  True,  True,  True,\n",
              "        False,  True,  True,  True,  True, False,  True,  True,  True,\n",
              "        False,  True,  True,  True,  True,  True,  True,  True, False,\n",
              "         True,  True,  True,  True,  True,  True,  True,  True,  True,\n",
              "         True,  True,  True,  True,  True,  True,  True,  True,  True,\n",
              "         True]), 0.95)"
            ]
          },
          "metadata": {},
          "execution_count": 27
        }
      ]
    },
    {
      "cell_type": "code",
      "source": [
        "from sklearn.pipeline import Pipeline\n",
        "from sklearn.ensemble import RandomForestClassifier, AdaBoostClassifier\n",
        "pipetotal = Pipeline([    \n",
        "    ('adaboost', AdaBoostClassifier()),\n",
        "    ('KNN', KNeighborsClassifier()),\n",
        "    ('Gaussian', GaussianNB()),\n",
        "    ('Perceptron',Perceptron()),\n",
        "    ('Arvore', DecisionTreeClassifier()),\n",
        "    ('ExtraTree', ExtraTreesClassifier(random_state=42))\n",
        "\n",
        "  ])"
      ],
      "metadata": {
        "colab": {
          "base_uri": "https://localhost:8080/",
          "height": 380
        },
        "id": "GEAGEUJCAwit",
        "outputId": "eb0d7134-df9d-494b-efee-65d82309fbde"
      },
      "execution_count": 48,
      "outputs": [
        {
          "output_type": "error",
          "ename": "ValueError",
          "evalue": "ignored",
          "traceback": [
            "\u001b[0;31m---------------------------------------------------------------------------\u001b[0m",
            "\u001b[0;31mValueError\u001b[0m                                Traceback (most recent call last)",
            "\u001b[0;32m<ipython-input-48-c1e34f3a1b31>\u001b[0m in \u001b[0;36m<module>\u001b[0;34m\u001b[0m\n\u001b[1;32m      4\u001b[0m pipetotal = Pipeline([       \n\u001b[1;32m      5\u001b[0m     ('neural',  MLPClassifier(solver='adam',max_iter=2000, hidden_layer_sizes=5, random_state=1, tol=0.0000001),\n\u001b[0;32m----> 6\u001b[0;31m      \u001b[0;34m'adaboost'\u001b[0m\u001b[0;34m,\u001b[0m \u001b[0mAdaBoostClassifier\u001b[0m\u001b[0;34m(\u001b[0m\u001b[0;34m)\u001b[0m\u001b[0;34m\u001b[0m\u001b[0;34m\u001b[0m\u001b[0m\n\u001b[0m\u001b[1;32m      7\u001b[0m      ),    \n\u001b[1;32m      8\u001b[0m \u001b[0;34m\u001b[0m\u001b[0m\n",
            "\u001b[0;32m/usr/local/lib/python3.7/dist-packages/sklearn/pipeline.py\u001b[0m in \u001b[0;36m__init__\u001b[0;34m(self, steps, memory, verbose)\u001b[0m\n\u001b[1;32m    146\u001b[0m         \u001b[0mself\u001b[0m\u001b[0;34m.\u001b[0m\u001b[0mmemory\u001b[0m \u001b[0;34m=\u001b[0m \u001b[0mmemory\u001b[0m\u001b[0;34m\u001b[0m\u001b[0;34m\u001b[0m\u001b[0m\n\u001b[1;32m    147\u001b[0m         \u001b[0mself\u001b[0m\u001b[0;34m.\u001b[0m\u001b[0mverbose\u001b[0m \u001b[0;34m=\u001b[0m \u001b[0mverbose\u001b[0m\u001b[0;34m\u001b[0m\u001b[0;34m\u001b[0m\u001b[0m\n\u001b[0;32m--> 148\u001b[0;31m         \u001b[0mself\u001b[0m\u001b[0;34m.\u001b[0m\u001b[0m_validate_steps\u001b[0m\u001b[0;34m(\u001b[0m\u001b[0;34m)\u001b[0m\u001b[0;34m\u001b[0m\u001b[0;34m\u001b[0m\u001b[0m\n\u001b[0m\u001b[1;32m    149\u001b[0m \u001b[0;34m\u001b[0m\u001b[0m\n\u001b[1;32m    150\u001b[0m     \u001b[0;32mdef\u001b[0m \u001b[0mget_params\u001b[0m\u001b[0;34m(\u001b[0m\u001b[0mself\u001b[0m\u001b[0;34m,\u001b[0m \u001b[0mdeep\u001b[0m\u001b[0;34m=\u001b[0m\u001b[0;32mTrue\u001b[0m\u001b[0;34m)\u001b[0m\u001b[0;34m:\u001b[0m\u001b[0;34m\u001b[0m\u001b[0;34m\u001b[0m\u001b[0m\n",
            "\u001b[0;32m/usr/local/lib/python3.7/dist-packages/sklearn/pipeline.py\u001b[0m in \u001b[0;36m_validate_steps\u001b[0;34m(self)\u001b[0m\n\u001b[1;32m    190\u001b[0m \u001b[0;34m\u001b[0m\u001b[0m\n\u001b[1;32m    191\u001b[0m     \u001b[0;32mdef\u001b[0m \u001b[0m_validate_steps\u001b[0m\u001b[0;34m(\u001b[0m\u001b[0mself\u001b[0m\u001b[0;34m)\u001b[0m\u001b[0;34m:\u001b[0m\u001b[0;34m\u001b[0m\u001b[0;34m\u001b[0m\u001b[0m\n\u001b[0;32m--> 192\u001b[0;31m         \u001b[0mnames\u001b[0m\u001b[0;34m,\u001b[0m \u001b[0mestimators\u001b[0m \u001b[0;34m=\u001b[0m \u001b[0mzip\u001b[0m\u001b[0;34m(\u001b[0m\u001b[0;34m*\u001b[0m\u001b[0mself\u001b[0m\u001b[0;34m.\u001b[0m\u001b[0msteps\u001b[0m\u001b[0;34m)\u001b[0m\u001b[0;34m\u001b[0m\u001b[0;34m\u001b[0m\u001b[0m\n\u001b[0m\u001b[1;32m    193\u001b[0m \u001b[0;34m\u001b[0m\u001b[0m\n\u001b[1;32m    194\u001b[0m         \u001b[0;31m# validate names\u001b[0m\u001b[0;34m\u001b[0m\u001b[0;34m\u001b[0m\u001b[0;34m\u001b[0m\u001b[0m\n",
            "\u001b[0;31mValueError\u001b[0m: too many values to unpack (expected 2)"
          ]
        }
      ]
    },
    {
      "cell_type": "code",
      "source": [
        "from sklearn.model_selection import GridSearchCV\n",
        "import numpy as np\n",
        "from sklearn.model_selection import cross_validate\n",
        "\n",
        "parametros = {\n",
        "    \n",
        "}\n",
        "\n",
        "modelo = GridSearchCV(pipetotal, param_grid=parametros)\n",
        "\n",
        "scores = cross_validate(modelo, X_tr, y_tr)\n",
        "scores, np.mean(scores['test_score'])\n",
        "\n"
      ],
      "metadata": {
        "colab": {
          "base_uri": "https://localhost:8080/"
        },
        "id": "VvZfPjkjV2Yp",
        "outputId": "4aed5182-eef2-4d26-e59d-0f397f9f1af7"
      },
      "execution_count": 47,
      "outputs": [
        {
          "output_type": "execute_result",
          "data": {
            "text/plain": [
              "({'fit_time': array([59.91768408, 58.43842435, 62.90733433, 36.15804935, 48.54087853]),\n",
              "  'score_time': array([0.00167441, 0.00165105, 0.00164652, 0.00167751, 0.00171423]),\n",
              "  'test_score': array([0.01666667, 0.01666667, 0.03333333, 0.03333333, 0.03333333])},\n",
              " 0.026666666666666665)"
            ]
          },
          "metadata": {},
          "execution_count": 47
        }
      ]
    },
    {
      "cell_type": "code",
      "source": [
        "modelo.fit(X_tr, y_tr)\n",
        "modelo.best_estimator_"
      ],
      "metadata": {
        "colab": {
          "base_uri": "https://localhost:8080/"
        },
        "id": "iVbop7CJEmxk",
        "outputId": "d5816d0b-ac35-45c2-b850-45398399fa81"
      },
      "execution_count": 42,
      "outputs": [
        {
          "output_type": "execute_result",
          "data": {
            "text/plain": [
              "Pipeline(steps=[('ExtraTree', ExtraTreesClassifier(random_state=42))])"
            ]
          },
          "metadata": {},
          "execution_count": 42
        }
      ]
    }
  ]
}